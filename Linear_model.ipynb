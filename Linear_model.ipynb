{
  "nbformat": 4,
  "nbformat_minor": 0,
  "metadata": {
    "colab": {
      "provenance": [],
      "authorship_tag": "ABX9TyNqiCK1GGpuHVX+L+M0GLVT",
      "include_colab_link": true
    },
    "kernelspec": {
      "name": "python3",
      "display_name": "Python 3"
    },
    "language_info": {
      "name": "python"
    }
  },
  "cells": [
    {
      "cell_type": "markdown",
      "metadata": {
        "id": "view-in-github",
        "colab_type": "text"
      },
      "source": [
        "<a href=\"https://colab.research.google.com/github/pseudonacer/pose_conversion_pfe/blob/main/Linear_model.ipynb\" target=\"_parent\"><img src=\"https://colab.research.google.com/assets/colab-badge.svg\" alt=\"Open In Colab\"/></a>"
      ]
    },
    {
      "cell_type": "code",
      "execution_count": null,
      "metadata": {
        "id": "GWBQTXfMnDni"
      },
      "outputs": [],
      "source": [
        "class Block(tf.keras.Model):\n",
        "    def __init__(self, embed = 1024, dropout_rate = 0.3):\n",
        "        super(Block, self).__init__()\n",
        "        self.d1 = tf.keras.layers.Dense(embed)\n",
        "        self.bn1= tf.keras.layers.BatchNormalization()\n",
        "        self.ac1= tf.keras.layers.ReLU()\n",
        "        self.dp1= tf.keras.layers.Dropout(dropout_rate)\n",
        "\n",
        "    def call(self,x):\n",
        "        x = self.dp1(self.ac1(self.bn1(self.d1(x))))\n",
        "        return x  "
      ]
    },
    {
      "cell_type": "code",
      "source": [
        "class OuterBlock(tf.keras.Model):\n",
        "    def __init__(self,embed = 1024, dropout_rate = 0.3):\n",
        "        super(OuterBlock, self).__init__()\n",
        "        self.fc = tf.keras.layers.Dense(embed, name = \"resize\")\n",
        "        self.b1 = Block(embed ,dropout_rate)\n",
        "        self.b2 = Block(embed ,dropout_rate)\n",
        "        \n",
        "    def call(self, inputs):\n",
        "        skip = self.fc(inputs)\n",
        "        x = self.b1(inputs)\n",
        "        x = self.b2(x)\n",
        "        #x = self.add([x, skip])\n",
        "        return skip + x"
      ],
      "metadata": {
        "id": "KYD9WKoGnJMf"
      },
      "execution_count": null,
      "outputs": []
    },
    {
      "cell_type": "code",
      "source": [
        "class OuterBlock2(tf.keras.Model):\n",
        "    def __init__(self, embed = 1024, dropout_rate = 0.3):\n",
        "        super(OuterBlock2,  self).__init__()\n",
        "        self.b1 = OuterBlock(embed, dropout_rate)\n",
        "        self.b2 = OuterBlock(embed, dropout_rate)\n",
        "        self.d3 = tf.keras.layers.Dense(156)\n",
        "#        self.reshape = tf.keras.layers.Reshape((1,52,3))\n",
        "        \n",
        "    def call(self, inputs):\n",
        "        x = self.b1(inputs)\n",
        "        x = self.b2(x)\n",
        "        x = self.d3(x)\n",
        "#        x = self.reshape(x)\n",
        "        return x "
      ],
      "metadata": {
        "id": "NJn1R28SnZkU"
      },
      "execution_count": null,
      "outputs": []
    }
  ]
}