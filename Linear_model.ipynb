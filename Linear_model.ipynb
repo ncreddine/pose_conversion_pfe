{
  "cells": [
    {
      "cell_type": "markdown",
      "metadata": {
        "id": "view-in-github",
        "colab_type": "text"
      },
      "source": [
        "<a href=\"https://colab.research.google.com/github/pseudonacer/pose_conversion_pfe/blob/main/Linear_model.ipynb\" target=\"_parent\"><img src=\"https://colab.research.google.com/assets/colab-badge.svg\" alt=\"Open In Colab\"/></a>"
      ]
    },
    {
      "cell_type": "markdown",
      "source": [
        "## Imports"
      ],
      "metadata": {
        "id": "MnVMnQmuDksF"
      },
      "id": "MnVMnQmuDksF"
    },
    {
      "cell_type": "code",
      "execution_count": null,
      "id": "8fa70778",
      "metadata": {
        "id": "8fa70778"
      },
      "outputs": [],
      "source": [
        "import tensorflow as tf\n",
        "import matplotlib.pyplot\n",
        "import numpy as np\n",
        "import tqdm"
      ]
    },
    {
      "cell_type": "markdown",
      "id": "9f7e6f18",
      "metadata": {
        "id": "9f7e6f18"
      },
      "source": [
        "# Load dataset"
      ]
    },
    {
      "cell_type": "code",
      "execution_count": null,
      "id": "524b8f12",
      "metadata": {
        "id": "524b8f12"
      },
      "outputs": [],
      "source": [
        "import h5py\n",
        "import numpy as np\n"
      ]
    },
    {
      "cell_type": "code",
      "source": [
        "from google.colab import drive\n",
        "drive.mount('/content/gdrive')"
      ],
      "metadata": {
        "id": "qxfc7Jx0EdZG",
        "colab": {
          "base_uri": "https://localhost:8080/"
        },
        "outputId": "d40a4a5e-a008-4263-cb6e-54b0fd66c996"
      },
      "id": "qxfc7Jx0EdZG",
      "execution_count": null,
      "outputs": [
        {
          "output_type": "stream",
          "name": "stdout",
          "text": [
            "Mounted at /content/gdrive\n"
          ]
        }
      ]
    },
    {
      "cell_type": "code",
      "execution_count": null,
      "id": "6304544f",
      "metadata": {
        "id": "6304544f"
      },
      "outputs": [],
      "source": [
        "pose2d = np.load(\"/content/gdrive/MyDrive/PFE/pose2D.npy\")\n",
        "pose3d = np.load(\"/content/gdrive/MyDrive/PFE/pose3D.npy\")"
      ]
    },
    {
      "cell_type": "code",
      "source": [
        "pose2d_test = np.load(\"/content/gdrive/MyDrive/PFE/pose2D_test.npy\")\n",
        "pose3d_test = np.load(\"/content/gdrive/MyDrive/PFE/pose3D_test.npy\")"
      ],
      "metadata": {
        "id": "Z5vIOeApE7z0"
      },
      "id": "Z5vIOeApE7z0",
      "execution_count": null,
      "outputs": []
    },
    {
      "cell_type": "markdown",
      "source": [],
      "metadata": {
        "id": "r7JkBNFJGfTm"
      },
      "id": "r7JkBNFJGfTm"
    },
    {
      "cell_type": "markdown",
      "source": [
        "# 1st arch"
      ],
      "metadata": {
        "id": "81ibHegQVs_O"
      },
      "id": "81ibHegQVs_O"
    },
    {
      "cell_type": "code",
      "execution_count": null,
      "id": "a7f7940e",
      "metadata": {
        "id": "a7f7940e"
      },
      "outputs": [],
      "source": [
        "class Block(tf.keras.Model):\n",
        "    def __init__(self, embed = 1024, dropout_rate = 0.3):\n",
        "        super(Block, self).__init__()\n",
        "        self.d1 = tf.keras.layers.Dense(embed)\n",
        "        self.bn1= tf.keras.layers.BatchNormalization()\n",
        "        self.ac1= tf.keras.layers.ReLU()\n",
        "        self.dp1= tf.keras.layers.Dropout(dropout_rate)\n",
        "\n",
        "    def call(self,x):\n",
        "        x = self.dp1(self.ac1(self.bn1(self.d1(x))))\n",
        "        return x  "
      ]
    },
    {
      "cell_type": "code",
      "execution_count": null,
      "id": "bd1657e6",
      "metadata": {
        "id": "bd1657e6"
      },
      "outputs": [],
      "source": [
        "class OuterBlock(tf.keras.Model):\n",
        "    def __init__(self,embed = 1024, dropout_rate = 0.3):\n",
        "        super(OuterBlock, self).__init__()\n",
        "        self.fc = tf.keras.layers.Dense(embed, name = \"resize\")\n",
        "        self.b1 = Block(embed ,dropout_rate)\n",
        "        self.b2 = Block(embed ,dropout_rate)\n",
        "        \n",
        "    def call(self, inputs):\n",
        "        skip = self.fc(inputs)\n",
        "        x = self.b1(inputs)\n",
        "        x = self.b2(x)\n",
        "        #x = self.add([x, skip])\n",
        "        return skip + x"
      ]
    },
    {
      "cell_type": "code",
      "execution_count": null,
      "id": "c67d620e",
      "metadata": {
        "id": "c67d620e"
      },
      "outputs": [],
      "source": [
        "class OuterBlock2(tf.keras.Model):\n",
        "    def __init__(self, embed = 1024, dropout_rate = 0.3):\n",
        "        super(OuterBlock2,  self).__init__()\n",
        "        self.b1 = OuterBlock(embed, dropout_rate)\n",
        "        self.b2 = OuterBlock(embed, dropout_rate)\n",
        "        self.d3 = tf.keras.layers.Dense(156)\n",
        "#        self.reshape = tf.keras.layers.Reshape((1,52,3))\n",
        "        \n",
        "    def call(self, inputs):\n",
        "        x = self.b1(inputs)\n",
        "        x = self.b2(x)\n",
        "        x = self.d3(x)\n",
        "#        x = self.reshape(x)\n",
        "        return x "
      ]
    },
    {
      "cell_type": "markdown",
      "id": "7f58e7ad",
      "metadata": {
        "id": "7f58e7ad"
      },
      "source": [
        "# Training"
      ]
    },
    {
      "cell_type": "code",
      "source": [
        "dropout_rate = 0.3 #by default        \n",
        "epochs = 10\n",
        "batch_size = 128 #or 64\n",
        "Model_DNN = OuterBlock2(embed = 512, dropout_rate = 0.3)\n",
        "\n",
        "Model_DNN.compile(optimizer = tf.keras.optimizers.Adam(learning_rate = 1e-3), loss = tf.keras.losses.MeanAbsoluteError())"
      ],
      "metadata": {
        "id": "JSQVbTeshmWo"
      },
      "id": "JSQVbTeshmWo",
      "execution_count": null,
      "outputs": []
    },
    {
      "cell_type": "code",
      "source": [
        "history = Model_DNN.fit(x = pose2d, y = pose3d, batch_size = batch_size, epochs = 20, validation_split=0.2, shuffle= True)"
      ],
      "metadata": {
        "id": "kfEHgyglo3Sa"
      },
      "id": "kfEHgyglo3Sa",
      "execution_count": null,
      "outputs": []
    },
    {
      "cell_type": "code",
      "source": [
        "save_model_dir = \"/content/conv_pose\"\n",
        "Model_DNN.save(save_model_dir)\n",
        "converter = tf.lite.TFLiteConverter.from_saved_model(save_model_dir)\n",
        "tflite_model = converter.convert()\n",
        "\n",
        "# Save the model.\n",
        "with open('/content/conv_pose.tflite', 'wb') as f:\n",
        "  f.write(tflite_model)"
      ],
      "metadata": {
        "id": "9d3fGX5TajNf"
      },
      "id": "9d3fGX5TajNf",
      "execution_count": null,
      "outputs": []
    },
    {
      "cell_type": "code",
      "source": [
        "import time \n",
        "\n",
        "interpreter = tf.lite.Interpreter(\n",
        "    model_path = \"/content/conv_pose.tflite\",\n",
        "    num_threads=6)\n",
        "interpreter.allocate_tensors()\n",
        "\n",
        "input_details = interpreter.get_input_details()\n",
        "output_details = interpreter.get_output_details()\n",
        "\n",
        "input_data = np.float32(pose2d_test[0]).reshape(1,-1)\n",
        "interpreter.set_tensor(input_details[0]['index'], input_data)\n",
        "\n",
        "start_time = time.time()\n",
        "interpreter.invoke()\n",
        "stop_time = time.time()\n",
        "print(stop_time - start_time)\n",
        "output_data = interpreter.get_tensor(output_details[0]['index'])\n"
      ],
      "metadata": {
        "id": "571ufsRJiqXp"
      },
      "id": "571ufsRJiqXp",
      "execution_count": null,
      "outputs": []
    },
    {
      "cell_type": "code",
      "source": [
        "print(output_data.shape)\n"
      ],
      "metadata": {
        "id": "wb32av3Dktr5"
      },
      "id": "wb32av3Dktr5",
      "execution_count": null,
      "outputs": []
    },
    {
      "cell_type": "code",
      "source": [
        "from google.colab import drive\n",
        "drive.mount('/content/drive')"
      ],
      "metadata": {
        "id": "sHdNzHdBMMW_"
      },
      "id": "sHdNzHdBMMW_",
      "execution_count": null,
      "outputs": []
    },
    {
      "cell_type": "code",
      "source": [
        "# evaluate \n",
        "drive.mount('/content/gdrive')\n",
        "pred =  Model_DNN.predict(pose2d_test)\n",
        "#np.save(\"/content/gdrive/MyDrive/PFE/pred\",pred)"
      ],
      "metadata": {
        "id": "Lvh3jVl6GBTL"
      },
      "id": "Lvh3jVl6GBTL",
      "execution_count": null,
      "outputs": []
    },
    {
      "cell_type": "code",
      "source": [
        "import matplotlib.pyplot as plt\n",
        "from matplotlib import animation\n",
        "from matplotlib import rc\n",
        "rc('animation', html='jshtml')\n",
        "\n",
        "drive.mount('/content/gdrive')\n",
        "\n",
        "PARENTS = [-1, 0, 1, 2, 0, 4, 5, 0, 7, 7, 6, 10, 11, 12, 13, 10, 15, 16, 17, 10, 19, 20, 21, 10, 23, 24, 25, 10, 27, 28, 29, 3, 31, 32, 33, 34, 31, 36, 37, 38, 31, 40, 41, 42, 31, 44, 45, 46, 31, 48, 49, 50] # colors = ((255, 0, 0), (255, 0, 255), (170, 0, 255), (255, 0, 85), (255, 0, 170), (85, 255, 0),\n",
        "default_skeleton = list(zip(range(len(PARENTS)), PARENTS))[1:]\n",
        "\n",
        "\n",
        "def draw_poses(ax, ar, data, default_skeleton, color = \"blue\"):\n",
        "    data = data.reshape(52, 3)\n",
        "    artist = ax.scatter(*data.T, s = 10, color = color)\n",
        "    ar.append(artist)\n",
        "    for origin, end in default_skeleton :\n",
        "        x, y , z   = data[end] \n",
        "        xx, yy, zz = data[origin]\n",
        "        line, = ax.plot([x, xx],[y, yy], [z, zz], color = color,  linewidth = 2)\n",
        "        ar.append(line)\n",
        "    return ax, ar\n",
        "\n",
        "f = h5py.File(\"/content/gdrive/MyDrive/PFE/demo_conan.hdf5\", \"r\")\n",
        "\n",
        "demo_pose2d = np.array(f['pose2d'])\n",
        "demo_pred   = Model_DNN.predict(demo_pose2d)\n",
        "demo_pose3d = np.array(f['pose3d'])\n",
        "\n",
        "artists = []\n",
        "fig = plt.figure(figsize = (10,6))\n",
        "ax = fig.add_subplot(projection = '3d')\n",
        "for i in range(len(demo_pose2d)):\n",
        "  ar = []\n",
        "  ax, ar = draw_poses(ax, ar, demo_pose3d[i], default_skeleton, color = \"blue\")\n",
        "  ax, ar = draw_poses(ax, ar, demo_pred[i], default_skeleton, color = \"red\")\n",
        "  ax.view_init(45,45)\n",
        "  artists.append(ar)\n",
        "ani = animation.ArtistAnimation(fig, artists, interval=20, blit=True, repeat_delay=200) \n",
        "plt.show()"
      ],
      "metadata": {
        "id": "6jhAXUg1Icte"
      },
      "id": "6jhAXUg1Icte",
      "execution_count": null,
      "outputs": []
    },
    {
      "cell_type": "code",
      "source": [
        "ani.save(\"/content/animation.mp4\", writer =  animation.FFMpegWriter(fps=20))"
      ],
      "metadata": {
        "id": "kMDm0Q_qkScT"
      },
      "id": "kMDm0Q_qkScT",
      "execution_count": null,
      "outputs": []
    },
    {
      "cell_type": "code",
      "source": [
        "!sudo apt-get install imagemagick"
      ],
      "metadata": {
        "id": "tIX0sUQb0Sh5"
      },
      "id": "tIX0sUQb0Sh5",
      "execution_count": null,
      "outputs": []
    },
    {
      "cell_type": "code",
      "execution_count": null,
      "id": "ec722356",
      "metadata": {
        "id": "ec722356"
      },
      "outputs": [],
      "source": []
    },
    {
      "cell_type": "markdown",
      "source": [
        "# Conv1D architectures"
      ],
      "metadata": {
        "id": "dTwNooLt50wt"
      },
      "id": "dTwNooLt50wt"
    },
    {
      "cell_type": "code",
      "execution_count": null,
      "metadata": {
        "id": "Q-sHMZEAl18D"
      },
      "outputs": [],
      "source": [
        "class cBlock(tf.keras.Model):\n",
        "    def __init__(self, num_filters = 64, dropout_rate = 0.3):\n",
        "        super(cBlock, self).__init__()\n",
        "        self.d1 = tf.keras.layers.Conv1D(filters = num_filters, kernel_size = 5,  padding = 'same') \n",
        "        self.bn1= tf.keras.layers.BatchNormalization()\n",
        "        self.ac1= tf.keras.layers.ReLU()\n",
        "        self.dp1= tf.keras.layers.Dropout(dropout_rate)\n",
        "\n",
        "    def call(self,x):\n",
        "        x = self.dp1(self.ac1(self.bn1(self.d1(x))))\n",
        "        return x  "
      ],
      "id": "Q-sHMZEAl18D"
    },
    {
      "cell_type": "code",
      "execution_count": null,
      "metadata": {
        "id": "PgQIzADql18G"
      },
      "outputs": [],
      "source": [
        "class ConvBlock_inner(tf.keras.Model):\n",
        "    def __init__(self, num_filters = 64, dropout_rate = 0.3):\n",
        "        super(ConvBlock_inner, self).__init__()\n",
        "        self.b1 = cBlock( num_filters = num_filters ,dropout_rate = dropout_rate )\n",
        "        self.b2 = cBlock( num_filters = num_filters ,dropout_rate = dropout_rate )\n",
        "        self.add = tf.keras.layers.Add()\n",
        "        \n",
        "    def call(self, inputs):\n",
        "        x = self.b1(inputs)\n",
        "        x = self.b2(x)\n",
        "        return inputs + x"
      ],
      "id": "PgQIzADql18G"
    },
    {
      "cell_type": "code",
      "execution_count": null,
      "metadata": {
        "id": "VTvgqZZHl18H"
      },
      "outputs": [],
      "source": [
        "class ConvBlock_outer(tf.keras.Model):\n",
        "    def __init__(self, num_filters = [128, 128] , dropout_rate = 0.3):\n",
        "        super(ConvBlock_outer,  self).__init__()\n",
        "        self.reshape = tf.keras.layers.Reshape((104,1))\n",
        "        self.b1 = ConvBlock_inner(num_filters[0], dropout_rate)\n",
        "        self.b2 = ConvBlock_inner(num_filters[1], dropout_rate)\n",
        "        self.flatten = tf.keras.layers.Flatten()\n",
        "        self.d3 = tf.keras.layers.Dense(156)\n",
        "        \n",
        "    def call(self, inputs):\n",
        "        x = self.reshape(inputs)\n",
        "        x = self.b1(x)\n",
        "        x = self.b2(x)\n",
        "        x = self.flatten(x)\n",
        "        x = self.d3(x)\n",
        "        return x "
      ],
      "id": "VTvgqZZHl18H"
    },
    {
      "cell_type": "code",
      "source": [
        "dropout_rate = 0.3 #by default        \n",
        "epochs = 10\n",
        "batch_size = 128 #or 64\n",
        "model_conv = ConvBlock_outer()\n",
        "\n",
        "model_conv.compile(optimizer = tf.keras.optimizers.Adam(learning_rate = 1e-3), loss = tf.keras.losses.MeanAbsoluteError())"
      ],
      "metadata": {
        "id": "8NAcpGKs6iUn"
      },
      "execution_count": null,
      "outputs": [],
      "id": "8NAcpGKs6iUn"
    },
    {
      "cell_type": "code",
      "source": [
        "history = model_conv.fit(x = pose2d, y = pose3d, batch_size = batch_size, epochs = 20, validation_split=0.2, shuffle= True)"
      ],
      "metadata": {
        "id": "_yqvVBky6iUn"
      },
      "execution_count": null,
      "outputs": [],
      "id": "_yqvVBky6iUn"
    },
    {
      "cell_type": "markdown",
      "source": [
        "\n",
        "# SemGCN"
      ],
      "metadata": {
        "id": "tBb0mvenTvLd"
      },
      "id": "tBb0mvenTvLd"
    },
    {
      "cell_type": "code",
      "source": [
        "! git clone https://github.com/garyzhao/SemGCN.git"
      ],
      "metadata": {
        "colab": {
          "base_uri": "https://localhost:8080/"
        },
        "id": "sH5zQt-BTrnO",
        "outputId": "34082b94-dd1d-4ba4-d3f8-4916762b5553"
      },
      "id": "sH5zQt-BTrnO",
      "execution_count": null,
      "outputs": [
        {
          "output_type": "stream",
          "name": "stdout",
          "text": [
            "Cloning into 'SemGCN'...\n",
            "remote: Enumerating objects: 76, done.\u001b[K\n",
            "remote: Counting objects: 100% (3/3), done.\u001b[K\n",
            "remote: Compressing objects: 100% (3/3), done.\u001b[K\n",
            "remote: Total 76 (delta 0), reused 1 (delta 0), pack-reused 73\u001b[K\n",
            "Unpacking objects: 100% (76/76), 6.10 MiB | 14.55 MiB/s, done.\n"
          ]
        }
      ]
    },
    {
      "cell_type": "code",
      "source": [
        "import sys\n",
        "sys.path.insert(1, \"/content/gdrive/MyDrive/PFE/SemGCN/\")"
      ],
      "metadata": {
        "id": "ETKAN4Xz8SUZ"
      },
      "id": "ETKAN4Xz8SUZ",
      "execution_count": null,
      "outputs": []
    },
    {
      "cell_type": "code",
      "source": [
        "!python3 /content/gdrive/MyDrive/PFE/SemGCN/main_colab.py  --dropout 0.2 --hid_dim 256 --num_layers 3 --batch_size 64  --lr 0.001 --non_local --checkpoint /content/gdrive/MyDrive/PFE --resume /content/gdrive/MyDrive/PFE/2023-01-27T09:34:10.370082/ckpt_best.pth.tar\n"
      ],
      "metadata": {
        "id": "2vjYi0TwWx7A",
        "colab": {
          "base_uri": "https://localhost:8080/"
        },
        "outputId": "5e2a4233-035e-4a21-98e3-1a66f37474ef"
      },
      "id": "2vjYi0TwWx7A",
      "execution_count": null,
      "outputs": [
        {
          "output_type": "stream",
          "name": "stdout",
          "text": [
            "==> Using settings Namespace(actions='*', batch_size=64, checkpoint='/content/gdrive/MyDrive/PFE', dataset='h36m', downsample=1, dropout=0.2, epochs=100, evaluate='', hid_dim=256, keypoints='gt', lr=0.001, lr_decay=100000, lr_gamma=0.96, max_norm=True, non_local=True, num_layers=3, num_workers=8, resume='/content/gdrive/MyDrive/PFE/2023-01-27T09:34:10.370082/ckpt_best.pth.tar', snapshot=5)\n",
            "==> Loading dataset...\n",
            "==> Preparing data...\n",
            "==> Loading 2D detections...\n",
            "==> Creating model...\n",
            "==> Total parameters: 1.33M\n",
            "==> Loading checkpoint '/content/gdrive/MyDrive/PFE/2023-01-27T09:34:10.370082/ckpt_best.pth.tar'\n",
            "==> Loaded checkpoint (Epoch: 30 | Error: 290.15651578903197)\n",
            "\n",
            "Epoch: 31 | LR: 0.00100000\n",
            "\u001b[KTrain |#######                         | (627/2689) Data: 0.000545s | Batch: 0.054s | Total: 0:00:34 | ETA: 0:01:27 | Loss:  0.1234Traceback (most recent call last):\n",
            "  File \"/content/gdrive/MyDrive/PFE/SemGCN/main_colab.py\", line 304, in <module>\n",
            "    main(parse_args())\n",
            "  File \"/content/gdrive/MyDrive/PFE/SemGCN/main_colab.py\", line 193, in main\n",
            "    epoch_loss, lr_now, glob_step = train(train_loader, model_pos, criterion, optimizer, device, args.lr, lr_now,\n",
            "  File \"/content/gdrive/MyDrive/PFE/SemGCN/main_colab.py\", line 244, in train\n",
            "    loss_3d_pos.backward()\n",
            "  File \"/usr/local/lib/python3.8/dist-packages/torch/_tensor.py\", line 488, in backward\n",
            "    torch.autograd.backward(\n",
            "  File \"/usr/local/lib/python3.8/dist-packages/torch/autograd/__init__.py\", line 197, in backward\n",
            "    Variable._execution_engine.run_backward(  # Calls into the C++ engine to run the backward pass\n",
            "KeyboardInterrupt\n",
            "^C\n"
          ]
        }
      ]
    },
    {
      "cell_type": "code",
      "source": [
        "import torch\n",
        "import torch.nn as nn\n",
        "import torch.backends.cudnn as cudnn\n",
        "from torch.utils.data import Dataset, DataLoader\n",
        "\n",
        "\n",
        "from progress.bar import Bar\n",
        "from common.log import Logger, savefig\n",
        "from common.utils import AverageMeter, lr_decay, save_ckpt\n",
        "from common.graph_utils import adj_mx_from_skeleton\n",
        "from common.data_utils import fetch, read_3d_data, create_2d_data\n",
        "from common.loss import mpjpe, p_mpjpe\n",
        "from common.skeleton import  Skeleton\n",
        "from models.sem_gcn import SemGCN\n",
        "\n",
        "\n",
        "check = torch.load(\"/content/gdrive/MyDrive/PFE/2023-01-27T09:34:10.370082/ckpt_best.pth.tar\", map_location=\"cuda:0\")"
      ],
      "metadata": {
        "id": "pnPm1jIhhftY"
      },
      "id": "pnPm1jIhhftY",
      "execution_count": null,
      "outputs": []
    },
    {
      "cell_type": "code",
      "source": [
        "pats_skeleton = Skeleton(parents = [-1, 0, 1, 2, 0, 4, 5, 0, 7, 7, 6, 10, 11, 12, 13, 10, 15, 16, 17, 10, 19, 20, 21, 10, 23, 24, 25, 10, 27, 28, 29, 3, 31, 32, 33, 34, 31, 36, 37, 38, 31, 40, 41, 42, 31, 44, 45, 46, 31, 48, 49, 50],\n",
        "                            joints_left =  [4, 5, 6, 9, 10, 11, 12, 13, 14, 15, 16, 17, 18, 19, 20, 21, 22, 23, 24, 25, 26, 27, 28, 29, 30],\n",
        "                            joints_right = [1, 2, 3, 8, 31, 32, 33, 34, 35, 36, 37 ,38, 39, 40, 41, 42, 43, 44, 45, 46, 47, 48, 49, 50, 51],\n",
        "                            joints_group = [[0,7], [8,9], [1,4], [2, 31], [5, 10], [11,12] , [13,14], [15,16], [17,18], [19, 20], [21, 22], [23,24], [25, 26], [27, 28], [29, 30], [32, 33], [34, 35], [36, 37], [38, 39], [40, 41], [42,43],[44,45],[46,47],[48,49],[50,51], [15, 27]])\n"
      ],
      "metadata": {
        "id": "CuQxocaEzUHw"
      },
      "id": "CuQxocaEzUHw",
      "execution_count": null,
      "outputs": []
    },
    {
      "cell_type": "code",
      "source": [
        "device = torch.device(\"cuda\")\n",
        "adj = adj_mx_from_skeleton(pats_skeleton)\n",
        "model_pos = SemGCN(adj, 256, num_layers=3, p_dropout=0.2,\n",
        "                       nodes_group=pats_skeleton.joints_group()).to(device)"
      ],
      "metadata": {
        "id": "xUmPgK7ClT9P"
      },
      "id": "xUmPgK7ClT9P",
      "execution_count": null,
      "outputs": []
    },
    {
      "cell_type": "code",
      "source": [
        "model_pos.load_state_dict(check[\"state_dict\"])"
      ],
      "metadata": {
        "colab": {
          "base_uri": "https://localhost:8080/"
        },
        "id": "aT9jyWVWxJHE",
        "outputId": "ca0a957c-40d6-4eb6-cd07-77abe689a6cf"
      },
      "id": "aT9jyWVWxJHE",
      "execution_count": null,
      "outputs": [
        {
          "output_type": "execute_result",
          "data": {
            "text/plain": [
              "<All keys matched successfully>"
            ]
          },
          "metadata": {},
          "execution_count": 12
        }
      ]
    },
    {
      "cell_type": "markdown",
      "source": [
        "# Export to tflite"
      ],
      "metadata": {
        "id": "PlLIrEFhwSXd"
      },
      "id": "PlLIrEFhwSXd"
    },
    {
      "cell_type": "code",
      "source": [
        "!pip install onnx"
      ],
      "metadata": {
        "colab": {
          "base_uri": "https://localhost:8080/"
        },
        "id": "_i5DpHnt6csI",
        "outputId": "d2eff8a4-22ba-4b50-9ae4-5772caad9e91"
      },
      "id": "_i5DpHnt6csI",
      "execution_count": null,
      "outputs": [
        {
          "output_type": "stream",
          "name": "stdout",
          "text": [
            "Looking in indexes: https://pypi.org/simple, https://us-python.pkg.dev/colab-wheels/public/simple/\n",
            "Requirement already satisfied: onnx in /usr/local/lib/python3.8/dist-packages (1.12.0)\n",
            "Requirement already satisfied: numpy>=1.16.6 in /usr/local/lib/python3.8/dist-packages (from onnx) (1.21.6)\n",
            "Requirement already satisfied: typing-extensions>=3.6.2.1 in /usr/local/lib/python3.8/dist-packages (from onnx) (4.4.0)\n",
            "Requirement already satisfied: protobuf<=3.20.1,>=3.12.2 in /usr/local/lib/python3.8/dist-packages (from onnx) (3.19.6)\n"
          ]
        }
      ]
    },
    {
      "cell_type": "code",
      "source": [
        "!pip install pytorch-to-tflite"
      ],
      "metadata": {
        "colab": {
          "base_uri": "https://localhost:8080/"
        },
        "id": "x9Xavm_h381J",
        "outputId": "5eb70f62-fc7f-4113-9e52-5bced6a12cc4"
      },
      "id": "x9Xavm_h381J",
      "execution_count": null,
      "outputs": [
        {
          "output_type": "stream",
          "name": "stdout",
          "text": [
            "Looking in indexes: https://pypi.org/simple, https://us-python.pkg.dev/colab-wheels/public/simple/\n",
            "Collecting pytorch-to-tflite\n",
            "  Using cached pytorch_to_tflite-0.0.4-py3-none-any.whl (9.7 kB)\n",
            "Requirement already satisfied: tensorflow in /usr/local/lib/python3.8/dist-packages (from pytorch-to-tflite) (2.9.2)\n",
            "Requirement already satisfied: packaging in /usr/local/lib/python3.8/dist-packages (from pytorch-to-tflite) (21.3)\n",
            "Requirement already satisfied: onnx in /usr/local/lib/python3.8/dist-packages (from pytorch-to-tflite) (1.12.0)\n",
            "Collecting pytorch\n",
            "  Using cached pytorch-1.0.2.tar.gz (689 bytes)\n",
            "  Preparing metadata (setup.py) ... \u001b[?25l\u001b[?25hdone\n",
            "Requirement already satisfied: pip in /usr/local/lib/python3.8/dist-packages (from pytorch-to-tflite) (22.0.4)\n",
            "Requirement already satisfied: protobuf<=3.20.1,>=3.12.2 in /usr/local/lib/python3.8/dist-packages (from onnx->pytorch-to-tflite) (3.19.6)\n",
            "Requirement already satisfied: numpy>=1.16.6 in /usr/local/lib/python3.8/dist-packages (from onnx->pytorch-to-tflite) (1.21.6)\n",
            "Requirement already satisfied: typing-extensions>=3.6.2.1 in /usr/local/lib/python3.8/dist-packages (from onnx->pytorch-to-tflite) (4.4.0)\n",
            "Requirement already satisfied: pyparsing!=3.0.5,>=2.0.2 in /usr/local/lib/python3.8/dist-packages (from packaging->pytorch-to-tflite) (3.0.9)\n",
            "Requirement already satisfied: setuptools in /usr/local/lib/python3.8/dist-packages (from tensorflow->pytorch-to-tflite) (57.4.0)\n",
            "Requirement already satisfied: tensorboard<2.10,>=2.9 in /usr/local/lib/python3.8/dist-packages (from tensorflow->pytorch-to-tflite) (2.9.1)\n",
            "Requirement already satisfied: keras-preprocessing>=1.1.1 in /usr/local/lib/python3.8/dist-packages (from tensorflow->pytorch-to-tflite) (1.1.2)\n",
            "Requirement already satisfied: libclang>=13.0.0 in /usr/local/lib/python3.8/dist-packages (from tensorflow->pytorch-to-tflite) (15.0.6.1)\n",
            "Requirement already satisfied: six>=1.12.0 in /usr/local/lib/python3.8/dist-packages (from tensorflow->pytorch-to-tflite) (1.15.0)\n",
            "Requirement already satisfied: astunparse>=1.6.0 in /usr/local/lib/python3.8/dist-packages (from tensorflow->pytorch-to-tflite) (1.6.3)\n",
            "Requirement already satisfied: termcolor>=1.1.0 in /usr/local/lib/python3.8/dist-packages (from tensorflow->pytorch-to-tflite) (2.2.0)\n",
            "Requirement already satisfied: gast<=0.4.0,>=0.2.1 in /usr/local/lib/python3.8/dist-packages (from tensorflow->pytorch-to-tflite) (0.4.0)\n",
            "Requirement already satisfied: h5py>=2.9.0 in /usr/local/lib/python3.8/dist-packages (from tensorflow->pytorch-to-tflite) (3.1.0)\n",
            "Requirement already satisfied: tensorflow-estimator<2.10.0,>=2.9.0rc0 in /usr/local/lib/python3.8/dist-packages (from tensorflow->pytorch-to-tflite) (2.9.0)\n",
            "Requirement already satisfied: flatbuffers<2,>=1.12 in /usr/local/lib/python3.8/dist-packages (from tensorflow->pytorch-to-tflite) (1.12)\n",
            "Requirement already satisfied: keras<2.10.0,>=2.9.0rc0 in /usr/local/lib/python3.8/dist-packages (from tensorflow->pytorch-to-tflite) (2.9.0)\n",
            "Requirement already satisfied: wrapt>=1.11.0 in /usr/local/lib/python3.8/dist-packages (from tensorflow->pytorch-to-tflite) (1.14.1)\n",
            "Requirement already satisfied: grpcio<2.0,>=1.24.3 in /usr/local/lib/python3.8/dist-packages (from tensorflow->pytorch-to-tflite) (1.51.1)\n",
            "Requirement already satisfied: google-pasta>=0.1.1 in /usr/local/lib/python3.8/dist-packages (from tensorflow->pytorch-to-tflite) (0.2.0)\n",
            "Requirement already satisfied: opt-einsum>=2.3.2 in /usr/local/lib/python3.8/dist-packages (from tensorflow->pytorch-to-tflite) (3.3.0)\n",
            "Requirement already satisfied: tensorflow-io-gcs-filesystem>=0.23.1 in /usr/local/lib/python3.8/dist-packages (from tensorflow->pytorch-to-tflite) (0.29.0)\n",
            "Requirement already satisfied: absl-py>=1.0.0 in /usr/local/lib/python3.8/dist-packages (from tensorflow->pytorch-to-tflite) (1.3.0)\n",
            "Requirement already satisfied: wheel<1.0,>=0.23.0 in /usr/local/lib/python3.8/dist-packages (from astunparse>=1.6.0->tensorflow->pytorch-to-tflite) (0.38.4)\n",
            "Requirement already satisfied: google-auth<3,>=1.6.3 in /usr/local/lib/python3.8/dist-packages (from tensorboard<2.10,>=2.9->tensorflow->pytorch-to-tflite) (2.16.0)\n",
            "Requirement already satisfied: werkzeug>=1.0.1 in /usr/local/lib/python3.8/dist-packages (from tensorboard<2.10,>=2.9->tensorflow->pytorch-to-tflite) (1.0.1)\n",
            "Requirement already satisfied: google-auth-oauthlib<0.5,>=0.4.1 in /usr/local/lib/python3.8/dist-packages (from tensorboard<2.10,>=2.9->tensorflow->pytorch-to-tflite) (0.4.6)\n",
            "Requirement already satisfied: requests<3,>=2.21.0 in /usr/local/lib/python3.8/dist-packages (from tensorboard<2.10,>=2.9->tensorflow->pytorch-to-tflite) (2.25.1)\n",
            "Requirement already satisfied: tensorboard-data-server<0.7.0,>=0.6.0 in /usr/local/lib/python3.8/dist-packages (from tensorboard<2.10,>=2.9->tensorflow->pytorch-to-tflite) (0.6.1)\n",
            "Requirement already satisfied: tensorboard-plugin-wit>=1.6.0 in /usr/local/lib/python3.8/dist-packages (from tensorboard<2.10,>=2.9->tensorflow->pytorch-to-tflite) (1.8.1)\n",
            "Requirement already satisfied: markdown>=2.6.8 in /usr/local/lib/python3.8/dist-packages (from tensorboard<2.10,>=2.9->tensorflow->pytorch-to-tflite) (3.4.1)\n",
            "Requirement already satisfied: pyasn1-modules>=0.2.1 in /usr/local/lib/python3.8/dist-packages (from google-auth<3,>=1.6.3->tensorboard<2.10,>=2.9->tensorflow->pytorch-to-tflite) (0.2.8)\n",
            "Requirement already satisfied: cachetools<6.0,>=2.0.0 in /usr/local/lib/python3.8/dist-packages (from google-auth<3,>=1.6.3->tensorboard<2.10,>=2.9->tensorflow->pytorch-to-tflite) (5.2.1)\n",
            "Requirement already satisfied: rsa<5,>=3.1.4 in /usr/local/lib/python3.8/dist-packages (from google-auth<3,>=1.6.3->tensorboard<2.10,>=2.9->tensorflow->pytorch-to-tflite) (4.9)\n",
            "Requirement already satisfied: requests-oauthlib>=0.7.0 in /usr/local/lib/python3.8/dist-packages (from google-auth-oauthlib<0.5,>=0.4.1->tensorboard<2.10,>=2.9->tensorflow->pytorch-to-tflite) (1.3.1)\n",
            "Requirement already satisfied: importlib-metadata>=4.4 in /usr/local/lib/python3.8/dist-packages (from markdown>=2.6.8->tensorboard<2.10,>=2.9->tensorflow->pytorch-to-tflite) (6.0.0)\n",
            "Requirement already satisfied: urllib3<1.27,>=1.21.1 in /usr/local/lib/python3.8/dist-packages (from requests<3,>=2.21.0->tensorboard<2.10,>=2.9->tensorflow->pytorch-to-tflite) (1.24.3)\n",
            "Requirement already satisfied: certifi>=2017.4.17 in /usr/local/lib/python3.8/dist-packages (from requests<3,>=2.21.0->tensorboard<2.10,>=2.9->tensorflow->pytorch-to-tflite) (2022.12.7)\n",
            "Requirement already satisfied: chardet<5,>=3.0.2 in /usr/local/lib/python3.8/dist-packages (from requests<3,>=2.21.0->tensorboard<2.10,>=2.9->tensorflow->pytorch-to-tflite) (4.0.0)\n",
            "Requirement already satisfied: idna<3,>=2.5 in /usr/local/lib/python3.8/dist-packages (from requests<3,>=2.21.0->tensorboard<2.10,>=2.9->tensorflow->pytorch-to-tflite) (2.10)\n",
            "Requirement already satisfied: zipp>=0.5 in /usr/local/lib/python3.8/dist-packages (from importlib-metadata>=4.4->markdown>=2.6.8->tensorboard<2.10,>=2.9->tensorflow->pytorch-to-tflite) (3.11.0)\n",
            "Requirement already satisfied: pyasn1<0.5.0,>=0.4.6 in /usr/local/lib/python3.8/dist-packages (from pyasn1-modules>=0.2.1->google-auth<3,>=1.6.3->tensorboard<2.10,>=2.9->tensorflow->pytorch-to-tflite) (0.4.8)\n",
            "Requirement already satisfied: oauthlib>=3.0.0 in /usr/local/lib/python3.8/dist-packages (from requests-oauthlib>=0.7.0->google-auth-oauthlib<0.5,>=0.4.1->tensorboard<2.10,>=2.9->tensorflow->pytorch-to-tflite) (3.2.2)\n",
            "Building wheels for collected packages: pytorch\n",
            "  \u001b[1;31merror\u001b[0m: \u001b[1msubprocess-exited-with-error\u001b[0m\n",
            "  \n",
            "  \u001b[31m×\u001b[0m \u001b[32mpython setup.py bdist_wheel\u001b[0m did not run successfully.\n",
            "  \u001b[31m│\u001b[0m exit code: \u001b[1;36m1\u001b[0m\n",
            "  \u001b[31m╰─>\u001b[0m See above for output.\n",
            "  \n",
            "  \u001b[1;35mnote\u001b[0m: This error originates from a subprocess, and is likely not a problem with pip.\n",
            "  Building wheel for pytorch (setup.py) ... \u001b[?25lerror\n",
            "\u001b[31m  ERROR: Failed building wheel for pytorch\u001b[0m\u001b[31m\n",
            "\u001b[0m\u001b[?25h  Running setup.py clean for pytorch\n",
            "Failed to build pytorch\n",
            "Installing collected packages: pytorch, pytorch-to-tflite\n",
            "  \u001b[1;31merror\u001b[0m: \u001b[1msubprocess-exited-with-error\u001b[0m\n",
            "  \n",
            "  \u001b[31m×\u001b[0m \u001b[32mRunning setup.py install for pytorch\u001b[0m did not run successfully.\n",
            "  \u001b[31m│\u001b[0m exit code: \u001b[1;36m1\u001b[0m\n",
            "  \u001b[31m╰─>\u001b[0m See above for output.\n",
            "  \n",
            "  \u001b[1;35mnote\u001b[0m: This error originates from a subprocess, and is likely not a problem with pip.\n",
            "  Running setup.py install for pytorch ... \u001b[?25l\u001b[?25herror\n",
            "\u001b[1;31merror\u001b[0m: \u001b[1mlegacy-install-failure\u001b[0m\n",
            "\n",
            "\u001b[31m×\u001b[0m Encountered error while trying to install package.\n",
            "\u001b[31m╰─>\u001b[0m pytorch\n",
            "\n",
            "\u001b[1;35mnote\u001b[0m: This is an issue with the package mentioned above, not pip.\n",
            "\u001b[1;36mhint\u001b[0m: See above for output from the failure.\n"
          ]
        }
      ]
    },
    {
      "cell_type": "code",
      "source": [
        "! git clone https://github.com/onnx/onnx-tensorflow.git \n",
        "! cd onnx-tensorflow/ && pip install -e ."
      ],
      "metadata": {
        "colab": {
          "base_uri": "https://localhost:8080/"
        },
        "id": "lrPNa5JJ6q_p",
        "outputId": "d091a70c-8b9e-4fb0-d7ed-b8e03cc025f7"
      },
      "id": "lrPNa5JJ6q_p",
      "execution_count": null,
      "outputs": [
        {
          "output_type": "stream",
          "name": "stdout",
          "text": [
            "fatal: destination path 'onnx-tensorflow' already exists and is not an empty directory.\n",
            "Looking in indexes: https://pypi.org/simple, https://us-python.pkg.dev/colab-wheels/public/simple/\n",
            "Obtaining file:///content/onnx-tensorflow\n",
            "  Preparing metadata (setup.py) ... \u001b[?25l\u001b[?25hdone\n",
            "Requirement already satisfied: onnx>=1.10.2 in /usr/local/lib/python3.8/dist-packages (from onnx-tf==1.10.0) (1.12.0)\n",
            "Requirement already satisfied: PyYAML in /usr/local/lib/python3.8/dist-packages (from onnx-tf==1.10.0) (6.0)\n",
            "Requirement already satisfied: tensorflow_addons in /usr/local/lib/python3.8/dist-packages (from onnx-tf==1.10.0) (0.19.0)\n",
            "Requirement already satisfied: tensorflow_probability in /usr/local/lib/python3.8/dist-packages (from onnx-tf==1.10.0) (0.17.0)\n",
            "Requirement already satisfied: protobuf<=3.20.1,>=3.12.2 in /usr/local/lib/python3.8/dist-packages (from onnx>=1.10.2->onnx-tf==1.10.0) (3.19.6)\n",
            "Requirement already satisfied: numpy>=1.16.6 in /usr/local/lib/python3.8/dist-packages (from onnx>=1.10.2->onnx-tf==1.10.0) (1.21.6)\n",
            "Requirement already satisfied: typing-extensions>=3.6.2.1 in /usr/local/lib/python3.8/dist-packages (from onnx>=1.10.2->onnx-tf==1.10.0) (4.4.0)\n",
            "Requirement already satisfied: packaging in /usr/local/lib/python3.8/dist-packages (from tensorflow_addons->onnx-tf==1.10.0) (21.3)\n",
            "Requirement already satisfied: typeguard>=2.7 in /usr/local/lib/python3.8/dist-packages (from tensorflow_addons->onnx-tf==1.10.0) (2.7.1)\n",
            "Requirement already satisfied: six>=1.10.0 in /usr/local/lib/python3.8/dist-packages (from tensorflow_probability->onnx-tf==1.10.0) (1.15.0)\n",
            "Requirement already satisfied: gast>=0.3.2 in /usr/local/lib/python3.8/dist-packages (from tensorflow_probability->onnx-tf==1.10.0) (0.4.0)\n",
            "Requirement already satisfied: absl-py in /usr/local/lib/python3.8/dist-packages (from tensorflow_probability->onnx-tf==1.10.0) (1.3.0)\n",
            "Requirement already satisfied: decorator in /usr/local/lib/python3.8/dist-packages (from tensorflow_probability->onnx-tf==1.10.0) (4.4.2)\n",
            "Requirement already satisfied: cloudpickle>=1.3 in /usr/local/lib/python3.8/dist-packages (from tensorflow_probability->onnx-tf==1.10.0) (2.2.0)\n",
            "Requirement already satisfied: dm-tree in /usr/local/lib/python3.8/dist-packages (from tensorflow_probability->onnx-tf==1.10.0) (0.1.8)\n",
            "Requirement already satisfied: pyparsing!=3.0.5,>=2.0.2 in /usr/local/lib/python3.8/dist-packages (from packaging->tensorflow_addons->onnx-tf==1.10.0) (3.0.9)\n",
            "Installing collected packages: onnx-tf\n",
            "  Attempting uninstall: onnx-tf\n",
            "    Found existing installation: onnx-tf 1.10.0\n",
            "    Uninstalling onnx-tf-1.10.0:\n",
            "      Successfully uninstalled onnx-tf-1.10.0\n",
            "  Running setup.py develop for onnx-tf\n",
            "Successfully installed onnx-tf-1.10.0\n"
          ]
        }
      ]
    },
    {
      "cell_type": "code",
      "source": [
        "import onnx\n",
        "\n",
        "# Load the ONNX model\n",
        "model = onnx.load(\"model_pos.onnx\")\n",
        "\n",
        "from onnx_tf.backend import prepare\n",
        "\n",
        "tf_rep = prepare(model)\n",
        "\n",
        "tf_rep.export_graph(\"\")\n",
        "# Check that the IR is well formed\n",
        "# onnx.checker.check_model(model)\n",
        "\n",
        "# # Print a Human readable representation of the graph\n",
        "# onnx.helper.printable_graph(model.graph)"
      ],
      "metadata": {
        "colab": {
          "base_uri": "https://localhost:8080/",
          "height": 296
        },
        "id": "sWRcPSMO7Pbn",
        "outputId": "900149d4-8155-47a5-845f-86da910672e7"
      },
      "id": "sWRcPSMO7Pbn",
      "execution_count": null,
      "outputs": [
        {
          "output_type": "error",
          "ename": "BackendIsNotSupposedToImplementIt",
          "evalue": "ignored",
          "traceback": [
            "\u001b[0;31m---------------------------------------------------------------------------\u001b[0m",
            "\u001b[0;31mBackendIsNotSupposedToImplementIt\u001b[0m         Traceback (most recent call last)",
            "\u001b[0;32m<ipython-input-73-259d35df6777>\u001b[0m in \u001b[0;36m<module>\u001b[0;34m\u001b[0m\n\u001b[1;32m      8\u001b[0m \u001b[0mtf_rep\u001b[0m \u001b[0;34m=\u001b[0m \u001b[0mprepare\u001b[0m\u001b[0;34m(\u001b[0m\u001b[0mmodel\u001b[0m\u001b[0;34m)\u001b[0m\u001b[0;34m\u001b[0m\u001b[0;34m\u001b[0m\u001b[0m\n\u001b[1;32m      9\u001b[0m \u001b[0;34m\u001b[0m\u001b[0m\n\u001b[0;32m---> 10\u001b[0;31m \u001b[0mtf_rep\u001b[0m\u001b[0;34m.\u001b[0m\u001b[0mexport_graph\u001b[0m\u001b[0;34m(\u001b[0m\u001b[0;34m\"/content\"\u001b[0m\u001b[0;34m)\u001b[0m\u001b[0;34m\u001b[0m\u001b[0;34m\u001b[0m\u001b[0m\n\u001b[0m\u001b[1;32m     11\u001b[0m \u001b[0;31m# Check that the IR is well formed\u001b[0m\u001b[0;34m\u001b[0m\u001b[0;34m\u001b[0m\u001b[0;34m\u001b[0m\u001b[0m\n\u001b[1;32m     12\u001b[0m \u001b[0;31m# onnx.checker.check_model(model)\u001b[0m\u001b[0;34m\u001b[0m\u001b[0;34m\u001b[0m\u001b[0;34m\u001b[0m\u001b[0m\n",
            "\u001b[0;32m/usr/local/lib/python3.8/dist-packages/onnx_tf/backend_rep.py\u001b[0m in \u001b[0;36mexport_graph\u001b[0;34m(self, path)\u001b[0m\n",
            "\u001b[0;32m/usr/local/lib/python3.8/dist-packages/tensorflow/python/eager/def_function.py\u001b[0m in \u001b[0;36mget_concrete_function\u001b[0;34m(self, *args, **kwargs)\u001b[0m\n\u001b[1;32m   1237\u001b[0m   \u001b[0;32mdef\u001b[0m \u001b[0mget_concrete_function\u001b[0m\u001b[0;34m(\u001b[0m\u001b[0mself\u001b[0m\u001b[0;34m,\u001b[0m \u001b[0;34m*\u001b[0m\u001b[0margs\u001b[0m\u001b[0;34m,\u001b[0m \u001b[0;34m**\u001b[0m\u001b[0mkwargs\u001b[0m\u001b[0;34m)\u001b[0m\u001b[0;34m:\u001b[0m\u001b[0;34m\u001b[0m\u001b[0;34m\u001b[0m\u001b[0m\n\u001b[1;32m   1238\u001b[0m     \u001b[0;31m# Implements GenericFunction.get_concrete_function.\u001b[0m\u001b[0;34m\u001b[0m\u001b[0;34m\u001b[0m\u001b[0;34m\u001b[0m\u001b[0m\n\u001b[0;32m-> 1239\u001b[0;31m     \u001b[0mconcrete\u001b[0m \u001b[0;34m=\u001b[0m \u001b[0mself\u001b[0m\u001b[0;34m.\u001b[0m\u001b[0m_get_concrete_function_garbage_collected\u001b[0m\u001b[0;34m(\u001b[0m\u001b[0;34m*\u001b[0m\u001b[0margs\u001b[0m\u001b[0;34m,\u001b[0m \u001b[0;34m**\u001b[0m\u001b[0mkwargs\u001b[0m\u001b[0;34m)\u001b[0m\u001b[0;34m\u001b[0m\u001b[0;34m\u001b[0m\u001b[0m\n\u001b[0m\u001b[1;32m   1240\u001b[0m     \u001b[0mconcrete\u001b[0m\u001b[0;34m.\u001b[0m\u001b[0m_garbage_collector\u001b[0m\u001b[0;34m.\u001b[0m\u001b[0mrelease\u001b[0m\u001b[0;34m(\u001b[0m\u001b[0;34m)\u001b[0m  \u001b[0;31m# pylint: disable=protected-access\u001b[0m\u001b[0;34m\u001b[0m\u001b[0;34m\u001b[0m\u001b[0m\n\u001b[1;32m   1241\u001b[0m     \u001b[0;32mreturn\u001b[0m \u001b[0mconcrete\u001b[0m\u001b[0;34m\u001b[0m\u001b[0;34m\u001b[0m\u001b[0m\n",
            "\u001b[0;32m/usr/local/lib/python3.8/dist-packages/tensorflow/python/eager/def_function.py\u001b[0m in \u001b[0;36m_get_concrete_function_garbage_collected\u001b[0;34m(self, *args, **kwargs)\u001b[0m\n\u001b[1;32m   1217\u001b[0m       \u001b[0;32mif\u001b[0m \u001b[0mself\u001b[0m\u001b[0;34m.\u001b[0m\u001b[0m_stateful_fn\u001b[0m \u001b[0;32mis\u001b[0m \u001b[0;32mNone\u001b[0m\u001b[0;34m:\u001b[0m\u001b[0;34m\u001b[0m\u001b[0;34m\u001b[0m\u001b[0m\n\u001b[1;32m   1218\u001b[0m         \u001b[0minitializers\u001b[0m \u001b[0;34m=\u001b[0m \u001b[0;34m[\u001b[0m\u001b[0;34m]\u001b[0m\u001b[0;34m\u001b[0m\u001b[0;34m\u001b[0m\u001b[0m\n\u001b[0;32m-> 1219\u001b[0;31m         \u001b[0mself\u001b[0m\u001b[0;34m.\u001b[0m\u001b[0m_initialize\u001b[0m\u001b[0;34m(\u001b[0m\u001b[0margs\u001b[0m\u001b[0;34m,\u001b[0m \u001b[0mkwargs\u001b[0m\u001b[0;34m,\u001b[0m \u001b[0madd_initializers_to\u001b[0m\u001b[0;34m=\u001b[0m\u001b[0minitializers\u001b[0m\u001b[0;34m)\u001b[0m\u001b[0;34m\u001b[0m\u001b[0;34m\u001b[0m\u001b[0m\n\u001b[0m\u001b[1;32m   1220\u001b[0m         \u001b[0mself\u001b[0m\u001b[0;34m.\u001b[0m\u001b[0m_initialize_uninitialized_variables\u001b[0m\u001b[0;34m(\u001b[0m\u001b[0minitializers\u001b[0m\u001b[0;34m)\u001b[0m\u001b[0;34m\u001b[0m\u001b[0;34m\u001b[0m\u001b[0m\n\u001b[1;32m   1221\u001b[0m \u001b[0;34m\u001b[0m\u001b[0m\n",
            "\u001b[0;32m/usr/local/lib/python3.8/dist-packages/tensorflow/python/eager/def_function.py\u001b[0m in \u001b[0;36m_initialize\u001b[0;34m(self, args, kwds, add_initializers_to)\u001b[0m\n\u001b[1;32m    783\u001b[0m     \u001b[0mself\u001b[0m\u001b[0;34m.\u001b[0m\u001b[0m_graph_deleter\u001b[0m \u001b[0;34m=\u001b[0m \u001b[0mFunctionDeleter\u001b[0m\u001b[0;34m(\u001b[0m\u001b[0mself\u001b[0m\u001b[0;34m.\u001b[0m\u001b[0m_lifted_initializer_graph\u001b[0m\u001b[0;34m)\u001b[0m\u001b[0;34m\u001b[0m\u001b[0;34m\u001b[0m\u001b[0m\n\u001b[1;32m    784\u001b[0m     self._concrete_stateful_fn = (\n\u001b[0;32m--> 785\u001b[0;31m         self._stateful_fn._get_concrete_function_internal_garbage_collected(  # pylint: disable=protected-access\n\u001b[0m\u001b[1;32m    786\u001b[0m             *args, **kwds))\n\u001b[1;32m    787\u001b[0m \u001b[0;34m\u001b[0m\u001b[0m\n",
            "\u001b[0;32m/usr/local/lib/python3.8/dist-packages/tensorflow/python/eager/function.py\u001b[0m in \u001b[0;36m_get_concrete_function_internal_garbage_collected\u001b[0;34m(self, *args, **kwargs)\u001b[0m\n\u001b[1;32m   2478\u001b[0m       \u001b[0margs\u001b[0m\u001b[0;34m,\u001b[0m \u001b[0mkwargs\u001b[0m \u001b[0;34m=\u001b[0m \u001b[0;32mNone\u001b[0m\u001b[0;34m,\u001b[0m \u001b[0;32mNone\u001b[0m\u001b[0;34m\u001b[0m\u001b[0;34m\u001b[0m\u001b[0m\n\u001b[1;32m   2479\u001b[0m     \u001b[0;32mwith\u001b[0m \u001b[0mself\u001b[0m\u001b[0;34m.\u001b[0m\u001b[0m_lock\u001b[0m\u001b[0;34m:\u001b[0m\u001b[0;34m\u001b[0m\u001b[0;34m\u001b[0m\u001b[0m\n\u001b[0;32m-> 2480\u001b[0;31m       \u001b[0mgraph_function\u001b[0m\u001b[0;34m,\u001b[0m \u001b[0m_\u001b[0m \u001b[0;34m=\u001b[0m \u001b[0mself\u001b[0m\u001b[0;34m.\u001b[0m\u001b[0m_maybe_define_function\u001b[0m\u001b[0;34m(\u001b[0m\u001b[0margs\u001b[0m\u001b[0;34m,\u001b[0m \u001b[0mkwargs\u001b[0m\u001b[0;34m)\u001b[0m\u001b[0;34m\u001b[0m\u001b[0;34m\u001b[0m\u001b[0m\n\u001b[0m\u001b[1;32m   2481\u001b[0m     \u001b[0;32mreturn\u001b[0m \u001b[0mgraph_function\u001b[0m\u001b[0;34m\u001b[0m\u001b[0;34m\u001b[0m\u001b[0m\n\u001b[1;32m   2482\u001b[0m \u001b[0;34m\u001b[0m\u001b[0m\n",
            "\u001b[0;32m/usr/local/lib/python3.8/dist-packages/tensorflow/python/eager/function.py\u001b[0m in \u001b[0;36m_maybe_define_function\u001b[0;34m(self, args, kwargs)\u001b[0m\n\u001b[1;32m   2709\u001b[0m             \u001b[0;34m(\u001b[0m\u001b[0margs\u001b[0m\u001b[0;34m,\u001b[0m \u001b[0mkwargs\u001b[0m\u001b[0;34m)\u001b[0m \u001b[0;34m=\u001b[0m \u001b[0mcache_key\u001b[0m\u001b[0;34m.\u001b[0m\u001b[0m_placeholder_value\u001b[0m\u001b[0;34m(\u001b[0m\u001b[0;34m)\u001b[0m  \u001b[0;31m# pylint: disable=protected-access\u001b[0m\u001b[0;34m\u001b[0m\u001b[0;34m\u001b[0m\u001b[0m\n\u001b[1;32m   2710\u001b[0m \u001b[0;34m\u001b[0m\u001b[0m\n\u001b[0;32m-> 2711\u001b[0;31m           \u001b[0mgraph_function\u001b[0m \u001b[0;34m=\u001b[0m \u001b[0mself\u001b[0m\u001b[0;34m.\u001b[0m\u001b[0m_create_graph_function\u001b[0m\u001b[0;34m(\u001b[0m\u001b[0margs\u001b[0m\u001b[0;34m,\u001b[0m \u001b[0mkwargs\u001b[0m\u001b[0;34m)\u001b[0m\u001b[0;34m\u001b[0m\u001b[0;34m\u001b[0m\u001b[0m\n\u001b[0m\u001b[1;32m   2712\u001b[0m           self._function_cache.add(cache_key, cache_key_deletion_observer,\n\u001b[1;32m   2713\u001b[0m                                    graph_function)\n",
            "\u001b[0;32m/usr/local/lib/python3.8/dist-packages/tensorflow/python/eager/function.py\u001b[0m in \u001b[0;36m_create_graph_function\u001b[0;34m(self, args, kwargs)\u001b[0m\n\u001b[1;32m   2625\u001b[0m     \u001b[0marg_names\u001b[0m \u001b[0;34m=\u001b[0m \u001b[0mbase_arg_names\u001b[0m \u001b[0;34m+\u001b[0m \u001b[0mmissing_arg_names\u001b[0m\u001b[0;34m\u001b[0m\u001b[0;34m\u001b[0m\u001b[0m\n\u001b[1;32m   2626\u001b[0m     graph_function = ConcreteFunction(\n\u001b[0;32m-> 2627\u001b[0;31m         func_graph_module.func_graph_from_py_func(\n\u001b[0m\u001b[1;32m   2628\u001b[0m             \u001b[0mself\u001b[0m\u001b[0;34m.\u001b[0m\u001b[0m_name\u001b[0m\u001b[0;34m,\u001b[0m\u001b[0;34m\u001b[0m\u001b[0;34m\u001b[0m\u001b[0m\n\u001b[1;32m   2629\u001b[0m             \u001b[0mself\u001b[0m\u001b[0;34m.\u001b[0m\u001b[0m_python_function\u001b[0m\u001b[0;34m,\u001b[0m\u001b[0;34m\u001b[0m\u001b[0;34m\u001b[0m\u001b[0m\n",
            "\u001b[0;32m/usr/local/lib/python3.8/dist-packages/tensorflow/python/framework/func_graph.py\u001b[0m in \u001b[0;36mfunc_graph_from_py_func\u001b[0;34m(name, python_func, args, kwargs, signature, func_graph, autograph, autograph_options, add_control_dependencies, arg_names, op_return_value, collections, capture_by_value, acd_record_initial_resource_uses)\u001b[0m\n\u001b[1;32m   1139\u001b[0m         \u001b[0m_\u001b[0m\u001b[0;34m,\u001b[0m \u001b[0moriginal_func\u001b[0m \u001b[0;34m=\u001b[0m \u001b[0mtf_decorator\u001b[0m\u001b[0;34m.\u001b[0m\u001b[0munwrap\u001b[0m\u001b[0;34m(\u001b[0m\u001b[0mpython_func\u001b[0m\u001b[0;34m)\u001b[0m\u001b[0;34m\u001b[0m\u001b[0;34m\u001b[0m\u001b[0m\n\u001b[1;32m   1140\u001b[0m \u001b[0;34m\u001b[0m\u001b[0m\n\u001b[0;32m-> 1141\u001b[0;31m       \u001b[0mfunc_outputs\u001b[0m \u001b[0;34m=\u001b[0m \u001b[0mpython_func\u001b[0m\u001b[0;34m(\u001b[0m\u001b[0;34m*\u001b[0m\u001b[0mfunc_args\u001b[0m\u001b[0;34m,\u001b[0m \u001b[0;34m**\u001b[0m\u001b[0mfunc_kwargs\u001b[0m\u001b[0;34m)\u001b[0m\u001b[0;34m\u001b[0m\u001b[0;34m\u001b[0m\u001b[0m\n\u001b[0m\u001b[1;32m   1142\u001b[0m \u001b[0;34m\u001b[0m\u001b[0m\n\u001b[1;32m   1143\u001b[0m       \u001b[0;31m# invariant: `func_outputs` contains only Tensors, CompositeTensors,\u001b[0m\u001b[0;34m\u001b[0m\u001b[0;34m\u001b[0m\u001b[0;34m\u001b[0m\u001b[0m\n",
            "\u001b[0;32m/usr/local/lib/python3.8/dist-packages/tensorflow/python/eager/def_function.py\u001b[0m in \u001b[0;36mwrapped_fn\u001b[0;34m(*args, **kwds)\u001b[0m\n\u001b[1;32m    675\u001b[0m         \u001b[0;31m# the function a weak reference to itself to avoid a reference cycle.\u001b[0m\u001b[0;34m\u001b[0m\u001b[0;34m\u001b[0m\u001b[0;34m\u001b[0m\u001b[0m\n\u001b[1;32m    676\u001b[0m         \u001b[0;32mwith\u001b[0m \u001b[0mOptionalXlaContext\u001b[0m\u001b[0;34m(\u001b[0m\u001b[0mcompile_with_xla\u001b[0m\u001b[0;34m)\u001b[0m\u001b[0;34m:\u001b[0m\u001b[0;34m\u001b[0m\u001b[0;34m\u001b[0m\u001b[0m\n\u001b[0;32m--> 677\u001b[0;31m           \u001b[0mout\u001b[0m \u001b[0;34m=\u001b[0m \u001b[0mweak_wrapped_fn\u001b[0m\u001b[0;34m(\u001b[0m\u001b[0;34m)\u001b[0m\u001b[0;34m.\u001b[0m\u001b[0m__wrapped__\u001b[0m\u001b[0;34m(\u001b[0m\u001b[0;34m*\u001b[0m\u001b[0margs\u001b[0m\u001b[0;34m,\u001b[0m \u001b[0;34m**\u001b[0m\u001b[0mkwds\u001b[0m\u001b[0;34m)\u001b[0m\u001b[0;34m\u001b[0m\u001b[0;34m\u001b[0m\u001b[0m\n\u001b[0m\u001b[1;32m    678\u001b[0m         \u001b[0;32mreturn\u001b[0m \u001b[0mout\u001b[0m\u001b[0;34m\u001b[0m\u001b[0;34m\u001b[0m\u001b[0m\n\u001b[1;32m    679\u001b[0m \u001b[0;34m\u001b[0m\u001b[0m\n",
            "\u001b[0;32m/usr/local/lib/python3.8/dist-packages/tensorflow/python/eager/function.py\u001b[0m in \u001b[0;36mbound_method_wrapper\u001b[0;34m(*args, **kwargs)\u001b[0m\n\u001b[1;32m   3249\u001b[0m     \u001b[0;31m# However, the replacer is still responsible for attaching self properly.\u001b[0m\u001b[0;34m\u001b[0m\u001b[0;34m\u001b[0m\u001b[0;34m\u001b[0m\u001b[0m\n\u001b[1;32m   3250\u001b[0m     \u001b[0;31m# TODO(mdan): Is it possible to do it here instead?\u001b[0m\u001b[0;34m\u001b[0m\u001b[0;34m\u001b[0m\u001b[0;34m\u001b[0m\u001b[0m\n\u001b[0;32m-> 3251\u001b[0;31m     \u001b[0;32mreturn\u001b[0m \u001b[0mwrapped_fn\u001b[0m\u001b[0;34m(\u001b[0m\u001b[0;34m*\u001b[0m\u001b[0margs\u001b[0m\u001b[0;34m,\u001b[0m \u001b[0;34m**\u001b[0m\u001b[0mkwargs\u001b[0m\u001b[0;34m)\u001b[0m\u001b[0;34m\u001b[0m\u001b[0;34m\u001b[0m\u001b[0m\n\u001b[0m\u001b[1;32m   3252\u001b[0m   \u001b[0mweak_bound_method_wrapper\u001b[0m \u001b[0;34m=\u001b[0m \u001b[0mweakref\u001b[0m\u001b[0;34m.\u001b[0m\u001b[0mref\u001b[0m\u001b[0;34m(\u001b[0m\u001b[0mbound_method_wrapper\u001b[0m\u001b[0;34m)\u001b[0m\u001b[0;34m\u001b[0m\u001b[0;34m\u001b[0m\u001b[0m\n\u001b[1;32m   3253\u001b[0m \u001b[0;34m\u001b[0m\u001b[0m\n",
            "\u001b[0;32m/usr/local/lib/python3.8/dist-packages/tensorflow/python/framework/func_graph.py\u001b[0m in \u001b[0;36mautograph_handler\u001b[0;34m(*args, **kwargs)\u001b[0m\n\u001b[1;32m   1114\u001b[0m           \u001b[0;31m# TODO(mdan): Push this block higher in tf.function's call stack.\u001b[0m\u001b[0;34m\u001b[0m\u001b[0;34m\u001b[0m\u001b[0;34m\u001b[0m\u001b[0m\n\u001b[1;32m   1115\u001b[0m           \u001b[0;32mtry\u001b[0m\u001b[0;34m:\u001b[0m\u001b[0;34m\u001b[0m\u001b[0;34m\u001b[0m\u001b[0m\n\u001b[0;32m-> 1116\u001b[0;31m             return autograph.converted_call(\n\u001b[0m\u001b[1;32m   1117\u001b[0m                 \u001b[0moriginal_func\u001b[0m\u001b[0;34m,\u001b[0m\u001b[0;34m\u001b[0m\u001b[0;34m\u001b[0m\u001b[0m\n\u001b[1;32m   1118\u001b[0m                 \u001b[0margs\u001b[0m\u001b[0;34m,\u001b[0m\u001b[0;34m\u001b[0m\u001b[0;34m\u001b[0m\u001b[0m\n",
            "\u001b[0;32m/usr/local/lib/python3.8/dist-packages/tensorflow/python/autograph/impl/api.py\u001b[0m in \u001b[0;36mconverted_call\u001b[0;34m(f, args, kwargs, caller_fn_scope, options)\u001b[0m\n\u001b[1;32m    329\u001b[0m   \u001b[0;32mif\u001b[0m \u001b[0mconversion\u001b[0m\u001b[0;34m.\u001b[0m\u001b[0mis_in_allowlist_cache\u001b[0m\u001b[0;34m(\u001b[0m\u001b[0mf\u001b[0m\u001b[0;34m,\u001b[0m \u001b[0moptions\u001b[0m\u001b[0;34m)\u001b[0m\u001b[0;34m:\u001b[0m\u001b[0;34m\u001b[0m\u001b[0;34m\u001b[0m\u001b[0m\n\u001b[1;32m    330\u001b[0m     \u001b[0mlogging\u001b[0m\u001b[0;34m.\u001b[0m\u001b[0mlog\u001b[0m\u001b[0;34m(\u001b[0m\u001b[0;36m2\u001b[0m\u001b[0;34m,\u001b[0m \u001b[0;34m'Allowlisted %s: from cache'\u001b[0m\u001b[0;34m,\u001b[0m \u001b[0mf\u001b[0m\u001b[0;34m)\u001b[0m\u001b[0;34m\u001b[0m\u001b[0;34m\u001b[0m\u001b[0m\n\u001b[0;32m--> 331\u001b[0;31m     \u001b[0;32mreturn\u001b[0m \u001b[0m_call_unconverted\u001b[0m\u001b[0;34m(\u001b[0m\u001b[0mf\u001b[0m\u001b[0;34m,\u001b[0m \u001b[0margs\u001b[0m\u001b[0;34m,\u001b[0m \u001b[0mkwargs\u001b[0m\u001b[0;34m,\u001b[0m \u001b[0moptions\u001b[0m\u001b[0;34m,\u001b[0m \u001b[0;32mFalse\u001b[0m\u001b[0;34m)\u001b[0m\u001b[0;34m\u001b[0m\u001b[0;34m\u001b[0m\u001b[0m\n\u001b[0m\u001b[1;32m    332\u001b[0m \u001b[0;34m\u001b[0m\u001b[0m\n\u001b[1;32m    333\u001b[0m   \u001b[0;32mif\u001b[0m \u001b[0mag_ctx\u001b[0m\u001b[0;34m.\u001b[0m\u001b[0mcontrol_status_ctx\u001b[0m\u001b[0;34m(\u001b[0m\u001b[0;34m)\u001b[0m\u001b[0;34m.\u001b[0m\u001b[0mstatus\u001b[0m \u001b[0;34m==\u001b[0m \u001b[0mag_ctx\u001b[0m\u001b[0;34m.\u001b[0m\u001b[0mStatus\u001b[0m\u001b[0;34m.\u001b[0m\u001b[0mDISABLED\u001b[0m\u001b[0;34m:\u001b[0m\u001b[0;34m\u001b[0m\u001b[0;34m\u001b[0m\u001b[0m\n",
            "\u001b[0;32m/usr/local/lib/python3.8/dist-packages/tensorflow/python/autograph/impl/api.py\u001b[0m in \u001b[0;36m_call_unconverted\u001b[0;34m(f, args, kwargs, options, update_cache)\u001b[0m\n\u001b[1;32m    453\u001b[0m \u001b[0;34m\u001b[0m\u001b[0m\n\u001b[1;32m    454\u001b[0m   \u001b[0;32mif\u001b[0m \u001b[0minspect\u001b[0m\u001b[0;34m.\u001b[0m\u001b[0mismethod\u001b[0m\u001b[0;34m(\u001b[0m\u001b[0mf\u001b[0m\u001b[0;34m)\u001b[0m \u001b[0;32mand\u001b[0m \u001b[0misinstance\u001b[0m\u001b[0;34m(\u001b[0m\u001b[0mf\u001b[0m\u001b[0;34m.\u001b[0m\u001b[0m__self__\u001b[0m\u001b[0;34m,\u001b[0m \u001b[0mfunction\u001b[0m\u001b[0;34m.\u001b[0m\u001b[0mTfMethodTarget\u001b[0m\u001b[0;34m)\u001b[0m\u001b[0;34m:\u001b[0m\u001b[0;34m\u001b[0m\u001b[0;34m\u001b[0m\u001b[0m\n\u001b[0;32m--> 455\u001b[0;31m     \u001b[0;32mreturn\u001b[0m \u001b[0mf\u001b[0m\u001b[0;34m.\u001b[0m\u001b[0m__self__\u001b[0m\u001b[0;34m.\u001b[0m\u001b[0mcall\u001b[0m\u001b[0;34m(\u001b[0m\u001b[0margs\u001b[0m\u001b[0;34m,\u001b[0m \u001b[0mkwargs\u001b[0m\u001b[0;34m)\u001b[0m\u001b[0;34m\u001b[0m\u001b[0;34m\u001b[0m\u001b[0m\n\u001b[0m\u001b[1;32m    456\u001b[0m \u001b[0;34m\u001b[0m\u001b[0m\n\u001b[1;32m    457\u001b[0m   \u001b[0;32mif\u001b[0m \u001b[0mkwargs\u001b[0m \u001b[0;32mis\u001b[0m \u001b[0;32mnot\u001b[0m \u001b[0;32mNone\u001b[0m\u001b[0;34m:\u001b[0m\u001b[0;34m\u001b[0m\u001b[0;34m\u001b[0m\u001b[0m\n",
            "\u001b[0;32m/usr/local/lib/python3.8/dist-packages/tensorflow/python/eager/function.py\u001b[0m in \u001b[0;36mcall\u001b[0;34m(self, args, kwargs)\u001b[0m\n\u001b[1;32m   3211\u001b[0m     \u001b[0;32mif\u001b[0m \u001b[0mtf_inspect\u001b[0m\u001b[0;34m.\u001b[0m\u001b[0mismethod\u001b[0m\u001b[0;34m(\u001b[0m\u001b[0mwrapped_fn\u001b[0m\u001b[0;34m)\u001b[0m\u001b[0;34m:\u001b[0m\u001b[0;34m\u001b[0m\u001b[0;34m\u001b[0m\u001b[0m\n\u001b[1;32m   3212\u001b[0m       \u001b[0mwrapped_fn\u001b[0m \u001b[0;34m=\u001b[0m \u001b[0msix\u001b[0m\u001b[0;34m.\u001b[0m\u001b[0mget_unbound_function\u001b[0m\u001b[0;34m(\u001b[0m\u001b[0mwrapped_fn\u001b[0m\u001b[0;34m)\u001b[0m\u001b[0;34m\u001b[0m\u001b[0;34m\u001b[0m\u001b[0m\n\u001b[0;32m-> 3213\u001b[0;31m     \u001b[0;32mreturn\u001b[0m \u001b[0mwrapped_fn\u001b[0m\u001b[0;34m(\u001b[0m\u001b[0mself\u001b[0m\u001b[0;34m.\u001b[0m\u001b[0mweakrefself_target__\u001b[0m\u001b[0;34m(\u001b[0m\u001b[0;34m)\u001b[0m\u001b[0;34m,\u001b[0m \u001b[0;34m*\u001b[0m\u001b[0margs\u001b[0m\u001b[0;34m,\u001b[0m \u001b[0;34m**\u001b[0m\u001b[0mkwargs\u001b[0m\u001b[0;34m)\u001b[0m\u001b[0;34m\u001b[0m\u001b[0;34m\u001b[0m\u001b[0m\n\u001b[0m\u001b[1;32m   3214\u001b[0m \u001b[0;34m\u001b[0m\u001b[0m\n\u001b[1;32m   3215\u001b[0m \u001b[0;34m\u001b[0m\u001b[0m\n",
            "\u001b[0;32m/usr/local/lib/python3.8/dist-packages/onnx_tf/backend_tf_module.py\u001b[0m in \u001b[0;36m__call__\u001b[0;34m(self, **kwargs)\u001b[0m\n",
            "\u001b[0;32m/usr/local/lib/python3.8/dist-packages/onnx_tf/backend.py\u001b[0m in \u001b[0;36m_onnx_node_to_tensorflow_op\u001b[0;34m(cls, node, tensor_dict, handlers, opset, strict)\u001b[0m\n",
            "\u001b[0;32m/usr/local/lib/python3.8/dist-packages/onnx_tf/handlers/handler.py\u001b[0m in \u001b[0;36mhandle\u001b[0;34m(cls, node, **kwargs)\u001b[0m\n",
            "\u001b[0;31mBackendIsNotSupposedToImplementIt\u001b[0m: Unsqueeze version 13 is not implemented."
          ]
        }
      ]
    },
    {
      "cell_type": "code",
      "source": [
        "!pip install onnx2keras"
      ],
      "metadata": {
        "id": "CI6Xv1mUkc9a"
      },
      "id": "CI6Xv1mUkc9a",
      "execution_count": null,
      "outputs": []
    },
    {
      "cell_type": "code",
      "source": [
        "\"\"\"\n",
        "The PyTorch2Keras converter interface\n",
        "\"\"\"\n",
        "\n",
        "from onnx2keras import onnx_to_keras\n",
        "import torch\n",
        "import onnx\n",
        "import io\n",
        "import logging\n",
        "\n",
        "\n",
        "def pytorch_to_keras(\n",
        "    model, args, input_shapes=None,\n",
        "    change_ordering=False, verbose=False, name_policy=None,\n",
        "    do_constant_folding=False\n",
        "):\n",
        "    \"\"\"\n",
        "    By given PyTorch model convert layers with ONNX.\n",
        "    Args:\n",
        "        model: pytorch model\n",
        "        args: pytorch model arguments\n",
        "        input_shapes: keras input shapes (using for each InputLayer)\n",
        "        change_ordering: change CHW to HWC\n",
        "        verbose: verbose output\n",
        "        name_policy: use short names, use random-suffix or keep original names for keras layers\n",
        "    Returns:\n",
        "        model: created keras model.\n",
        "    \"\"\"\n",
        "    logger = logging.getLogger('pytorch2keras')\n",
        "\n",
        "    if verbose:\n",
        "        logging.basicConfig(level=logging.DEBUG)\n",
        "\n",
        "    logger.info('Converter is called.')\n",
        "\n",
        "    if name_policy:\n",
        "        logger.warning('Name policy isn\\'t supported now.')\n",
        "\n",
        "    if input_shapes:\n",
        "        logger.warning('Custom shapes isn\\'t supported now.')\n",
        "\n",
        "    if input_shapes and not isinstance(input_shapes, list):\n",
        "        input_shapes = [input_shapes]\n",
        "\n",
        "    if not isinstance(args, list):\n",
        "        args = [args]\n",
        "\n",
        "    args = tuple(args)\n",
        "\n",
        "    dummy_output = model(*args)\n",
        "\n",
        "    if isinstance(dummy_output, torch.autograd.Variable):\n",
        "        dummy_output = [dummy_output]\n",
        "\n",
        "    input_names = ['input_{0}'.format(i) for i in range(len(args))]\n",
        "    output_names = ['output_{0}'.format(i) for i in range(len(dummy_output))]\n",
        "\n",
        "    logger.debug('Input_names:')\n",
        "    logger.debug(input_names)\n",
        "\n",
        "    logger.debug('Output_names:')\n",
        "    logger.debug(output_names)\n",
        "\n",
        "    stream = io.BytesIO()\n",
        "    torch.onnx.export(model, args, stream, do_constant_folding=do_constant_folding, verbose=verbose, input_names=input_names, output_names=output_names)\n",
        "\n",
        "    stream.seek(0)\n",
        "    onnx_model = onnx.load(stream)\n",
        "\n",
        "    k_model = onnx_to_keras(onnx_model=onnx_model, input_names=input_names,\n",
        "                            input_shapes=input_shapes, name_policy=name_policy,\n",
        "                            verbose=verbose, change_ordering=change_ordering)\n",
        "    return k_model"
      ],
      "metadata": {
        "id": "16mEu6DZ204a"
      },
      "id": "16mEu6DZ204a",
      "execution_count": null,
      "outputs": []
    },
    {
      "cell_type": "code",
      "source": [
        "k_model = pytorch_to_keras(model_pos.to(cpu), args = [x.to(cpu)], input_shapes = (52,2) , name_policy= \"random\")"
      ],
      "metadata": {
        "colab": {
          "base_uri": "https://localhost:8080/",
          "height": 366
        },
        "id": "0fqd81ihv8fb",
        "outputId": "0797ac3e-3c73-418b-fa98-04b528696928"
      },
      "id": "0fqd81ihv8fb",
      "execution_count": null,
      "outputs": [
        {
          "output_type": "stream",
          "name": "stderr",
          "text": [
            "WARNING:pytorch2keras:Name policy isn't supported now.\n",
            "WARNING:pytorch2keras:Custom shapes isn't supported now.\n"
          ]
        },
        {
          "output_type": "error",
          "ename": "ValueError",
          "evalue": "ignored",
          "traceback": [
            "\u001b[0;31m---------------------------------------------------------------------------\u001b[0m",
            "\u001b[0;31mValueError\u001b[0m                                Traceback (most recent call last)",
            "\u001b[0;32m<ipython-input-53-93e5e3ba5937>\u001b[0m in \u001b[0;36m<module>\u001b[0;34m\u001b[0m\n\u001b[0;32m----> 1\u001b[0;31m \u001b[0mk_model\u001b[0m \u001b[0;34m=\u001b[0m \u001b[0mpytorch_to_keras\u001b[0m\u001b[0;34m(\u001b[0m\u001b[0mmodel_pos\u001b[0m\u001b[0;34m.\u001b[0m\u001b[0mto\u001b[0m\u001b[0;34m(\u001b[0m\u001b[0mcpu\u001b[0m\u001b[0;34m)\u001b[0m\u001b[0;34m,\u001b[0m \u001b[0margs\u001b[0m \u001b[0;34m=\u001b[0m \u001b[0;34m[\u001b[0m\u001b[0mx\u001b[0m\u001b[0;34m.\u001b[0m\u001b[0mto\u001b[0m\u001b[0;34m(\u001b[0m\u001b[0mcpu\u001b[0m\u001b[0;34m)\u001b[0m\u001b[0;34m]\u001b[0m\u001b[0;34m,\u001b[0m \u001b[0minput_shapes\u001b[0m \u001b[0;34m=\u001b[0m \u001b[0;34m(\u001b[0m\u001b[0;36m52\u001b[0m\u001b[0;34m,\u001b[0m\u001b[0;36m2\u001b[0m\u001b[0;34m)\u001b[0m \u001b[0;34m,\u001b[0m \u001b[0mname_policy\u001b[0m\u001b[0;34m=\u001b[0m \u001b[0;34m\"random\"\u001b[0m\u001b[0;34m)\u001b[0m\u001b[0;34m\u001b[0m\u001b[0;34m\u001b[0m\u001b[0m\n\u001b[0m",
            "\u001b[0;32m<ipython-input-40-59d92bdbeab8>\u001b[0m in \u001b[0;36mpytorch_to_keras\u001b[0;34m(model, args, input_shapes, change_ordering, verbose, name_policy, do_constant_folding)\u001b[0m\n\u001b[1;32m     68\u001b[0m     \u001b[0monnx_model\u001b[0m \u001b[0;34m=\u001b[0m \u001b[0monnx\u001b[0m\u001b[0;34m.\u001b[0m\u001b[0mload\u001b[0m\u001b[0;34m(\u001b[0m\u001b[0mstream\u001b[0m\u001b[0;34m)\u001b[0m\u001b[0;34m\u001b[0m\u001b[0;34m\u001b[0m\u001b[0m\n\u001b[1;32m     69\u001b[0m \u001b[0;34m\u001b[0m\u001b[0m\n\u001b[0;32m---> 70\u001b[0;31m     k_model = onnx_to_keras(onnx_model=onnx_model, input_names=input_names,\n\u001b[0m\u001b[1;32m     71\u001b[0m                             \u001b[0minput_shapes\u001b[0m\u001b[0;34m=\u001b[0m\u001b[0minput_shapes\u001b[0m\u001b[0;34m,\u001b[0m \u001b[0mname_policy\u001b[0m\u001b[0;34m=\u001b[0m\u001b[0mname_policy\u001b[0m\u001b[0;34m,\u001b[0m\u001b[0;34m\u001b[0m\u001b[0;34m\u001b[0m\u001b[0m\n\u001b[1;32m     72\u001b[0m                             verbose=verbose, change_ordering=change_ordering)\n",
            "\u001b[0;32m/usr/local/lib/python3.8/dist-packages/onnx2keras/converter.py\u001b[0m in \u001b[0;36monnx_to_keras\u001b[0;34m(onnx_model, input_names, input_shapes, name_policy, verbose, change_ordering)\u001b[0m\n\u001b[1;32m    173\u001b[0m \u001b[0;34m\u001b[0m\u001b[0m\n\u001b[1;32m    174\u001b[0m         \u001b[0mkeras\u001b[0m\u001b[0;34m.\u001b[0m\u001b[0mbackend\u001b[0m\u001b[0;34m.\u001b[0m\u001b[0mset_image_data_format\u001b[0m\u001b[0;34m(\u001b[0m\u001b[0;34m'channels_first'\u001b[0m\u001b[0;34m)\u001b[0m\u001b[0;34m\u001b[0m\u001b[0;34m\u001b[0m\u001b[0m\n\u001b[0;32m--> 175\u001b[0;31m         AVAILABLE_CONVERTERS[node_type](\n\u001b[0m\u001b[1;32m    176\u001b[0m             \u001b[0mnode\u001b[0m\u001b[0;34m,\u001b[0m\u001b[0;34m\u001b[0m\u001b[0;34m\u001b[0m\u001b[0m\n\u001b[1;32m    177\u001b[0m             \u001b[0mnode_params\u001b[0m\u001b[0;34m,\u001b[0m\u001b[0;34m\u001b[0m\u001b[0;34m\u001b[0m\u001b[0m\n",
            "\u001b[0;32m/usr/local/lib/python3.8/dist-packages/onnx2keras/linear_layers.py\u001b[0m in \u001b[0;36mconvert_gemm\u001b[0;34m(node, params, layers, lambda_func, node_name, keras_name)\u001b[0m\n\u001b[1;32m     48\u001b[0m         \u001b[0;32mexcept\u001b[0m \u001b[0mValueError\u001b[0m\u001b[0;34m:\u001b[0m\u001b[0;34m\u001b[0m\u001b[0;34m\u001b[0m\u001b[0m\n\u001b[1;32m     49\u001b[0m             \u001b[0mreshape\u001b[0m \u001b[0;34m=\u001b[0m \u001b[0mkeras\u001b[0m\u001b[0;34m.\u001b[0m\u001b[0mlayers\u001b[0m\u001b[0;34m.\u001b[0m\u001b[0mReshape\u001b[0m\u001b[0;34m(\u001b[0m\u001b[0;34m[\u001b[0m\u001b[0minput_channels\u001b[0m\u001b[0;34m]\u001b[0m\u001b[0;34m,\u001b[0m \u001b[0mname\u001b[0m\u001b[0;34m=\u001b[0m\u001b[0mkeras_name\u001b[0m \u001b[0;34m+\u001b[0m \u001b[0;34m'_reshape'\u001b[0m\u001b[0;34m)\u001b[0m\u001b[0;34m\u001b[0m\u001b[0;34m\u001b[0m\u001b[0m\n\u001b[0;32m---> 50\u001b[0;31m             \u001b[0mreshaped_x\u001b[0m \u001b[0;34m=\u001b[0m \u001b[0mreshape\u001b[0m\u001b[0;34m(\u001b[0m\u001b[0mlayers\u001b[0m\u001b[0;34m[\u001b[0m\u001b[0mnode\u001b[0m\u001b[0;34m.\u001b[0m\u001b[0minput\u001b[0m\u001b[0;34m[\u001b[0m\u001b[0;36m0\u001b[0m\u001b[0;34m]\u001b[0m\u001b[0;34m]\u001b[0m\u001b[0;34m)\u001b[0m\u001b[0;34m\u001b[0m\u001b[0;34m\u001b[0m\u001b[0m\n\u001b[0m\u001b[1;32m     51\u001b[0m             \u001b[0mlayers\u001b[0m\u001b[0;34m[\u001b[0m\u001b[0mnode_name\u001b[0m\u001b[0;34m]\u001b[0m \u001b[0;34m=\u001b[0m \u001b[0mdense\u001b[0m\u001b[0;34m(\u001b[0m\u001b[0mreshaped_x\u001b[0m\u001b[0;34m)\u001b[0m\u001b[0;34m\u001b[0m\u001b[0;34m\u001b[0m\u001b[0m\n\u001b[1;32m     52\u001b[0m \u001b[0;34m\u001b[0m\u001b[0m\n",
            "\u001b[0;32m/usr/local/lib/python3.8/dist-packages/keras/utils/traceback_utils.py\u001b[0m in \u001b[0;36merror_handler\u001b[0;34m(*args, **kwargs)\u001b[0m\n\u001b[1;32m     65\u001b[0m     \u001b[0;32mexcept\u001b[0m \u001b[0mException\u001b[0m \u001b[0;32mas\u001b[0m \u001b[0me\u001b[0m\u001b[0;34m:\u001b[0m  \u001b[0;31m# pylint: disable=broad-except\u001b[0m\u001b[0;34m\u001b[0m\u001b[0;34m\u001b[0m\u001b[0m\n\u001b[1;32m     66\u001b[0m       \u001b[0mfiltered_tb\u001b[0m \u001b[0;34m=\u001b[0m \u001b[0m_process_traceback_frames\u001b[0m\u001b[0;34m(\u001b[0m\u001b[0me\u001b[0m\u001b[0;34m.\u001b[0m\u001b[0m__traceback__\u001b[0m\u001b[0;34m)\u001b[0m\u001b[0;34m\u001b[0m\u001b[0;34m\u001b[0m\u001b[0m\n\u001b[0;32m---> 67\u001b[0;31m       \u001b[0;32mraise\u001b[0m \u001b[0me\u001b[0m\u001b[0;34m.\u001b[0m\u001b[0mwith_traceback\u001b[0m\u001b[0;34m(\u001b[0m\u001b[0mfiltered_tb\u001b[0m\u001b[0;34m)\u001b[0m \u001b[0;32mfrom\u001b[0m \u001b[0;32mNone\u001b[0m\u001b[0;34m\u001b[0m\u001b[0;34m\u001b[0m\u001b[0m\n\u001b[0m\u001b[1;32m     68\u001b[0m     \u001b[0;32mfinally\u001b[0m\u001b[0;34m:\u001b[0m\u001b[0;34m\u001b[0m\u001b[0;34m\u001b[0m\u001b[0m\n\u001b[1;32m     69\u001b[0m       \u001b[0;32mdel\u001b[0m \u001b[0mfiltered_tb\u001b[0m\u001b[0;34m\u001b[0m\u001b[0;34m\u001b[0m\u001b[0m\n",
            "\u001b[0;32m/usr/lib/python3.8/contextlib.py\u001b[0m in \u001b[0;36m__enter__\u001b[0;34m(self)\u001b[0m\n\u001b[1;32m    111\u001b[0m         \u001b[0;32mdel\u001b[0m \u001b[0mself\u001b[0m\u001b[0;34m.\u001b[0m\u001b[0margs\u001b[0m\u001b[0;34m,\u001b[0m \u001b[0mself\u001b[0m\u001b[0;34m.\u001b[0m\u001b[0mkwds\u001b[0m\u001b[0;34m,\u001b[0m \u001b[0mself\u001b[0m\u001b[0;34m.\u001b[0m\u001b[0mfunc\u001b[0m\u001b[0;34m\u001b[0m\u001b[0;34m\u001b[0m\u001b[0m\n\u001b[1;32m    112\u001b[0m         \u001b[0;32mtry\u001b[0m\u001b[0;34m:\u001b[0m\u001b[0;34m\u001b[0m\u001b[0;34m\u001b[0m\u001b[0m\n\u001b[0;32m--> 113\u001b[0;31m             \u001b[0;32mreturn\u001b[0m \u001b[0mnext\u001b[0m\u001b[0;34m(\u001b[0m\u001b[0mself\u001b[0m\u001b[0;34m.\u001b[0m\u001b[0mgen\u001b[0m\u001b[0;34m)\u001b[0m\u001b[0;34m\u001b[0m\u001b[0;34m\u001b[0m\u001b[0m\n\u001b[0m\u001b[1;32m    114\u001b[0m         \u001b[0;32mexcept\u001b[0m \u001b[0mStopIteration\u001b[0m\u001b[0;34m:\u001b[0m\u001b[0;34m\u001b[0m\u001b[0;34m\u001b[0m\u001b[0m\n\u001b[1;32m    115\u001b[0m             \u001b[0;32mraise\u001b[0m \u001b[0mRuntimeError\u001b[0m\u001b[0;34m(\u001b[0m\u001b[0;34m\"generator didn't yield\"\u001b[0m\u001b[0;34m)\u001b[0m \u001b[0;32mfrom\u001b[0m \u001b[0;32mNone\u001b[0m\u001b[0;34m\u001b[0m\u001b[0;34m\u001b[0m\u001b[0m\n",
            "\u001b[0;31mValueError\u001b[0m: '/gconv_input/gconv_input.0/gconv/MatMul_output_0_reshape/' is not a valid root scope name. A root scope name has to match the following pattern: ^[A-Za-z0-9.][A-Za-z0-9_.\\\\/>-]*$"
          ]
        }
      ]
    },
    {
      "cell_type": "code",
      "execution_count": null,
      "metadata": {
        "id": "kiQeW1f9uJCi"
      },
      "outputs": [],
      "source": [
        "# Install the MLTK (if necessary)\n",
        "!pip install --upgrade silabs-mltk"
      ],
      "id": "kiQeW1f9uJCi"
    },
    {
      "cell_type": "code",
      "execution_count": null,
      "metadata": {
        "id": "LEkvayMduJCl"
      },
      "outputs": [],
      "source": [
        "# Install the standard ONNX Python package\n",
        "# so that we can read the .onnx formatted model file\n",
        "!pip install onnx onnx_tf"
      ],
      "id": "LEkvayMduJCl"
    },
    {
      "cell_type": "code",
      "execution_count": null,
      "metadata": {
        "id": "PQFyD5zJuJCn"
      },
      "outputs": [],
      "source": [
        "# Install the onnsim Python package\n",
        "# This can help reduce the complexity of the generated ONNX model file\n",
        "# https://github.com/daquexian/onnx-simplifier\n",
        "!pip install onnx-simplifier onnxruntime"
      ],
      "id": "PQFyD5zJuJCn"
    },
    {
      "cell_type": "code",
      "execution_count": null,
      "metadata": {
        "id": "61G3eto6uJCq"
      },
      "outputs": [],
      "source": [
        "# Install the openvino_dev Python package\n",
        "# This allows for converting the ONNX model to an intermediate \n",
        "# format so we can then convert it to a TF-Lite model format\n",
        "# https://docs.openvino.ai/\n",
        "!pip install openvino_dev"
      ],
      "id": "61G3eto6uJCq"
    },
    {
      "cell_type": "code",
      "execution_count": null,
      "metadata": {
        "id": "6Ubr2JD3uJCq"
      },
      "outputs": [],
      "source": [
        "# Install the openvino2tensorflow Python package\n",
        "# This allows for converting from the openvino format to the .tflite model format\n",
        "# We primarily need this so we can convert from the NCHW used by .onnx \n",
        "# to the NHWC used by .tflite\n",
        "# https://github.com/PINTO0309/openvino2tensorflow\n",
        "!pip install openvino2tensorflow  tensorflow_datasets"
      ],
      "id": "6Ubr2JD3uJCq"
    },
    {
      "cell_type": "markdown",
      "source": [
        "### Save Pytorch model into onnx "
      ],
      "metadata": {
        "id": "9nSW1Cn7y-rL"
      },
      "id": "9nSW1Cn7y-rL"
    },
    {
      "cell_type": "code",
      "source": [
        "cpu = torch.device(\"cpu\")\n",
        "x = pose2d[0]\n",
        "x = torch.from_numpy(x).to(device).float()\n",
        "x = torch.reshape(x, (1, 52, 2))\n",
        "torch.onnx.export(model_pos.to(cpu), x.to(cpu), \"model_pos.onnx\", export_params=True, verbose=True)\n"
      ],
      "metadata": {
        "id": "Gxd_S1Wt9ND-"
      },
      "id": "Gxd_S1Wt9ND-",
      "execution_count": null,
      "outputs": []
    },
    {
      "cell_type": "code",
      "source": [
        "k_model = pytorch_to_keras(\n"
      ],
      "metadata": {
        "id": "mmOIgLpCoJQI"
      },
      "id": "mmOIgLpCoJQI",
      "execution_count": null,
      "outputs": []
    },
    {
      "cell_type": "code",
      "execution_count": null,
      "metadata": {
        "id": "tmPQWEGCuJC6",
        "outputId": "4f5005d1-7440-4254-8410-f9522d5bd642",
        "colab": {
          "base_uri": "https://localhost:8080/"
        }
      },
      "outputs": [
        {
          "output_type": "stream",
          "name": "stdout",
          "text": [
            "model_pos.simplified.onnx\n",
            "Generating model_pos.simplified.onnx ...\n",
            "done\n"
          ]
        }
      ],
      "source": [
        "import onnxsim\n",
        "import onnx\n",
        "\n",
        "simplified_onnx_model, success = onnxsim.simplify('model_pos.onnx')\n",
        "assert success, 'Failed to simplify the ONNX model. You may have to skip this step'\n",
        "simplified_onnx_model_path =  f'model_pos.simplified.onnx'\n",
        "print(simplified_onnx_model_path)\n",
        "print(f'Generating {simplified_onnx_model_path} ...')\n",
        "onnx.save(simplified_onnx_model, simplified_onnx_model_path)\n",
        "print('done')"
      ],
      "id": "tmPQWEGCuJC6"
    },
    {
      "cell_type": "code",
      "execution_count": null,
      "metadata": {
        "id": "stNJSNYkuJC7",
        "outputId": "0c4b673f-c542-4faf-ac52-959086ec7131",
        "colab": {
          "base_uri": "https://localhost:8080/"
        }
      },
      "outputs": [
        {
          "output_type": "stream",
          "name": "stdout",
          "text": [
            "Generating openvino at: openvino\n",
            "[ WARNING ]  Use of deprecated cli option --data_type detected. Option use in the following releases will be fatal. \n",
            "[ INFO ] The model was converted to IR v11, the latest model format that corresponds to the source DL framework input/output format. While IR v11 is backwards compatible with OpenVINO Inference Engine API v1.0, please use API v2.0 (as of 2022.1) to take advantage of the latest improvements in IR v11.\n",
            "Find more information about API v2.0 and IR v11 at https://docs.openvino.ai/latest/openvino_2_0_transition_guide.html\n",
            "[ SUCCESS ] Generated IR version 11 model.\n",
            "[ SUCCESS ] XML file: /content/openvino/model_pos.simplified.xml\n",
            "[ SUCCESS ] BIN file: /content/openvino/model_pos.simplified.bin\n"
          ]
        }
      ],
      "source": [
        "import sys\n",
        "import os\n",
        "\n",
        "# Import the model optimizer tool from the openvino_dev package\n",
        "from openvino.tools.mo import main as mo_main\n",
        "import onnx\n",
        "from onnx_tf.backend import prepare\n",
        "from mltk.utils.shell_cmd import run_shell_cmd\n",
        "\n",
        "# Load the ONNX model\n",
        "onnx_model = onnx.load(\"model_pos.onnx\")\n",
        "tf_rep = prepare(onnx_model)\n",
        "\n",
        "# Get the input tensor shape\n",
        "input_tensor = tf_rep.signatures[tf_rep.inputs[0]]\n",
        "input_shape = input_tensor.shape\n",
        "input_shape_str = '[' + ','.join([str(x) for x in input_shape]) + ']'\n",
        "\n",
        "\n",
        "\n",
        "openvino_out_dir = f'openvino'\n",
        "os.makedirs(openvino_out_dir, exist_ok=True)\n",
        "\n",
        "\n",
        "print(f'Generating openvino at: {openvino_out_dir}')\n",
        "cmd = [ \n",
        "    sys.executable, mo_main.__file__, \n",
        "    '--input_model', simplified_onnx_model_path,\n",
        "    '--input_shape', input_shape_str,\n",
        "    '--output_dir', openvino_out_dir,\n",
        "    '--data_type', 'FP32'\n",
        "\n",
        "]\n",
        "retcode, retmsg = run_shell_cmd(cmd,  outfile=sys.stdout)\n",
        "assert retcode == 0, 'Failed to do conversion' "
      ],
      "id": "stNJSNYkuJC7"
    },
    {
      "cell_type": "code",
      "execution_count": null,
      "metadata": {
        "id": "MmA78R8euJC9",
        "outputId": "b8b9d7e7-75b4-495c-bbaf-5111614f3da9",
        "colab": {
          "base_uri": "https://localhost:8080/",
          "height": 1000
        }
      },
      "outputs": [
        {
          "output_type": "stream",
          "name": "stdout",
          "text": [
            "Generating openvino2tensorflow model at: openvino2tensorflow ...\n"
          ]
        },
        {
          "output_type": "error",
          "ename": "AssertionError",
          "evalue": "ignored",
          "traceback": [
            "\u001b[0;31m---------------------------------------------------------------------------\u001b[0m",
            "\u001b[0;31mAssertionError\u001b[0m                            Traceback (most recent call last)",
            "\u001b[0;32m<ipython-input-23-2de45d8d205d>\u001b[0m in \u001b[0;36m<module>\u001b[0;34m\u001b[0m\n\u001b[1;32m     20\u001b[0m \u001b[0;34m\u001b[0m\u001b[0m\n\u001b[1;32m     21\u001b[0m \u001b[0mretcode\u001b[0m\u001b[0;34m,\u001b[0m \u001b[0mretmsg\u001b[0m \u001b[0;34m=\u001b[0m \u001b[0mrun_shell_cmd\u001b[0m\u001b[0;34m(\u001b[0m\u001b[0mcmd\u001b[0m\u001b[0;34m)\u001b[0m\u001b[0;34m\u001b[0m\u001b[0;34m\u001b[0m\u001b[0m\n\u001b[0;32m---> 22\u001b[0;31m \u001b[0;32massert\u001b[0m \u001b[0mretcode\u001b[0m \u001b[0;34m==\u001b[0m \u001b[0;36m0\u001b[0m\u001b[0;34m,\u001b[0m \u001b[0mretmsg\u001b[0m\u001b[0;34m\u001b[0m\u001b[0;34m\u001b[0m\u001b[0m\n\u001b[0m\u001b[1;32m     23\u001b[0m \u001b[0mprint\u001b[0m\u001b[0;34m(\u001b[0m\u001b[0;34m'done'\u001b[0m\u001b[0;34m)\u001b[0m\u001b[0;34m\u001b[0m\u001b[0;34m\u001b[0m\u001b[0m\n",
            "\u001b[0;31mAssertionError\u001b[0m: \u001b[07mTensorFlow/Keras model building process starts\u001b[0m ======================================\n\u001b[07mLayer structure\u001b[0m =====================================================================\n\u001b[32mlayer_type\u001b[0m: Input\n\u001b[32mlayer_id\u001b[0m: 0\n\u001b[32mtf_layers_dict\u001b[0m: KerasTensor(type_spec=TensorSpec(shape=(1, 52, 2), dtype=tf.float32, name='onnx::MatMul_0'), name='onnx::MatMul_0', description=\"created by layer 'onnx::MatMul_0'\")\n====================================================================================\n\u001b[32mlayer_type\u001b[0m: Const\n\u001b[32mlayer_id\u001b[0m: 1\n\u001b[32mtf_layers_dict_shape\u001b[0m: (52, 52)\n\u001b[32mtf_layers_dict_value\u001b[0m: [[0.07598089 0.         0.         ... 0.         0.         0.        ]\n [0.         0.46369085 0.         ... 0.         0.         0.        ]\n [0.         0.         0.53340876 ... 0.         0.         0.        ]\n ...\n [0.         0.         0.         ... 0.22227116 0.         0.        ]\n [0.         0.         0.         ... 0.         0.22049206 0.        ]\n [0.         0.         0.         ... 0.         0.         0.2835491 ]]\n====================================================================================\n\u001b[32mlayer_type\u001b[0m: Const\n\u001b[32mlayer_id\u001b[0m: 2\n\u001b[32mtf_layers_dict_shape\u001b[0m: (52, 52)\n\u001b[32mtf_layers_dict_value\u001b[0m: [[0.11104932 0.         0.         ... 0.         0.         0.        ]\n [0.         0.3961733  0.         ... 0.         0.         0.        ]\n [0.         0.         0.49799258 ... 0.         0.         0.        ]\n ...\n [0.         0.         0.         ... 0.43916714 0.         0.        ]\n [0.         0.         0.         ... 0.         0.47935307 0.        ]\n [0.         0.         0.         ... 0.         0.         0.47696248]]\n====================================================================================\n\u001b[32mlayer_type\u001b[0m: Const\n\u001b[32mlayer_id\u001b[0m: 3\n\u001b[32mtf_layers_dict_shape\u001b[0m: (256, 2)\n\u001b[32mtf_layers_dict_value\u001b[0m: [[ 1.62839919e-01  3.58736545e-01]\n [-8.91293883e-02 -1.08711526e-01]\n [-4.14148659e-01 -4.29004915e-02]\n [ 5.35342470e-02  3.90439749e-01]\n [-2.80417353e-01 -3.67427081e-01]\n [-4.88744467e-01  2.44917199e-01]\n [ 2.15004146e-01  4.14150894e-01]\n [-3.27537328e-01 -3.76161665e-01]\n [ 1.30178973e-01  3.15472096e-01]\n [ 3.87008697e-01 -2.09811151e-01]\n [ 5.20632342e-02  1.92231238e-01]\n [ 2.39043504e-01  2.69836068e-01]\n [ 4.39872861e-01 -2.34866396e-01]\n [ 5.33064544e-01 -5.70697663e-03]\n [ 1.77790672e-02  2.21316457e-01]\n [-3.66775423e-01  3.24437290e-01]\n [-1.16290545e+00 -1.94196627e-02]\n [ 3.38755578e-01 -4.36156571e-01]\n [ 9.07673016e-02  1.10903300e-01]\n [ 4.85065699e-01 -1.55873820e-01]\n [ 4.21895266e-01 -4.65943217e-02]\n [ 1.47655886e-02 -2.03617755e-02]\n [-4.59087521e-01  5.54574654e-02]\n [-2.06674457e-01 -3.26592743e-01]\n [-3.49420637e-01 -2.92466342e-01]\n [ 1.49902001e-01  2.31160939e-01]\n [-2.78636783e-01 -1.78493112e-01]\n [ 1.63409308e-01  3.67040277e-01]\n [-2.33669907e-01  6.59073889e-01]\n [-3.03685609e-02 -2.06864491e-01]\n [-3.32277596e-01  2.50494599e-01]\n [ 1.92795843e-01 -1.22292519e-01]\n [ 4.37835418e-02  4.19672459e-01]\n [-9.63820741e-02  3.98169935e-01]\n [-1.43310070e-01 -7.29549378e-02]\n [-1.13113880e-01  4.15231556e-01]\n [-1.08630829e-01 -2.54938155e-01]\n [ 4.02391285e-01 -3.04217398e-01]\n [-4.26652819e-01 -2.58789003e-01]\n [ 6.11204088e-01 -2.00868860e-01]\n [-3.88954967e-01 -3.07056844e-01]\n [-1.06042773e-02  4.11372274e-01]\n [ 4.63286221e-01 -1.54810727e-01]\n [ 4.70870078e-01 -1.89021528e-01]\n [ 4.20684665e-01  2.52802074e-01]\n [-4.39612009e-02 -3.22227448e-01]\n [ 4.75246727e-01  1.57259107e-01]\n [-4.45531577e-01 -2.03574091e-01]\n [ 2.81824052e-01  2.80598640e-01]\n [-2.17854069e-03  3.90663445e-01]\n [-4.13508952e-01 -2.10314035e-01]\n [ 4.33401763e-01 -2.48525664e-02]\n [-8.14329833e-02 -2.36631975e-01]\n [-6.53828233e-02  3.74626666e-01]\n [-2.15478003e-01  5.68902753e-02]\n [-6.88690692e-03 -6.25392003e-03]\n [-4.08162624e-01 -2.82269478e-01]\n [-4.75814044e-01 -4.54927161e-02]\n [ 5.23322463e-01 -9.07499567e-02]\n [-3.95420194e-01  2.16826484e-01]\n [-4.78388131e-01 -7.34766945e-02]\n [-3.45783353e-01 -1.70587301e-02]\n [ 3.93344104e-01 -3.46750349e-01]\n [-6.80933446e-02 -1.14035428e+00]\n [-1.84450164e-01 -2.63320297e-01]\n [-8.07261989e-02 -3.08327883e-01]\n [ 7.32512891e-01 -1.19674429e-01]\n [ 7.56451413e-02  4.20661122e-01]\n [ 7.83701241e-02 -1.63949895e+00]\n [-1.55926630e-01 -4.59518075e-01]\n [ 6.28422618e-01 -1.44846529e-01]\n [-3.00508648e-01 -2.98314214e-01]\n [ 3.24714690e-01  1.88849464e-01]\n [-2.98694253e-01 -2.60847569e-01]\n [ 1.08974501e-01  2.80664742e-01]\n [-3.10240328e-01 -2.55551040e-01]\n [-3.61025691e-01 -2.91928828e-01]\n [ 3.01049918e-01 -2.64088884e-02]\n [-6.34098351e-02  1.00834712e-01]\n [ 3.53793383e-01  3.56962048e-02]\n [-3.48513663e-01  4.79004443e-01]\n [-4.19267207e-01 -2.50091255e-01]\n [ 3.82450432e-01 -1.91248149e-01]\n [-3.08193833e-01 -1.27627969e-01]\n [-1.36066779e-01  2.38028675e-01]\n [-2.53420293e-01  2.09048539e-01]\n [-1.16642416e-01  9.95764285e-02]\n [-1.39345840e-01 -3.11859936e-01]\n [ 6.69589788e-02 -5.71266532e-01]\n [ 1.11697474e-02  2.15241730e-01]\n [ 3.78521770e-01  7.24234134e-02]\n [ 9.41175297e-02  2.70276129e-01]\n [ 5.19102275e-01 -1.59819335e-01]\n [ 6.59864068e-01 -3.13733608e-01]\n [ 3.91915321e-01 -1.30086824e-01]\n [-2.24914134e-01  1.28984854e-01]\n [ 2.50815362e-01 -1.67977571e-01]\n [ 3.84561598e-01  1.20122470e-01]\n [-2.03888178e-01  3.52878660e-01]\n [ 4.29367572e-01  6.66480064e-02]\n [-6.57500267e-01 -9.92226526e-02]\n [-4.29913849e-02  6.40235364e-01]\n [ 3.79005194e-01  1.45926280e-02]\n [-2.27643758e-01  2.79439628e-01]\n [-3.60507786e-01  1.92904145e-01]\n [-4.20253575e-02 -3.32279295e-01]\n [ 4.84782100e-01 -8.13798159e-02]\n [-4.42739874e-01  1.35702536e-01]\n [-6.91738486e-01 -1.50042549e-01]\n [ 8.77210423e-02 -3.94737542e-01]\n [-2.30443195e-01  4.38091457e-02]\n [ 1.81378603e-01 -2.00490132e-02]\n [-3.09552431e-01  4.04698670e-01]\n [ 2.31495544e-01  2.45919794e-01]\n [ 2.03914791e-01 -7.16013759e-02]\n [ 2.15705693e-01 -4.37511392e-02]\n [-1.61037534e-01 -4.16379660e-01]\n [-4.06254202e-01  1.04501434e-01]\n [ 2.50535682e-02  3.62387717e-01]\n [-9.51560959e-02 -6.49015069e-01]\n [ 2.58097589e-01 -1.16596900e-01]\n [ 3.92247528e-01  1.11045964e-01]\n [ 3.57878149e-01  1.07963100e-01]\n [-2.99458176e-01  5.38136303e-01]\n [-4.11611348e-01  1.35671750e-01]\n [ 5.09485304e-01  3.34699126e-03]\n [ 2.06451386e-01  2.40747243e-01]\n [ 1.12001576e-01  4.02690649e-01]\n [ 1.93983003e-01  3.05283338e-01]\n [ 3.25166024e-02 -3.01009923e-01]\n [ 1.07942745e-01  2.53442317e-01]\n [-3.52584541e-01  2.24954873e-01]\n [ 1.02380835e-01  4.23299015e-01]\n [ 4.55486238e-01 -1.77496731e-01]\n [-4.41583037e-01  4.53612059e-02]\n [-4.58802730e-02  6.62468195e-01]\n [-1.07472166e-01  4.31539804e-01]\n [ 9.26847756e-02 -3.95596534e-01]\n [ 1.78231776e-01 -2.35478744e-01]\n [-3.94911617e-01 -1.58453420e-01]\n [ 4.79214966e-01 -1.83551479e-02]\n [ 2.80875772e-01  5.13983369e-01]\n [ 2.66284078e-01 -2.39887484e-03]\n [-4.47964191e-01 -9.30207446e-02]\n [-3.44626844e-01 -1.08032145e-01]\n [ 1.25535607e-01  3.90336543e-01]\n [ 4.99319524e-01  1.89428315e-01]\n [ 3.47030073e-01 -2.62954444e-01]\n [-3.06836188e-01  2.51978874e-01]\n [-4.06317599e-02  1.30834281e-01]\n [-4.09066737e-01 -2.47339413e-01]\n [-2.81012636e-02 -1.27148771e+00]\n [ 1.42303348e-01 -3.32006663e-01]\n [ 4.28578407e-01 -1.66010216e-01]\n [ 5.03702879e-01 -1.42778307e-01]\n [-3.29437405e-01 -2.45026082e-01]\n [-3.17544729e-01 -3.69203061e-01]\n [ 4.94266629e-01 -1.07958183e-01]\n [ 3.65415752e-01  3.17002684e-01]\n [ 2.90758461e-01  2.65280247e-01]\n [-4.43073846e-02  3.66798460e-01]\n [ 2.07726568e-01 -2.08318695e-01]\n [-2.88051218e-01  2.53285319e-01]\n [ 6.61396801e-01 -3.74401832e-04]\n [-4.38465178e-01  3.83289993e-01]\n [ 3.13861102e-01  1.25018165e-01]\n [-3.59290987e-01 -9.80133042e-02]\n [ 1.87790155e-01 -5.69803566e-02]\n [-3.18739951e-01  4.21966821e-01]\n [ 1.90794975e-01  5.58740199e-02]\n [-4.28684652e-01 -2.68981457e-01]\n [-4.89339940e-02  5.69406688e-01]\n [-3.04731280e-01 -3.78144205e-01]\n [ 4.89620179e-01 -1.11306384e-02]\n [-1.77860573e-01  2.92037159e-01]\n [-2.54397839e-01  3.44744712e-01]\n [ 1.79757044e-01  1.95205718e-01]\n [ 4.16790217e-01 -3.14862520e-01]\n [-3.75928804e-02  2.42891759e-01]\n [ 3.02303433e-01  2.69735396e-01]\n [ 4.29877043e-02  5.86345270e-02]\n [-2.89674371e-01  1.89200714e-01]\n [-1.98164791e-01 -4.38037753e-01]\n [-1.89860344e-01  3.04739773e-01]\n [-2.74097204e-01 -3.56443197e-01]\n [ 5.13484776e-02 -6.79379515e-03]\n [-4.96047825e-01 -2.21707135e-01]\n [-4.48291421e-01 -5.70344105e-02]\n [-2.25049868e-01 -1.75356284e-01]\n [-2.81510919e-01 -3.49480033e-01]\n [-3.05626959e-01 -1.93948224e-01]\n [-3.98357630e-01  1.76515236e-01]\n [-5.88795602e-01  1.48223251e-01]\n [-5.35748899e-01  1.11999922e-01]\n [ 2.13831812e-01  5.81326187e-01]\n [-3.48163955e-02  6.28164649e-01]\n [-3.82323563e-01  1.07334130e-01]\n [-2.37301797e-01  4.54221927e-02]\n [-2.06834108e-01  3.59751225e-01]\n [ 2.26009056e-01  2.12218404e-01]\n [-2.98963815e-01 -3.17439735e-01]\n [ 3.57913524e-01 -3.21552664e-01]\n [-3.06262702e-01  3.53653729e-01]\n [-3.68325531e-01  5.15974343e-01]\n [ 2.35573798e-02 -5.23588181e-01]\n [ 3.94053876e-01 -5.18711135e-02]\n [ 3.64901900e-01  3.64548773e-01]\n [-3.44502717e-01  2.50324726e-01]\n [ 1.63980186e-01  1.66491136e-01]\n [-4.33702022e-01  2.11130992e-01]\n [ 4.53930885e-01 -3.16353321e-01]\n [-2.12212205e-01 -2.90684253e-01]\n [-2.16953054e-01  3.42201978e-01]\n [-4.79947776e-01  2.04732671e-01]\n [-7.15007186e-02  3.68331820e-01]\n [ 4.22361046e-01  1.58797592e-01]\n [-1.65817589e-01  9.02133703e-01]\n [-3.73894811e-01  5.37087858e-01]\n [-3.92151266e-01 -2.72406220e-01]\n [-3.13584477e-01 -1.19571082e-01]\n [ 3.84470105e-01 -2.46874616e-01]\n [-3.47921520e-01  1.58317789e-01]\n [ 4.17880416e-01  6.94089830e-02]\n [-2.93067008e-01  1.48650348e-01]\n [-4.72316504e-01 -1.87922865e-01]\n [ 4.86556858e-01 -2.09946647e-01]\n [ 4.32560682e-01 -1.39633104e-01]\n [ 5.64636052e-01 -7.83875436e-02]\n [-3.61382872e-01 -3.44101250e-01]\n [ 1.37753382e-01 -3.96117121e-01]\n [ 3.99781018e-01 -4.41370867e-02]\n [-3.59697193e-01 -2.15824872e-01]\n [-4.28393006e-01 -2.27360204e-01]\n [-3.58091950e-01 -3.35034996e-01]\n [-1.06426887e-02  1.96171194e-01]\n [ 1.63628280e-01  3.86775851e-01]\n [ 1.25722056e-02 -4.86810386e-01]\n [ 2.11152166e-01 -3.78658533e-01]\n [-4.38239396e-01  7.59905726e-02]\n [ 2.53192723e-01  2.82082856e-01]\n [-4.66941774e-01  7.28140846e-02]\n [-1.85695831e-02  3.24388623e-01]\n [ 9.92970690e-02  3.81315649e-01]\n [-3.37369233e-01  2.62024403e-01]\n [-8.93375874e-02  3.76308292e-01]\n [ 1.19892871e-02  4.30185527e-01]\n [ 3.90697032e-01 -2.76978880e-01]\n [ 3.98382396e-01 -2.24349782e-01]\n [-4.56534773e-02  6.10458612e-01]\n [ 2.92518944e-01 -3.25825274e-01]\n [ 3.22568834e-01 -3.50994468e-01]\n [ 4.19633925e-01  1.21171147e-01]\n [-1.75575629e-01  1.29658967e-01]\n [-5.59810214e-02 -2.77338356e-01]\n [-6.14220649e-02 -2.77822018e-01]\n [ 4.75369632e-01 -1.91816717e-01]]\n====================================================================================\n\u001b[32mlayer_type\u001b[0m: MatMul\n\u001b[32mlayer_id\u001b[0m: 4\n\u001b[32minput_layer0\u001b[0m: layer_id=0: KerasTensor(type_spec=TensorSpec(shape=(1, 52, 2), dtype=tf.float32, name='onnx::MatMul_0'), name='onnx::MatMul_0', description=\"created by layer 'onnx::MatMul_0'\")\n\u001b[32minput_layer1_value\u001b[0m: layer_id=3: [[ 1.62839919e-01  3.58736545e-01]\n [-8.91293883e-02 -1.08711526e-01]\n [-4.14148659e-01 -4.29004915e-02]\n [ 5.35342470e-02  3.90439749e-01]\n [-2.80417353e-01 -3.67427081e-01]\n [-4.88744467e-01  2.44917199e-01]\n [ 2.15004146e-01  4.14150894e-01]\n [-3.27537328e-01 -3.76161665e-01]\n [ 1.30178973e-01  3.15472096e-01]\n [ 3.87008697e-01 -2.09811151e-01]\n [ 5.20632342e-02  1.92231238e-01]\n [ 2.39043504e-01  2.69836068e-01]\n [ 4.39872861e-01 -2.34866396e-01]\n [ 5.33064544e-01 -5.70697663e-03]\n [ 1.77790672e-02  2.21316457e-01]\n [-3.66775423e-01  3.24437290e-01]\n [-1.16290545e+00 -1.94196627e-02]\n [ 3.38755578e-01 -4.36156571e-01]\n [ 9.07673016e-02  1.10903300e-01]\n [ 4.85065699e-01 -1.55873820e-01]\n [ 4.21895266e-01 -4.65943217e-02]\n [ 1.47655886e-02 -2.03617755e-02]\n [-4.59087521e-01  5.54574654e-02]\n [-2.06674457e-01 -3.26592743e-01]\n [-3.49420637e-01 -2.92466342e-01]\n [ 1.49902001e-01  2.31160939e-01]\n [-2.78636783e-01 -1.78493112e-01]\n [ 1.63409308e-01  3.67040277e-01]\n [-2.33669907e-01  6.59073889e-01]\n [-3.03685609e-02 -2.06864491e-01]\n [-3.32277596e-01  2.50494599e-01]\n [ 1.92795843e-01 -1.22292519e-01]\n [ 4.37835418e-02  4.19672459e-01]\n [-9.63820741e-02  3.98169935e-01]\n [-1.43310070e-01 -7.29549378e-02]\n [-1.13113880e-01  4.15231556e-01]\n [-1.08630829e-01 -2.54938155e-01]\n [ 4.02391285e-01 -3.04217398e-01]\n [-4.26652819e-01 -2.58789003e-01]\n [ 6.11204088e-01 -2.00868860e-01]\n [-3.88954967e-01 -3.07056844e-01]\n [-1.06042773e-02  4.11372274e-01]\n [ 4.63286221e-01 -1.54810727e-01]\n [ 4.70870078e-01 -1.89021528e-01]\n [ 4.20684665e-01  2.52802074e-01]\n [-4.39612009e-02 -3.22227448e-01]\n [ 4.75246727e-01  1.57259107e-01]\n [-4.45531577e-01 -2.03574091e-01]\n [ 2.81824052e-01  2.80598640e-01]\n [-2.17854069e-03  3.90663445e-01]\n [-4.13508952e-01 -2.10314035e-01]\n [ 4.33401763e-01 -2.48525664e-02]\n [-8.14329833e-02 -2.36631975e-01]\n [-6.53828233e-02  3.74626666e-01]\n [-2.15478003e-01  5.68902753e-02]\n [-6.88690692e-03 -6.25392003e-03]\n [-4.08162624e-01 -2.82269478e-01]\n [-4.75814044e-01 -4.54927161e-02]\n [ 5.23322463e-01 -9.07499567e-02]\n [-3.95420194e-01  2.16826484e-01]\n [-4.78388131e-01 -7.34766945e-02]\n [-3.45783353e-01 -1.70587301e-02]\n [ 3.93344104e-01 -3.46750349e-01]\n [-6.80933446e-02 -1.14035428e+00]\n [-1.84450164e-01 -2.63320297e-01]\n [-8.07261989e-02 -3.08327883e-01]\n [ 7.32512891e-01 -1.19674429e-01]\n [ 7.56451413e-02  4.20661122e-01]\n [ 7.83701241e-02 -1.63949895e+00]\n [-1.55926630e-01 -4.59518075e-01]\n [ 6.28422618e-01 -1.44846529e-01]\n [-3.00508648e-01 -2.98314214e-01]\n [ 3.24714690e-01  1.88849464e-01]\n [-2.98694253e-01 -2.60847569e-01]\n [ 1.08974501e-01  2.80664742e-01]\n [-3.10240328e-01 -2.55551040e-01]\n [-3.61025691e-01 -2.91928828e-01]\n [ 3.01049918e-01 -2.64088884e-02]\n [-6.34098351e-02  1.00834712e-01]\n [ 3.53793383e-01  3.56962048e-02]\n [-3.48513663e-01  4.79004443e-01]\n [-4.19267207e-01 -2.50091255e-01]\n [ 3.82450432e-01 -1.91248149e-01]\n [-3.08193833e-01 -1.27627969e-01]\n [-1.36066779e-01  2.38028675e-01]\n [-2.53420293e-01  2.09048539e-01]\n [-1.16642416e-01  9.95764285e-02]\n [-1.39345840e-01 -3.11859936e-01]\n [ 6.69589788e-02 -5.71266532e-01]\n [ 1.11697474e-02  2.15241730e-01]\n [ 3.78521770e-01  7.24234134e-02]\n [ 9.41175297e-02  2.70276129e-01]\n [ 5.19102275e-01 -1.59819335e-01]\n [ 6.59864068e-01 -3.13733608e-01]\n [ 3.91915321e-01 -1.30086824e-01]\n [-2.24914134e-01  1.28984854e-01]\n [ 2.50815362e-01 -1.67977571e-01]\n [ 3.84561598e-01  1.20122470e-01]\n [-2.03888178e-01  3.52878660e-01]\n [ 4.29367572e-01  6.66480064e-02]\n [-6.57500267e-01 -9.92226526e-02]\n [-4.29913849e-02  6.40235364e-01]\n [ 3.79005194e-01  1.45926280e-02]\n [-2.27643758e-01  2.79439628e-01]\n [-3.60507786e-01  1.92904145e-01]\n [-4.20253575e-02 -3.32279295e-01]\n [ 4.84782100e-01 -8.13798159e-02]\n [-4.42739874e-01  1.35702536e-01]\n [-6.91738486e-01 -1.50042549e-01]\n [ 8.77210423e-02 -3.94737542e-01]\n [-2.30443195e-01  4.38091457e-02]\n [ 1.81378603e-01 -2.00490132e-02]\n [-3.09552431e-01  4.04698670e-01]\n [ 2.31495544e-01  2.45919794e-01]\n [ 2.03914791e-01 -7.16013759e-02]\n [ 2.15705693e-01 -4.37511392e-02]\n [-1.61037534e-01 -4.16379660e-01]\n [-4.06254202e-01  1.04501434e-01]\n [ 2.50535682e-02  3.62387717e-01]\n [-9.51560959e-02 -6.49015069e-01]\n [ 2.58097589e-01 -1.16596900e-01]\n [ 3.92247528e-01  1.11045964e-01]\n [ 3.57878149e-01  1.07963100e-01]\n [-2.99458176e-01  5.38136303e-01]\n [-4.11611348e-01  1.35671750e-01]\n [ 5.09485304e-01  3.34699126e-03]\n [ 2.06451386e-01  2.40747243e-01]\n [ 1.12001576e-01  4.02690649e-01]\n [ 1.93983003e-01  3.05283338e-01]\n [ 3.25166024e-02 -3.01009923e-01]\n [ 1.07942745e-01  2.53442317e-01]\n [-3.52584541e-01  2.24954873e-01]\n [ 1.02380835e-01  4.23299015e-01]\n [ 4.55486238e-01 -1.77496731e-01]\n [-4.41583037e-01  4.53612059e-02]\n [-4.58802730e-02  6.62468195e-01]\n [-1.07472166e-01  4.31539804e-01]\n [ 9.26847756e-02 -3.95596534e-01]\n [ 1.78231776e-01 -2.35478744e-01]\n [-3.94911617e-01 -1.58453420e-01]\n [ 4.79214966e-01 -1.83551479e-02]\n [ 2.80875772e-01  5.13983369e-01]\n [ 2.66284078e-01 -2.39887484e-03]\n [-4.47964191e-01 -9.30207446e-02]\n [-3.44626844e-01 -1.08032145e-01]\n [ 1.25535607e-01  3.90336543e-01]\n [ 4.99319524e-01  1.89428315e-01]\n [ 3.47030073e-01 -2.62954444e-01]\n [-3.06836188e-01  2.51978874e-01]\n [-4.06317599e-02  1.30834281e-01]\n [-4.09066737e-01 -2.47339413e-01]\n [-2.81012636e-02 -1.27148771e+00]\n [ 1.42303348e-01 -3.32006663e-01]\n [ 4.28578407e-01 -1.66010216e-01]\n [ 5.03702879e-01 -1.42778307e-01]\n [-3.29437405e-01 -2.45026082e-01]\n [-3.17544729e-01 -3.69203061e-01]\n [ 4.94266629e-01 -1.07958183e-01]\n [ 3.65415752e-01  3.17002684e-01]\n [ 2.90758461e-01  2.65280247e-01]\n [-4.43073846e-02  3.66798460e-01]\n [ 2.07726568e-01 -2.08318695e-01]\n [-2.88051218e-01  2.53285319e-01]\n [ 6.61396801e-01 -3.74401832e-04]\n [-4.38465178e-01  3.83289993e-01]\n [ 3.13861102e-01  1.25018165e-01]\n [-3.59290987e-01 -9.80133042e-02]\n [ 1.87790155e-01 -5.69803566e-02]\n [-3.18739951e-01  4.21966821e-01]\n [ 1.90794975e-01  5.58740199e-02]\n [-4.28684652e-01 -2.68981457e-01]\n [-4.89339940e-02  5.69406688e-01]\n [-3.04731280e-01 -3.78144205e-01]\n [ 4.89620179e-01 -1.11306384e-02]\n [-1.77860573e-01  2.92037159e-01]\n [-2.54397839e-01  3.44744712e-01]\n [ 1.79757044e-01  1.95205718e-01]\n [ 4.16790217e-01 -3.14862520e-01]\n [-3.75928804e-02  2.42891759e-01]\n [ 3.02303433e-01  2.69735396e-01]\n [ 4.29877043e-02  5.86345270e-02]\n [-2.89674371e-01  1.89200714e-01]\n [-1.98164791e-01 -4.38037753e-01]\n [-1.89860344e-01  3.04739773e-01]\n [-2.74097204e-01 -3.56443197e-01]\n [ 5.13484776e-02 -6.79379515e-03]\n [-4.96047825e-01 -2.21707135e-01]\n [-4.48291421e-01 -5.70344105e-02]\n [-2.25049868e-01 -1.75356284e-01]\n [-2.81510919e-01 -3.49480033e-01]\n [-3.05626959e-01 -1.93948224e-01]\n [-3.98357630e-01  1.76515236e-01]\n [-5.88795602e-01  1.48223251e-01]\n [-5.35748899e-01  1.11999922e-01]\n [ 2.13831812e-01  5.81326187e-01]\n [-3.48163955e-02  6.28164649e-01]\n [-3.82323563e-01  1.07334130e-01]\n [-2.37301797e-01  4.54221927e-02]\n [-2.06834108e-01  3.59751225e-01]\n [ 2.26009056e-01  2.12218404e-01]\n [-2.98963815e-01 -3.17439735e-01]\n [ 3.57913524e-01 -3.21552664e-01]\n [-3.06262702e-01  3.53653729e-01]\n [-3.68325531e-01  5.15974343e-01]\n [ 2.35573798e-02 -5.23588181e-01]\n [ 3.94053876e-01 -5.18711135e-02]\n [ 3.64901900e-01  3.64548773e-01]\n [-3.44502717e-01  2.50324726e-01]\n [ 1.63980186e-01  1.66491136e-01]\n [-4.33702022e-01  2.11130992e-01]\n [ 4.53930885e-01 -3.16353321e-01]\n [-2.12212205e-01 -2.90684253e-01]\n [-2.16953054e-01  3.42201978e-01]\n [-4.79947776e-01  2.04732671e-01]\n [-7.15007186e-02  3.68331820e-01]\n [ 4.22361046e-01  1.58797592e-01]\n [-1.65817589e-01  9.02133703e-01]\n [-3.73894811e-01  5.37087858e-01]\n [-3.92151266e-01 -2.72406220e-01]\n [-3.13584477e-01 -1.19571082e-01]\n [ 3.84470105e-01 -2.46874616e-01]\n [-3.47921520e-01  1.58317789e-01]\n [ 4.17880416e-01  6.94089830e-02]\n [-2.93067008e-01  1.48650348e-01]\n [-4.72316504e-01 -1.87922865e-01]\n [ 4.86556858e-01 -2.09946647e-01]\n [ 4.32560682e-01 -1.39633104e-01]\n [ 5.64636052e-01 -7.83875436e-02]\n [-3.61382872e-01 -3.44101250e-01]\n [ 1.37753382e-01 -3.96117121e-01]\n [ 3.99781018e-01 -4.41370867e-02]\n [-3.59697193e-01 -2.15824872e-01]\n [-4.28393006e-01 -2.27360204e-01]\n [-3.58091950e-01 -3.35034996e-01]\n [-1.06426887e-02  1.96171194e-01]\n [ 1.63628280e-01  3.86775851e-01]\n [ 1.25722056e-02 -4.86810386e-01]\n [ 2.11152166e-01 -3.78658533e-01]\n [-4.38239396e-01  7.59905726e-02]\n [ 2.53192723e-01  2.82082856e-01]\n [-4.66941774e-01  7.28140846e-02]\n [-1.85695831e-02  3.24388623e-01]\n [ 9.92970690e-02  3.81315649e-01]\n [-3.37369233e-01  2.62024403e-01]\n [-8.93375874e-02  3.76308292e-01]\n [ 1.19892871e-02  4.30185527e-01]\n [ 3.90697032e-01 -2.76978880e-01]\n [ 3.98382396e-01 -2.24349782e-01]\n [-4.56534773e-02  6.10458612e-01]\n [ 2.92518944e-01 -3.25825274e-01]\n [ 3.22568834e-01 -3.50994468e-01]\n [ 4.19633925e-01  1.21171147e-01]\n [-1.75575629e-01  1.29658967e-01]\n [-5.59810214e-02 -2.77338356e-01]\n [-6.14220649e-02 -2.77822018e-01]\n [ 4.75369632e-01 -1.91816717e-01]]\n\u001b[32mtf_layers_dict\u001b[0m: KerasTensor(type_spec=TensorSpec(shape=(1, 52, 256), dtype=tf.float32, name=None), name='tf.linalg.matmul/MatMul:0', description=\"created by layer 'tf.linalg.matmul'\")\n====================================================================================\n\u001b[32mlayer_type\u001b[0m: MatMul\n\u001b[32mlayer_id\u001b[0m: 5\n\u001b[32minput_layer0_value\u001b[0m: layer_id=2: [[0.11104932 0.         0.         ... 0.         0.         0.        ]\n [0.         0.3961733  0.         ... 0.         0.         0.        ]\n [0.         0.         0.49799258 ... 0.         0.         0.        ]\n ...\n [0.         0.         0.         ... 0.43916714 0.         0.        ]\n [0.         0.         0.         ... 0.         0.47935307 0.        ]\n [0.         0.         0.         ... 0.         0.         0.47696248]]\n\u001b[32minput_layer1\u001b[0m: layer_id=4: KerasTensor(type_spec=TensorSpec(shape=(1, 52, 256), dtype=tf.float32, name=None), name='tf.linalg.matmul/MatMul:0', description=\"created by layer 'tf.linalg.matmul'\")\n\u001b[32mtf_layers_dict\u001b[0m: KerasTensor(type_spec=TensorSpec(shape=(1, 52, 256), dtype=tf.float32, name=None), name='tf.linalg.matmul_1/MatMul:0', description=\"created by layer 'tf.linalg.matmul_1'\")\n====================================================================================\n\u001b[32mlayer_type\u001b[0m: Const\n\u001b[32mlayer_id\u001b[0m: 6\n\u001b[32mtf_layers_dict_shape\u001b[0m: (52, 52)\n\u001b[32mtf_layers_dict_value\u001b[0m: [[0.         0.08617069 0.         ... 0.         0.         0.        ]\n [0.17274486 0.         0.4310818  ... 0.         0.         0.        ]\n [0.         0.14716598 0.         ... 0.         0.         0.        ]\n ...\n [0.         0.         0.         ... 0.         0.13413967 0.        ]\n [0.         0.         0.         ... 0.35622683 0.         0.1644201 ]\n [0.         0.         0.         ... 0.         0.5230375  0.        ]]\n====================================================================================\n\u001b[32mlayer_type\u001b[0m: Const\n\u001b[32mlayer_id\u001b[0m: 7\n\u001b[32mtf_layers_dict_shape\u001b[0m: (256, 2)\n\u001b[32mtf_layers_dict_value\u001b[0m: [[-7.05340132e-02 -2.65022755e-01]\n [ 2.36925811e-01  6.59991622e-01]\n [ 6.16589963e-01  5.64695336e-03]\n [-1.69255003e-01 -2.42410734e-01]\n [ 9.47645009e-02  2.58754224e-01]\n [-3.34005028e-01  2.31170785e-02]\n [-2.73983739e-02 -2.19679043e-01]\n [ 1.32015839e-01  2.57248163e-01]\n [-5.59304357e-01 -1.37649059e-01]\n [-2.85506934e-01  2.11676925e-01]\n [ 7.92698711e-02 -6.37620866e-01]\n [-2.91518599e-01 -2.22002968e-01]\n [-3.70126545e-01  5.26380874e-02]\n [-3.66190046e-01  7.47781852e-03]\n [ 5.02806067e-01 -2.37273753e-01]\n [-3.58213522e-02 -2.70093381e-01]\n [ 3.27231616e-01  5.35538569e-02]\n [-4.41547371e-02  1.12628527e-01]\n [-1.17775731e-01  1.05855155e+00]\n [-2.39683002e-01  2.27281511e-01]\n [-2.98180997e-01  1.26591519e-01]\n [-1.08875565e-01 -7.37114489e-01]\n [ 2.79450953e-01  1.54920489e-01]\n [ 4.93057668e-02  3.04957598e-01]\n [ 2.53901988e-01  2.75312513e-01]\n [-1.91698939e-01  5.52080929e-01]\n [ 7.12526381e-01  1.59076750e-01]\n [-9.13810283e-02 -2.71550268e-01]\n [ 3.82894129e-02 -1.07345715e-01]\n [ 2.16248274e-01 -4.16856110e-01]\n [ 1.71527892e-01 -2.46647835e-01]\n [-2.54614383e-01 -3.65679085e-01]\n [ 1.20226540e-01 -2.36345470e-01]\n [ 2.25349497e-02 -2.56289095e-01]\n [ 8.99940491e-01  1.70119166e-01]\n [ 2.53477599e-02 -2.52421528e-01]\n [-3.79682571e-01  2.71942765e-01]\n [-2.25066051e-01  1.87898695e-01]\n [ 2.97100753e-01  1.74499393e-01]\n [-1.51201680e-01  1.18082121e-01]\n [ 2.85034001e-01  1.15273379e-01]\n [ 1.21925786e-01 -2.54190534e-01]\n [-3.82138163e-01  3.12516242e-02]\n [-3.37648094e-01  3.00888699e-02]\n [-2.78643966e-01 -3.47741391e-03]\n [-1.12432100e-01  4.87251431e-01]\n [-2.79581755e-01 -1.87489584e-01]\n [ 3.72002453e-01  5.91694340e-02]\n [-3.31073552e-01 -2.03340843e-01]\n [-9.61850733e-02 -2.69168913e-01]\n [ 2.85020441e-01  1.46256730e-01]\n [-6.09079480e-01 -1.09570026e-02]\n [ 1.05272815e-01 -8.35698128e-01]\n [-6.45563230e-02 -2.88733482e-01]\n [ 1.21525243e-01  9.33468461e-01]\n [ 3.45083743e-01  3.14531296e-01]\n [ 2.45262071e-01  2.05071822e-01]\n [ 3.74779522e-01 -6.99902559e-03]\n [-1.84346542e-01  1.65884122e-01]\n [-2.54394710e-01  2.04103455e-01]\n [ 3.33380908e-01 -8.06348026e-03]\n [ 3.64739746e-01  1.21387057e-01]\n [-1.30950093e-01  2.49333128e-01]\n [ 1.13532871e-01  1.12328418e-01]\n [ 2.22950071e-01  3.85534555e-01]\n [-3.25272739e-01 -1.65856853e-01]\n [ 2.84678906e-01  1.66195229e-01]\n [-3.26312636e-03 -2.56751418e-01]\n [ 1.86092071e-02  8.26881081e-02]\n [ 5.07294163e-02  2.75794655e-01]\n [-2.93437511e-01  1.61124638e-03]\n [ 1.72709674e-01  2.93508589e-01]\n [-3.53627175e-01 -1.79682270e-01]\n [ 1.09501824e-01  3.92040133e-01]\n [-1.09717175e-01 -3.76167983e-01]\n [ 2.26517975e-01  2.96216428e-01]\n [ 2.20588088e-01  2.55188286e-01]\n [ 2.08903864e-01  3.43828529e-01]\n [-4.44981277e-01  2.12055892e-01]\n [-3.70158970e-01  4.08272669e-02]\n [-4.09877300e-02  1.18358567e-01]\n [ 2.57182539e-01  1.91359416e-01]\n [-2.97294229e-01  1.76808774e-01]\n [ 3.43055397e-01  2.12798849e-01]\n [-6.82842553e-01  1.18176499e-02]\n [ 4.48051631e-01 -1.92221984e-01]\n [ 1.67188480e-01 -9.34410691e-01]\n [-6.18421555e-01  3.96575332e-02]\n [ 1.84409693e-02  2.51591146e-01]\n [-6.72708690e-01 -3.53117883e-02]\n [-3.95046294e-01 -9.25562903e-03]\n [-4.24534857e-01  4.64780703e-02]\n [-3.56046587e-01  8.91253874e-02]\n [ 2.20585898e-01  1.06992036e-01]\n [-2.85199463e-01  1.88474059e-01]\n [ 2.57177681e-01 -3.89752626e-01]\n [-1.56750411e-01  8.59970808e-01]\n [-5.87565958e-01 -3.44361141e-02]\n [ 2.96326876e-01 -2.00944588e-01]\n [-3.42501253e-01  5.55345118e-02]\n [ 3.28390807e-01  1.16797082e-01]\n [ 1.08189993e-01 -2.58500695e-01]\n [-4.44052666e-01 -1.15979061e-01]\n [ 3.66933942e-01 -1.97048903e-01]\n [ 3.08343738e-01 -1.76093966e-01]\n [-1.10603817e-01  3.44098389e-01]\n [-2.85236418e-01  1.70764446e-01]\n [ 3.53202134e-01 -9.77873504e-02]\n [ 2.90594548e-01 -1.21611962e-02]\n [-5.72824292e-02  4.07575905e-01]\n [-3.67019206e-01 -2.79679984e-01]\n [-4.34873819e-01 -2.20186129e-01]\n [ 1.68722957e-01  8.23709965e-02]\n [ 1.98220715e-01  3.39302182e-01]\n [-6.47336319e-02  8.22912574e-01]\n [-1.04961142e-01  1.30395567e+00]\n [-1.94891930e-01 -2.25314528e-01]\n [ 6.34101257e-02 -3.26942891e-01]\n [ 1.00692511e-01 -2.64432311e-01]\n [ 1.13735139e-01  2.02489778e-01]\n [-2.48918101e-01  3.93297940e-01]\n [ 7.28518590e-02 -3.28526765e-01]\n [ 1.29417509e-01 -3.47888142e-01]\n [-4.46198583e-02 -3.15694278e-03]\n [ 3.40979755e-01 -1.30479202e-01]\n [-3.34170908e-01 -8.50511491e-02]\n [-2.27166951e-01  5.78813434e-01]\n [-1.72695503e-01 -2.38929048e-01]\n [-2.79096901e-01 -2.57698357e-01]\n [ 3.53711039e-01  2.83407003e-01]\n [-3.29215348e-01 -2.58476228e-01]\n [ 3.30803692e-01 -1.39169469e-01]\n [-1.68241814e-01 -2.48148486e-01]\n [-3.58428121e-01  5.10770716e-02]\n [-8.34762380e-02 -3.09104800e-01]\n [ 1.03013873e-01 -2.49452695e-01]\n [ 1.94886342e-01 -2.48325363e-01]\n [-2.07665622e-01  2.77725935e-01]\n [-2.51258940e-01  3.71657044e-01]\n [ 8.08685839e-01  8.59434456e-02]\n [-4.66363728e-01 -2.83610169e-02]\n [-1.14245325e-01 -1.62035987e-01]\n [-2.29455665e-01  4.71041143e-01]\n [ 3.19208533e-01 -2.11203797e-03]\n [ 3.60841870e-01  1.37547553e-01]\n [-4.72412109e-02 -2.61494875e-01]\n [-3.62491578e-01 -1.26441404e-01]\n [-2.39157870e-01  2.98917472e-01]\n [-3.19086194e-01  1.27930790e-01]\n [ 2.38068223e-01 -4.00051802e-01]\n [ 2.97100008e-01  1.70459628e-01]\n [ 9.36258212e-02 -1.93250880e-01]\n [ 4.40227896e-01 -1.18562288e-03]\n [-2.82724589e-01  1.82486236e-01]\n [-1.41918406e-01 -1.28064722e-01]\n [ 4.44206864e-01  1.10129915e-01]\n [ 1.14969321e-01  2.77017444e-01]\n [-3.42827380e-01  7.14711398e-02]\n [-2.65654176e-01 -1.83680475e-01]\n [-3.58648747e-01 -2.12277889e-01]\n [ 6.99436292e-02  6.45052135e-01]\n [ 1.06210813e-01  3.93065304e-01]\n [ 5.47126472e-01 -1.32338688e-01]\n [-2.76428312e-01  6.18414208e-03]\n [-5.52981831e-02  9.78986770e-02]\n [-1.01307333e-01  4.87887383e-01]\n [ 2.44076431e-01 -3.29956830e-01]\n [-9.18033302e-01 -6.23602234e-02]\n [ 1.50436863e-01 -1.50143474e-01]\n [ 1.93731338e-01  3.83557916e-01]\n [ 2.69592583e-01  1.93750754e-01]\n [ 7.40153342e-02 -2.26867169e-01]\n [ 1.33502275e-01  2.70059288e-01]\n [-3.53583157e-01  3.59674208e-02]\n [-4.53648120e-01 -1.67639986e-01]\n [ 2.74183124e-01 -1.70979083e-01]\n [-1.19754300e-01 -4.49754417e-01]\n [-2.21884042e-01  2.16378883e-01]\n [ 3.16146940e-01 -2.80983686e-01]\n [-3.25312823e-01 -2.28160098e-01]\n [ 4.76168245e-01  1.86244905e-01]\n [ 2.82100260e-01  1.86469257e-01]\n [-2.07638070e-01 -1.27796024e-01]\n [ 3.46762598e-01 -1.96737826e-01]\n [ 1.16477676e-01  2.61414796e-01]\n [ 1.50269307e-02  1.43087828e+00]\n [-6.82176054e-01  1.08016036e-01]\n [ 4.05428499e-01  2.22582575e-02]\n [ 2.72543848e-01  2.77724653e-01]\n [ 1.54287219e-01  2.64873296e-01]\n [-9.32399631e-01  2.57014111e-02]\n [ 3.65562469e-01 -9.36775133e-02]\n [ 1.67040691e-01  7.47749954e-02]\n [ 2.68949091e-01 -4.13962826e-02]\n [ 7.61766732e-03  1.44767568e-01]\n [ 7.11433738e-02 -2.34343752e-01]\n [ 3.89017254e-01 -6.89339042e-02]\n [-3.17019075e-01 -2.82765746e-01]\n [ 8.18585902e-02 -2.56769150e-01]\n [-4.56662089e-01 -1.65654123e-01]\n [ 1.01594895e-01  4.45574611e-01]\n [-2.25512505e-01  2.17547342e-01]\n [ 2.97199309e-01 -1.03300005e-01]\n [ 2.72790063e-03  4.13928181e-02]\n [-7.79580176e-02  2.21979812e-01]\n [-2.88743615e-01  1.67193696e-01]\n [-2.02265918e-01 -1.91600427e-01]\n [ 3.09164613e-01 -4.93900217e-02]\n [-1.76884711e-01 -7.08650231e-01]\n [ 2.26676255e-01 -6.03427067e-02]\n [-1.92057267e-01  1.10075675e-01]\n [ 2.53217161e-01  3.29626888e-01]\n [-4.51116823e-02 -2.99754202e-01]\n [-6.15467608e-01 -1.37139037e-01]\n [ 1.98527873e-01 -2.25632966e-01]\n [-6.78939372e-02  2.18749642e-01]\n [ 1.59823410e-02 -7.89159760e-02]\n [ 4.25083935e-02 -3.27799609e-03]\n [ 2.69799978e-01  4.50242646e-02]\n [ 3.17052603e-01  2.31930479e-01]\n [-2.16503024e-01  1.39929606e-02]\n [ 2.76360810e-01 -2.28928670e-01]\n [-5.28428435e-01 -6.56412691e-02]\n [ 4.36993569e-01 -1.90980881e-01]\n [ 2.47106984e-01  1.14547260e-01]\n [-3.33619207e-01  3.05686183e-02]\n [-3.45813602e-01 -3.36168595e-02]\n [-1.91524118e-01 -1.44200489e-01]\n [ 2.06578776e-01  2.47042432e-01]\n [ 2.42783368e-01  1.48064494e-01]\n [-3.78974468e-01 -6.67075962e-02]\n [-2.33395487e-01 -1.62491024e-01]\n [ 2.95104414e-01  1.67528600e-01]\n [ 1.73600063e-01  1.05645455e-01]\n [ 6.03108704e-02  1.04920506e+00]\n [-3.79325338e-02 -2.69983739e-01]\n [ 1.90998226e-01 -3.02247763e-01]\n [-2.40440592e-01  2.31220439e-01]\n [ 5.78453302e-01 -1.12458788e-01]\n [-2.81923026e-01  2.88201030e-03]\n [ 2.65211701e-01 -2.05715254e-01]\n [ 2.28365496e-01 -2.86360294e-01]\n [-9.30224955e-02 -2.56027460e-01]\n [ 3.07138205e-01 -1.34065151e-01]\n [-6.27479553e-02 -2.44734377e-01]\n [ 5.36619835e-02 -2.48743191e-01]\n [-2.03719288e-01  2.45070532e-01]\n [-3.29057336e-01  1.49955079e-01]\n [ 1.47844657e-01 -2.42402256e-01]\n [ 4.02313828e-01  1.93930000e-01]\n [-1.79884821e-01  2.43834734e-01]\n [-2.05252066e-01 -1.85879111e-01]\n [ 4.93485928e-01  8.13526660e-02]\n [ 1.77746324e-03 -8.60021293e-01]\n [-1.58148408e-01  4.07344520e-01]\n [-2.33980700e-01  1.56488970e-01]]\n====================================================================================\n\u001b[32mlayer_type\u001b[0m: MatMul\n\u001b[32mlayer_id\u001b[0m: 8\n\u001b[32minput_layer0\u001b[0m: layer_id=0: KerasTensor(type_spec=TensorSpec(shape=(1, 52, 2), dtype=tf.float32, name='onnx::MatMul_0'), name='onnx::MatMul_0', description=\"created by layer 'onnx::MatMul_0'\")\n\u001b[32minput_layer1_value\u001b[0m: layer_id=7: [[-7.05340132e-02 -2.65022755e-01]\n [ 2.36925811e-01  6.59991622e-01]\n [ 6.16589963e-01  5.64695336e-03]\n [-1.69255003e-01 -2.42410734e-01]\n [ 9.47645009e-02  2.58754224e-01]\n [-3.34005028e-01  2.31170785e-02]\n [-2.73983739e-02 -2.19679043e-01]\n [ 1.32015839e-01  2.57248163e-01]\n [-5.59304357e-01 -1.37649059e-01]\n [-2.85506934e-01  2.11676925e-01]\n [ 7.92698711e-02 -6.37620866e-01]\n [-2.91518599e-01 -2.22002968e-01]\n [-3.70126545e-01  5.26380874e-02]\n [-3.66190046e-01  7.47781852e-03]\n [ 5.02806067e-01 -2.37273753e-01]\n [-3.58213522e-02 -2.70093381e-01]\n [ 3.27231616e-01  5.35538569e-02]\n [-4.41547371e-02  1.12628527e-01]\n [-1.17775731e-01  1.05855155e+00]\n [-2.39683002e-01  2.27281511e-01]\n [-2.98180997e-01  1.26591519e-01]\n [-1.08875565e-01 -7.37114489e-01]\n [ 2.79450953e-01  1.54920489e-01]\n [ 4.93057668e-02  3.04957598e-01]\n [ 2.53901988e-01  2.75312513e-01]\n [-1.91698939e-01  5.52080929e-01]\n [ 7.12526381e-01  1.59076750e-01]\n [-9.13810283e-02 -2.71550268e-01]\n [ 3.82894129e-02 -1.07345715e-01]\n [ 2.16248274e-01 -4.16856110e-01]\n [ 1.71527892e-01 -2.46647835e-01]\n [-2.54614383e-01 -3.65679085e-01]\n [ 1.20226540e-01 -2.36345470e-01]\n [ 2.25349497e-02 -2.56289095e-01]\n [ 8.99940491e-01  1.70119166e-01]\n [ 2.53477599e-02 -2.52421528e-01]\n [-3.79682571e-01  2.71942765e-01]\n [-2.25066051e-01  1.87898695e-01]\n [ 2.97100753e-01  1.74499393e-01]\n [-1.51201680e-01  1.18082121e-01]\n [ 2.85034001e-01  1.15273379e-01]\n [ 1.21925786e-01 -2.54190534e-01]\n [-3.82138163e-01  3.12516242e-02]\n [-3.37648094e-01  3.00888699e-02]\n [-2.78643966e-01 -3.47741391e-03]\n [-1.12432100e-01  4.87251431e-01]\n [-2.79581755e-01 -1.87489584e-01]\n [ 3.72002453e-01  5.91694340e-02]\n [-3.31073552e-01 -2.03340843e-01]\n [-9.61850733e-02 -2.69168913e-01]\n [ 2.85020441e-01  1.46256730e-01]\n [-6.09079480e-01 -1.09570026e-02]\n [ 1.05272815e-01 -8.35698128e-01]\n [-6.45563230e-02 -2.88733482e-01]\n [ 1.21525243e-01  9.33468461e-01]\n [ 3.45083743e-01  3.14531296e-01]\n [ 2.45262071e-01  2.05071822e-01]\n [ 3.74779522e-01 -6.99902559e-03]\n [-1.84346542e-01  1.65884122e-01]\n [-2.54394710e-01  2.04103455e-01]\n [ 3.33380908e-01 -8.06348026e-03]\n [ 3.64739746e-01  1.21387057e-01]\n [-1.30950093e-01  2.49333128e-01]\n [ 1.13532871e-01  1.12328418e-01]\n [ 2.22950071e-01  3.85534555e-01]\n [-3.25272739e-01 -1.65856853e-01]\n [ 2.84678906e-01  1.66195229e-01]\n [-3.26312636e-03 -2.56751418e-01]\n [ 1.86092071e-02  8.26881081e-02]\n [ 5.07294163e-02  2.75794655e-01]\n [-2.93437511e-01  1.61124638e-03]\n [ 1.72709674e-01  2.93508589e-01]\n [-3.53627175e-01 -1.79682270e-01]\n [ 1.09501824e-01  3.92040133e-01]\n [-1.09717175e-01 -3.76167983e-01]\n [ 2.26517975e-01  2.96216428e-01]\n [ 2.20588088e-01  2.55188286e-01]\n [ 2.08903864e-01  3.43828529e-01]\n [-4.44981277e-01  2.12055892e-01]\n [-3.70158970e-01  4.08272669e-02]\n [-4.09877300e-02  1.18358567e-01]\n [ 2.57182539e-01  1.91359416e-01]\n [-2.97294229e-01  1.76808774e-01]\n [ 3.43055397e-01  2.12798849e-01]\n [-6.82842553e-01  1.18176499e-02]\n [ 4.48051631e-01 -1.92221984e-01]\n [ 1.67188480e-01 -9.34410691e-01]\n [-6.18421555e-01  3.96575332e-02]\n [ 1.84409693e-02  2.51591146e-01]\n [-6.72708690e-01 -3.53117883e-02]\n [-3.95046294e-01 -9.25562903e-03]\n [-4.24534857e-01  4.64780703e-02]\n [-3.56046587e-01  8.91253874e-02]\n [ 2.20585898e-01  1.06992036e-01]\n [-2.85199463e-01  1.88474059e-01]\n [ 2.57177681e-01 -3.89752626e-01]\n [-1.56750411e-01  8.59970808e-01]\n [-5.87565958e-01 -3.44361141e-02]\n [ 2.96326876e-01 -2.00944588e-01]\n [-3.42501253e-01  5.55345118e-02]\n [ 3.28390807e-01  1.16797082e-01]\n [ 1.08189993e-01 -2.58500695e-01]\n [-4.44052666e-01 -1.15979061e-01]\n [ 3.66933942e-01 -1.97048903e-01]\n [ 3.08343738e-01 -1.76093966e-01]\n [-1.10603817e-01  3.44098389e-01]\n [-2.85236418e-01  1.70764446e-01]\n [ 3.53202134e-01 -9.77873504e-02]\n [ 2.90594548e-01 -1.21611962e-02]\n [-5.72824292e-02  4.07575905e-01]\n [-3.67019206e-01 -2.79679984e-01]\n [-4.34873819e-01 -2.20186129e-01]\n [ 1.68722957e-01  8.23709965e-02]\n [ 1.98220715e-01  3.39302182e-01]\n [-6.47336319e-02  8.22912574e-01]\n [-1.04961142e-01  1.30395567e+00]\n [-1.94891930e-01 -2.25314528e-01]\n [ 6.34101257e-02 -3.26942891e-01]\n [ 1.00692511e-01 -2.64432311e-01]\n [ 1.13735139e-01  2.02489778e-01]\n [-2.48918101e-01  3.93297940e-01]\n [ 7.28518590e-02 -3.28526765e-01]\n [ 1.29417509e-01 -3.47888142e-01]\n [-4.46198583e-02 -3.15694278e-03]\n [ 3.40979755e-01 -1.30479202e-01]\n [-3.34170908e-01 -8.50511491e-02]\n [-2.27166951e-01  5.78813434e-01]\n [-1.72695503e-01 -2.38929048e-01]\n [-2.79096901e-01 -2.57698357e-01]\n [ 3.53711039e-01  2.83407003e-01]\n [-3.29215348e-01 -2.58476228e-01]\n [ 3.30803692e-01 -1.39169469e-01]\n [-1.68241814e-01 -2.48148486e-01]\n [-3.58428121e-01  5.10770716e-02]\n [-8.34762380e-02 -3.09104800e-01]\n [ 1.03013873e-01 -2.49452695e-01]\n [ 1.94886342e-01 -2.48325363e-01]\n [-2.07665622e-01  2.77725935e-01]\n [-2.51258940e-01  3.71657044e-01]\n [ 8.08685839e-01  8.59434456e-02]\n [-4.66363728e-01 -2.83610169e-02]\n [-1.14245325e-01 -1.62035987e-01]\n [-2.29455665e-01  4.71041143e-01]\n [ 3.19208533e-01 -2.11203797e-03]\n [ 3.60841870e-01  1.37547553e-01]\n [-4.72412109e-02 -2.61494875e-01]\n [-3.62491578e-01 -1.26441404e-01]\n [-2.39157870e-01  2.98917472e-01]\n [-3.19086194e-01  1.27930790e-01]\n [ 2.38068223e-01 -4.00051802e-01]\n [ 2.97100008e-01  1.70459628e-01]\n [ 9.36258212e-02 -1.93250880e-01]\n [ 4.40227896e-01 -1.18562288e-03]\n [-2.82724589e-01  1.82486236e-01]\n [-1.41918406e-01 -1.28064722e-01]\n [ 4.44206864e-01  1.10129915e-01]\n [ 1.14969321e-01  2.77017444e-01]\n [-3.42827380e-01  7.14711398e-02]\n [-2.65654176e-01 -1.83680475e-01]\n [-3.58648747e-01 -2.12277889e-01]\n [ 6.99436292e-02  6.45052135e-01]\n [ 1.06210813e-01  3.93065304e-01]\n [ 5.47126472e-01 -1.32338688e-01]\n [-2.76428312e-01  6.18414208e-03]\n [-5.52981831e-02  9.78986770e-02]\n [-1.01307333e-01  4.87887383e-01]\n [ 2.44076431e-01 -3.29956830e-01]\n [-9.18033302e-01 -6.23602234e-02]\n [ 1.50436863e-01 -1.50143474e-01]\n [ 1.93731338e-01  3.83557916e-01]\n [ 2.69592583e-01  1.93750754e-01]\n [ 7.40153342e-02 -2.26867169e-01]\n [ 1.33502275e-01  2.70059288e-01]\n [-3.53583157e-01  3.59674208e-02]\n [-4.53648120e-01 -1.67639986e-01]\n [ 2.74183124e-01 -1.70979083e-01]\n [-1.19754300e-01 -4.49754417e-01]\n [-2.21884042e-01  2.16378883e-01]\n [ 3.16146940e-01 -2.80983686e-01]\n [-3.25312823e-01 -2.28160098e-01]\n [ 4.76168245e-01  1.86244905e-01]\n [ 2.82100260e-01  1.86469257e-01]\n [-2.07638070e-01 -1.27796024e-01]\n [ 3.46762598e-01 -1.96737826e-01]\n [ 1.16477676e-01  2.61414796e-01]\n [ 1.50269307e-02  1.43087828e+00]\n [-6.82176054e-01  1.08016036e-01]\n [ 4.05428499e-01  2.22582575e-02]\n [ 2.72543848e-01  2.77724653e-01]\n [ 1.54287219e-01  2.64873296e-01]\n [-9.32399631e-01  2.57014111e-02]\n [ 3.65562469e-01 -9.36775133e-02]\n [ 1.67040691e-01  7.47749954e-02]\n [ 2.68949091e-01 -4.13962826e-02]\n [ 7.61766732e-03  1.44767568e-01]\n [ 7.11433738e-02 -2.34343752e-01]\n [ 3.89017254e-01 -6.89339042e-02]\n [-3.17019075e-01 -2.82765746e-01]\n [ 8.18585902e-02 -2.56769150e-01]\n [-4.56662089e-01 -1.65654123e-01]\n [ 1.01594895e-01  4.45574611e-01]\n [-2.25512505e-01  2.17547342e-01]\n [ 2.97199309e-01 -1.03300005e-01]\n [ 2.72790063e-03  4.13928181e-02]\n [-7.79580176e-02  2.21979812e-01]\n [-2.88743615e-01  1.67193696e-01]\n [-2.02265918e-01 -1.91600427e-01]\n [ 3.09164613e-01 -4.93900217e-02]\n [-1.76884711e-01 -7.08650231e-01]\n [ 2.26676255e-01 -6.03427067e-02]\n [-1.92057267e-01  1.10075675e-01]\n [ 2.53217161e-01  3.29626888e-01]\n [-4.51116823e-02 -2.99754202e-01]\n [-6.15467608e-01 -1.37139037e-01]\n [ 1.98527873e-01 -2.25632966e-01]\n [-6.78939372e-02  2.18749642e-01]\n [ 1.59823410e-02 -7.89159760e-02]\n [ 4.25083935e-02 -3.27799609e-03]\n [ 2.69799978e-01  4.50242646e-02]\n [ 3.17052603e-01  2.31930479e-01]\n [-2.16503024e-01  1.39929606e-02]\n [ 2.76360810e-01 -2.28928670e-01]\n [-5.28428435e-01 -6.56412691e-02]\n [ 4.36993569e-01 -1.90980881e-01]\n [ 2.47106984e-01  1.14547260e-01]\n [-3.33619207e-01  3.05686183e-02]\n [-3.45813602e-01 -3.36168595e-02]\n [-1.91524118e-01 -1.44200489e-01]\n [ 2.06578776e-01  2.47042432e-01]\n [ 2.42783368e-01  1.48064494e-01]\n [-3.78974468e-01 -6.67075962e-02]\n [-2.33395487e-01 -1.62491024e-01]\n [ 2.95104414e-01  1.67528600e-01]\n [ 1.73600063e-01  1.05645455e-01]\n [ 6.03108704e-02  1.04920506e+00]\n [-3.79325338e-02 -2.69983739e-01]\n [ 1.90998226e-01 -3.02247763e-01]\n [-2.40440592e-01  2.31220439e-01]\n [ 5.78453302e-01 -1.12458788e-01]\n [-2.81923026e-01  2.88201030e-03]\n [ 2.65211701e-01 -2.05715254e-01]\n [ 2.28365496e-01 -2.86360294e-01]\n [-9.30224955e-02 -2.56027460e-01]\n [ 3.07138205e-01 -1.34065151e-01]\n [-6.27479553e-02 -2.44734377e-01]\n [ 5.36619835e-02 -2.48743191e-01]\n [-2.03719288e-01  2.45070532e-01]\n [-3.29057336e-01  1.49955079e-01]\n [ 1.47844657e-01 -2.42402256e-01]\n [ 4.02313828e-01  1.93930000e-01]\n [-1.79884821e-01  2.43834734e-01]\n [-2.05252066e-01 -1.85879111e-01]\n [ 4.93485928e-01  8.13526660e-02]\n [ 1.77746324e-03 -8.60021293e-01]\n [-1.58148408e-01  4.07344520e-01]\n [-2.33980700e-01  1.56488970e-01]]\n\u001b[32mtf_layers_dict\u001b[0m: KerasTensor(type_spec=TensorSpec(shape=(1, 52, 256), dtype=tf.float32, name=None), name='tf.linalg.matmul_2/MatMul:0', description=\"created by layer 'tf.linalg.matmul_2'\")\n====================================================================================\n\u001b[32mlayer_type\u001b[0m: MatMul\n\u001b[32mlayer_id\u001b[0m: 9\n\u001b[32minput_layer0_value\u001b[0m: layer_id=6: [[0.         0.08617069 0.         ... 0.         0.         0.        ]\n [0.17274486 0.         0.4310818  ... 0.         0.         0.        ]\n [0.         0.14716598 0.         ... 0.         0.         0.        ]\n ...\n [0.         0.         0.         ... 0.         0.13413967 0.        ]\n [0.         0.         0.         ... 0.35622683 0.         0.1644201 ]\n [0.         0.         0.         ... 0.         0.5230375  0.        ]]\n\u001b[32minput_layer1\u001b[0m: layer_id=8: KerasTensor(type_spec=TensorSpec(shape=(1, 52, 256), dtype=tf.float32, name=None), name='tf.linalg.matmul_2/MatMul:0', description=\"created by layer 'tf.linalg.matmul_2'\")\n\u001b[32mtf_layers_dict\u001b[0m: KerasTensor(type_spec=TensorSpec(shape=(1, 52, 256), dtype=tf.float32, name=None), name='tf.linalg.matmul_3/MatMul:0', description=\"created by layer 'tf.linalg.matmul_3'\")\n====================================================================================\n\u001b[32mlayer_type\u001b[0m: Add\n\u001b[32mlayer_id\u001b[0m: 10\n\u001b[32minput_layer0\u001b[0m: layer_id=5: KerasTensor(type_spec=TensorSpec(shape=(1, 52, 256), dtype=tf.float32, name=None), name='tf.linalg.matmul_1/MatMul:0', description=\"created by layer 'tf.linalg.matmul_1'\")\n\u001b[32minput_layer1\u001b[0m: layer_id=9: KerasTensor(type_spec=TensorSpec(shape=(1, 52, 256), dtype=tf.float32, name=None), name='tf.linalg.matmul_3/MatMul:0', description=\"created by layer 'tf.linalg.matmul_3'\")\n\u001b[32mtf_layers_dict\u001b[0m: KerasTensor(type_spec=TensorSpec(shape=(1, 52, 256), dtype=tf.float32, name=None), name='tf.math.add/Add:0', description=\"created by layer 'tf.math.add'\")\n====================================================================================\n\u001b[32mlayer_type\u001b[0m: Const\n\u001b[32mlayer_id\u001b[0m: 11\n\u001b[32mtf_layers_dict_shape\u001b[0m: (1, 1, 256)\n\u001b[32mtf_layers_dict_value\u001b[0m: [[[ 0.03170948 -0.0109572   0.0692234   0.0093291   0.06532118\n   -0.01913276 -0.01046152 -0.03926661 -0.03595695  0.05927478\n    0.04104203  0.02529092  0.11557733 -0.0139453   0.03084749\n   -0.00462033  0.01643305  0.04016075 -0.04895181 -0.00605664\n    0.10510622  0.09298209 -0.02776772 -0.01158864  0.00258887\n   -0.02673127  0.06426549 -0.02215558 -0.0106963   0.01858998\n    0.0348904   0.02375347  0.01244775  0.0378532   0.00135979\n    0.06529903  0.01928147  0.02102883  0.07085229  0.06476416\n    0.13019265 -0.01223348  0.0661575   0.01464297  0.04050414\n   -0.00296569  0.02047508  0.08178333  0.01204466  0.00242004\n    0.02352444  0.03745988  0.05806348  0.06238338 -0.0329955\n    0.0071566   0.00506057  0.02880997  0.00282294 -0.01893353\n   -0.03270793  0.07565738 -0.02890841  0.07932471 -0.03367344\n    0.06946068  0.04479451  0.09958763  0.08238062 -0.02400732\n    0.03384373  0.00354425  0.07282159 -0.02783107  0.08288328\n   -0.01539344 -0.03533323 -0.01231266  0.03152185  0.02255787\n   -0.02076863 -0.06747151  0.03599366 -0.05297914  0.01663297\n    0.06322763  0.03420349  0.07059459 -0.01905074  0.02107943\n    0.05230439  0.00053298  0.0373737   0.07225453 -0.02068313\n    0.05118312  0.0092098   0.03304278  0.0124602  -0.02856557\n    0.02779335 -0.00067452  0.08249924  0.03767509  0.04709397\n    0.00728478 -0.01523109  0.06441706  0.03523049 -0.01681472\n    0.04282287  0.02387144 -0.03705851 -0.03740397 -0.03664266\n   -0.0429281   0.08310813  0.06994928 -0.00505219  0.05343977\n   -0.02857861  0.0146923   0.03624767 -0.01014347 -0.12612815\n    0.01788422  0.00693266 -0.00794677  0.05419206  0.04937626\n    0.11131208  0.06464269 -0.10822681 -0.03672124  0.08272434\n    0.02521567 -0.01362086  0.02584045  0.00481275  0.03039248\n    0.04461377 -0.0450678   0.01017995  0.10664129  0.04365367\n   -0.00416502  0.00189663  0.04380957 -0.00946497  0.07300615\n    0.0590696   0.06152814  0.04120878 -0.03367537  0.05425453\n    0.01249591  0.04581922 -0.03482364  0.05554196  0.02410543\n    0.01683586 -0.01122343  0.01749414  0.11401707  0.03533027\n   -0.03849927  0.07949115  0.0569265   0.01623696  0.00550964\n   -0.04325708  0.00212063  0.03131028 -0.08783645  0.05200541\n   -0.06881744  0.01940895 -0.06357194 -0.00761588 -0.0422316\n    0.00880467 -0.01001759  0.12180251  0.02570191 -0.05927024\n    0.01550753  0.01123073  0.03856786 -0.00104341  0.07352463\n    0.06206348 -0.05392993 -0.02152072 -0.01887387 -0.04672714\n   -0.01589506  0.07115612  0.03315814  0.09917099  0.05176218\n   -0.00634975  0.07917527 -0.01065679 -0.0505789   0.05281239\n    0.0498408  -0.00323817 -0.06893157  0.04683637 -0.01763617\n    0.07894387  0.00261538  0.05194204  0.04962837  0.02200615\n    0.02644089 -0.02064021  0.00660496  0.06890371  0.01974535\n    0.08647975  0.09458644  0.02475869  0.08279806  0.03733948\n    0.01350385  0.1386132   0.10550198  0.15477173  0.02289408\n   -0.0264277   0.07506756  0.05364947  0.06088219 -0.05096336\n    0.06814147  0.10163924 -0.09094686  0.01698447 -0.0242574\n    0.02949815 -0.01324234  0.13372517  0.01347032  0.08564819\n   -0.01862287 -0.02964606  0.04990678 -0.00613049  0.06363987\n   -0.01071178  0.09250781  0.01215672  0.07606939 -0.00070773\n    0.01317401]]]\n====================================================================================\n\u001b[32mlayer_type\u001b[0m: Add\n\u001b[32mlayer_id\u001b[0m: 12\n\u001b[32minput_layer0\u001b[0m: layer_id=10: KerasTensor(type_spec=TensorSpec(shape=(1, 52, 256), dtype=tf.float32, name=None), name='tf.math.add/Add:0', description=\"created by layer 'tf.math.add'\")\n\u001b[32minput_layer1_value\u001b[0m: layer_id=11: [[[ 0.03170948 -0.0109572   0.0692234   0.0093291   0.06532118\n   -0.01913276 -0.01046152 -0.03926661 -0.03595695  0.05927478\n    0.04104203  0.02529092  0.11557733 -0.0139453   0.03084749\n   -0.00462033  0.01643305  0.04016075 -0.04895181 -0.00605664\n    0.10510622  0.09298209 -0.02776772 -0.01158864  0.00258887\n   -0.02673127  0.06426549 -0.02215558 -0.0106963   0.01858998\n    0.0348904   0.02375347  0.01244775  0.0378532   0.00135979\n    0.06529903  0.01928147  0.02102883  0.07085229  0.06476416\n    0.13019265 -0.01223348  0.0661575   0.01464297  0.04050414\n   -0.00296569  0.02047508  0.08178333  0.01204466  0.00242004\n    0.02352444  0.03745988  0.05806348  0.06238338 -0.0329955\n    0.0071566   0.00506057  0.02880997  0.00282294 -0.01893353\n   -0.03270793  0.07565738 -0.02890841  0.07932471 -0.03367344\n    0.06946068  0.04479451  0.09958763  0.08238062 -0.02400732\n    0.03384373  0.00354425  0.07282159 -0.02783107  0.08288328\n   -0.01539344 -0.03533323 -0.01231266  0.03152185  0.02255787\n   -0.02076863 -0.06747151  0.03599366 -0.05297914  0.01663297\n    0.06322763  0.03420349  0.07059459 -0.01905074  0.02107943\n    0.05230439  0.00053298  0.0373737   0.07225453 -0.02068313\n    0.05118312  0.0092098   0.03304278  0.0124602  -0.02856557\n    0.02779335 -0.00067452  0.08249924  0.03767509  0.04709397\n    0.00728478 -0.01523109  0.06441706  0.03523049 -0.01681472\n    0.04282287  0.02387144 -0.03705851 -0.03740397 -0.03664266\n   -0.0429281   0.08310813  0.06994928 -0.00505219  0.05343977\n   -0.02857861  0.0146923   0.03624767 -0.01014347 -0.12612815\n    0.01788422  0.00693266 -0.00794677  0.05419206  0.04937626\n    0.11131208  0.06464269 -0.10822681 -0.03672124  0.08272434\n    0.02521567 -0.01362086  0.02584045  0.00481275  0.03039248\n    0.04461377 -0.0450678   0.01017995  0.10664129  0.04365367\n   -0.00416502  0.00189663  0.04380957 -0.00946497  0.07300615\n    0.0590696   0.06152814  0.04120878 -0.03367537  0.05425453\n    0.01249591  0.04581922 -0.03482364  0.05554196  0.02410543\n    0.01683586 -0.01122343  0.01749414  0.11401707  0.03533027\n   -0.03849927  0.07949115  0.0569265   0.01623696  0.00550964\n   -0.04325708  0.00212063  0.03131028 -0.08783645  0.05200541\n   -0.06881744  0.01940895 -0.06357194 -0.00761588 -0.0422316\n    0.00880467 -0.01001759  0.12180251  0.02570191 -0.05927024\n    0.01550753  0.01123073  0.03856786 -0.00104341  0.07352463\n    0.06206348 -0.05392993 -0.02152072 -0.01887387 -0.04672714\n   -0.01589506  0.07115612  0.03315814  0.09917099  0.05176218\n   -0.00634975  0.07917527 -0.01065679 -0.0505789   0.05281239\n    0.0498408  -0.00323817 -0.06893157  0.04683637 -0.01763617\n    0.07894387  0.00261538  0.05194204  0.04962837  0.02200615\n    0.02644089 -0.02064021  0.00660496  0.06890371  0.01974535\n    0.08647975  0.09458644  0.02475869  0.08279806  0.03733948\n    0.01350385  0.1386132   0.10550198  0.15477173  0.02289408\n   -0.0264277   0.07506756  0.05364947  0.06088219 -0.05096336\n    0.06814147  0.10163924 -0.09094686  0.01698447 -0.0242574\n    0.02949815 -0.01324234  0.13372517  0.01347032  0.08564819\n   -0.01862287 -0.02964606  0.04990678 -0.00613049  0.06363987\n   -0.01071178  0.09250781  0.01215672  0.07606939 -0.00070773\n    0.01317401]]]\n\u001b[32mtf_layers_dict\u001b[0m: KerasTensor(type_spec=TensorSpec(shape=(1, 52, 256), dtype=tf.float32, name=None), name='tf.math.add_1/Add:0', description=\"created by layer 'tf.math.add_1'\")\n====================================================================================\n\u001b[32mlayer_type\u001b[0m: Const\n\u001b[32mlayer_id\u001b[0m: 13\n\u001b[32mtf_layers_dict_shape\u001b[0m: (3,)\n\u001b[32mtf_layers_dict_value\u001b[0m: [0 2 1]\n====================================================================================\n\u001b[32mlayer_type\u001b[0m: Transpose\n\u001b[32mlayer_id\u001b[0m: 14\n\u001b[32minput_layer0\u001b[0m: layer_id=12: KerasTensor(type_spec=TensorSpec(shape=(1, 52, 256), dtype=tf.float32, name=None), name='tf.math.add_1/Add:0', description=\"created by layer 'tf.math.add_1'\")\n\u001b[32minput_layer1_value\u001b[0m: layer_id=13: [0 2 1]\n\u001b[32mtf_layers_dict\u001b[0m: KerasTensor(type_spec=TensorSpec(shape=(1, 256, 52), dtype=tf.float32, name=None), name='tf.compat.v1.transpose/transpose:0', description=\"created by layer 'tf.compat.v1.transpose'\")\n====================================================================================\n\u001b[32mlayer_type\u001b[0m: Const\n\u001b[32mlayer_id\u001b[0m: 15\n\u001b[32mtf_layers_dict_shape\u001b[0m: (1, 256, 1)\n\u001b[32mtf_layers_dict_value\u001b[0m: [[[12.380164  ]\n  [ 1.7493746 ]\n  [ 2.964395  ]\n  [ 7.2055674 ]\n  [ 7.8195515 ]\n  [ 1.2521849 ]\n  [ 4.5383296 ]\n  [ 8.422481  ]\n  [ 2.277     ]\n  [11.177363  ]\n  [ 1.1184049 ]\n  [ 8.932585  ]\n  [ 9.78097   ]\n  [ 8.510735  ]\n  [ 2.459615  ]\n  [ 3.6033452 ]\n  [ 1.6647013 ]\n  [ 3.8209636 ]\n  [ 0.83139795]\n  [ 8.069483  ]\n  [ 9.428681  ]\n  [ 1.4179348 ]\n  [ 6.383975  ]\n  [ 6.565762  ]\n  [10.46631   ]\n  [ 1.8539882 ]\n  [ 2.2555811 ]\n  [13.131363  ]\n  [ 2.3784995 ]\n  [ 1.691604  ]\n  [ 6.4090033 ]\n  [ 1.4481035 ]\n  [ 4.5358057 ]\n  [10.410572  ]\n  [ 1.1732886 ]\n  [ 8.847585  ]\n  [ 2.086989  ]\n  [ 8.636     ]\n  [10.750029  ]\n  [ 3.7000253 ]\n  [12.931388  ]\n  [ 9.073588  ]\n  [ 9.478366  ]\n  [ 9.974644  ]\n  [ 5.948118  ]\n  [ 2.8352199 ]\n  [ 4.62737   ]\n  [ 9.49994   ]\n  [ 9.197572  ]\n  [ 8.231335  ]\n  [11.402918  ]\n  [ 3.25721   ]\n  [ 0.7303841 ]\n  [ 6.3027973 ]\n  [ 1.2260996 ]\n  [ 2.0203993 ]\n  [ 9.686918  ]\n  [ 7.531824  ]\n  [ 4.35781   ]\n  [ 0.7549505 ]\n  [ 7.4455495 ]\n  [ 7.1758404 ]\n  [ 5.5057755 ]\n  [ 1.0334361 ]\n  [ 4.9937534 ]\n  [ 1.6397905 ]\n  [ 1.3195769 ]\n  [11.675217  ]\n  [ 0.79822475]\n  [ 5.6344476 ]\n  [ 4.6452136 ]\n  [ 8.189071  ]\n  [ 8.851159  ]\n  [ 4.939288  ]\n  [ 4.5274663 ]\n  [ 8.777182  ]\n  [12.563858  ]\n  [ 1.8298651 ]\n  [ 1.7505087 ]\n  [ 7.804933  ]\n  [ 1.618968  ]\n  [ 7.6476707 ]\n  [12.548258  ]\n  [ 5.2571397 ]\n  [ 1.4991661 ]\n  [ 3.5431633 ]\n  [ 0.7324283 ]\n  [ 1.5706161 ]\n  [ 3.4141872 ]\n  [ 1.6747961 ]\n  [ 8.437544  ]\n  [ 1.2550585 ]\n  [ 9.462687  ]\n  [ 1.6311442 ]\n  [ 8.918545  ]\n  [ 4.3742785 ]\n  [ 0.93606174]\n  [ 2.8913221 ]\n  [ 5.778565  ]\n  [ 8.664525  ]\n  [ 3.4038832 ]\n  [ 4.767115  ]\n  [ 5.3279095 ]\n  [ 5.0549927 ]\n  [ 7.275627  ]\n  [ 4.5030556 ]\n  [ 8.766971  ]\n  [ 8.876657  ]\n  [ 2.6546428 ]\n  [ 9.864754  ]\n  [ 1.8388001 ]\n  [ 2.4947443 ]\n  [ 1.9135114 ]\n  [ 1.2566246 ]\n  [ 0.91895837]\n  [ 0.7687677 ]\n  [ 1.4045606 ]\n  [ 2.8204627 ]\n  [ 7.0110416 ]\n  [ 3.7764826 ]\n  [ 3.4567683 ]\n  [ 3.170672  ]\n  [ 2.2435179 ]\n  [ 1.9567692 ]\n  [ 8.43786   ]\n  [ 7.814337  ]\n  [ 1.6495751 ]\n  [ 6.321072  ]\n  [ 5.763574  ]\n  [ 2.310123  ]\n  [ 3.52049   ]\n  [11.898452  ]\n  [ 6.5936375 ]\n  [11.019215  ]\n  [ 2.809539  ]\n  [ 3.7794375 ]\n  [ 5.986705  ]\n  [ 5.240958  ]\n  [ 3.8935292 ]\n  [ 1.3238883 ]\n  [ 7.7585087 ]\n  [ 4.177221  ]\n  [ 2.8646634 ]\n  [ 8.982662  ]\n  [ 8.266631  ]\n  [13.252987  ]\n  [ 7.6402216 ]\n  [ 8.119405  ]\n  [ 1.6229666 ]\n  [ 2.0849829 ]\n  [12.320056  ]\n  [ 0.5921509 ]\n  [ 1.2913284 ]\n  [14.506769  ]\n  [ 4.2254086 ]\n  [ 4.6560836 ]\n  [ 7.6279535 ]\n  [ 8.270944  ]\n  [ 7.6463084 ]\n  [ 6.9837    ]\n  [ 1.2423939 ]\n  [ 3.609727  ]\n  [ 3.5601869 ]\n  [ 4.723056  ]\n  [ 1.8712523 ]\n  [ 1.821756  ]\n  [ 4.6297565 ]\n  [ 1.54423   ]\n  [ 5.489454  ]\n  [ 1.6808639 ]\n  [13.492532  ]\n  [ 5.7636766 ]\n  [ 8.847241  ]\n  [ 9.582127  ]\n  [ 2.2837858 ]\n  [ 6.552526  ]\n  [ 2.9414468 ]\n  [ 8.027801  ]\n  [ 4.2040772 ]\n  [ 7.153446  ]\n  [ 1.5268171 ]\n  [ 3.0617275 ]\n  [ 1.5109606 ]\n  [ 5.4318447 ]\n  [ 8.641298  ]\n  [ 0.9339529 ]\n  [ 0.97386134]\n  [ 9.062344  ]\n  [ 5.5468907 ]\n  [ 7.7657223 ]\n  [ 1.0388811 ]\n  [10.671922  ]\n  [ 2.5603142 ]\n  [ 4.7568398 ]\n  [ 1.3079336 ]\n  [ 3.5414088 ]\n  [10.284529  ]\n  [ 1.7538105 ]\n  [10.883389  ]\n  [ 3.412512  ]\n  [ 3.0526018 ]\n  [ 9.079025  ]\n  [ 7.574154  ]\n  [ 1.7044915 ]\n  [ 3.249719  ]\n  [ 7.3516455 ]\n  [ 5.5187507 ]\n  [ 4.5880523 ]\n  [ 1.1452668 ]\n  [ 2.9593375 ]\n  [ 3.834355  ]\n  [ 7.121914  ]\n  [ 5.3780055 ]\n  [ 1.13882   ]\n  [ 7.4056215 ]\n  [ 2.132695  ]\n  [ 1.5080826 ]\n  [ 2.0681946 ]\n  [ 9.1638975 ]\n  [ 4.3398576 ]\n  [ 5.6711607 ]\n  [ 7.851899  ]\n  [ 4.7951913 ]\n  [ 4.0734854 ]\n  [ 9.838149  ]\n  [10.762412  ]\n  [ 8.4389715 ]\n  [ 4.660477  ]\n  [11.785652  ]\n  [ 1.4949021 ]\n  [ 6.2037535 ]\n  [ 1.4827157 ]\n  [13.140408  ]\n  [ 4.463882  ]\n  [ 1.0136827 ]\n  [11.713249  ]\n  [ 1.1807269 ]\n  [ 7.802408  ]\n  [ 4.8138084 ]\n  [ 5.193235  ]\n  [ 5.6144757 ]\n  [ 4.8591123 ]\n  [13.608176  ]\n  [ 9.702033  ]\n  [ 6.1805744 ]\n  [ 8.369305  ]\n  [ 9.078432  ]\n  [13.862313  ]\n  [ 4.128619  ]\n  [ 2.0217705 ]\n  [ 9.158785  ]\n  [ 4.1484423 ]\n  [ 2.821014  ]\n  [ 0.86856836]\n  [ 3.8550444 ]\n  [ 6.005074  ]]]\n====================================================================================\n\u001b[32mlayer_type\u001b[0m: Multiply\n\u001b[32mlayer_id\u001b[0m: 16\n\u001b[32minput_layer0\u001b[0m: layer_id=14: KerasTensor(type_spec=TensorSpec(shape=(1, 256, 52), dtype=tf.float32, name=None), name='tf.compat.v1.transpose/transpose:0', description=\"created by layer 'tf.compat.v1.transpose'\")\n\u001b[32minput_layer1_value\u001b[0m: layer_id=15: [[[12.380164  ]\n  [ 1.7493746 ]\n  [ 2.964395  ]\n  [ 7.2055674 ]\n  [ 7.8195515 ]\n  [ 1.2521849 ]\n  [ 4.5383296 ]\n  [ 8.422481  ]\n  [ 2.277     ]\n  [11.177363  ]\n  [ 1.1184049 ]\n  [ 8.932585  ]\n  [ 9.78097   ]\n  [ 8.510735  ]\n  [ 2.459615  ]\n  [ 3.6033452 ]\n  [ 1.6647013 ]\n  [ 3.8209636 ]\n  [ 0.83139795]\n  [ 8.069483  ]\n  [ 9.428681  ]\n  [ 1.4179348 ]\n  [ 6.383975  ]\n  [ 6.565762  ]\n  [10.46631   ]\n  [ 1.8539882 ]\n  [ 2.2555811 ]\n  [13.131363  ]\n  [ 2.3784995 ]\n  [ 1.691604  ]\n  [ 6.4090033 ]\n  [ 1.4481035 ]\n  [ 4.5358057 ]\n  [10.410572  ]\n  [ 1.1732886 ]\n  [ 8.847585  ]\n  [ 2.086989  ]\n  [ 8.636     ]\n  [10.750029  ]\n  [ 3.7000253 ]\n  [12.931388  ]\n  [ 9.073588  ]\n  [ 9.478366  ]\n  [ 9.974644  ]\n  [ 5.948118  ]\n  [ 2.8352199 ]\n  [ 4.62737   ]\n  [ 9.49994   ]\n  [ 9.197572  ]\n  [ 8.231335  ]\n  [11.402918  ]\n  [ 3.25721   ]\n  [ 0.7303841 ]\n  [ 6.3027973 ]\n  [ 1.2260996 ]\n  [ 2.0203993 ]\n  [ 9.686918  ]\n  [ 7.531824  ]\n  [ 4.35781   ]\n  [ 0.7549505 ]\n  [ 7.4455495 ]\n  [ 7.1758404 ]\n  [ 5.5057755 ]\n  [ 1.0334361 ]\n  [ 4.9937534 ]\n  [ 1.6397905 ]\n  [ 1.3195769 ]\n  [11.675217  ]\n  [ 0.79822475]\n  [ 5.6344476 ]\n  [ 4.6452136 ]\n  [ 8.189071  ]\n  [ 8.851159  ]\n  [ 4.939288  ]\n  [ 4.5274663 ]\n  [ 8.777182  ]\n  [12.563858  ]\n  [ 1.8298651 ]\n  [ 1.7505087 ]\n  [ 7.804933  ]\n  [ 1.618968  ]\n  [ 7.6476707 ]\n  [12.548258  ]\n  [ 5.2571397 ]\n  [ 1.4991661 ]\n  [ 3.5431633 ]\n  [ 0.7324283 ]\n  [ 1.5706161 ]\n  [ 3.4141872 ]\n  [ 1.6747961 ]\n  [ 8.437544  ]\n  [ 1.2550585 ]\n  [ 9.462687  ]\n  [ 1.6311442 ]\n  [ 8.918545  ]\n  [ 4.3742785 ]\n  [ 0.93606174]\n  [ 2.8913221 ]\n  [ 5.778565  ]\n  [ 8.664525  ]\n  [ 3.4038832 ]\n  [ 4.767115  ]\n  [ 5.3279095 ]\n  [ 5.0549927 ]\n  [ 7.275627  ]\n  [ 4.5030556 ]\n  [ 8.766971  ]\n  [ 8.876657  ]\n  [ 2.6546428 ]\n  [ 9.864754  ]\n  [ 1.8388001 ]\n  [ 2.4947443 ]\n  [ 1.9135114 ]\n  [ 1.2566246 ]\n  [ 0.91895837]\n  [ 0.7687677 ]\n  [ 1.4045606 ]\n  [ 2.8204627 ]\n  [ 7.0110416 ]\n  [ 3.7764826 ]\n  [ 3.4567683 ]\n  [ 3.170672  ]\n  [ 2.2435179 ]\n  [ 1.9567692 ]\n  [ 8.43786   ]\n  [ 7.814337  ]\n  [ 1.6495751 ]\n  [ 6.321072  ]\n  [ 5.763574  ]\n  [ 2.310123  ]\n  [ 3.52049   ]\n  [11.898452  ]\n  [ 6.5936375 ]\n  [11.019215  ]\n  [ 2.809539  ]\n  [ 3.7794375 ]\n  [ 5.986705  ]\n  [ 5.240958  ]\n  [ 3.8935292 ]\n  [ 1.3238883 ]\n  [ 7.7585087 ]\n  [ 4.177221  ]\n  [ 2.8646634 ]\n  [ 8.982662  ]\n  [ 8.266631  ]\n  [13.252987  ]\n  [ 7.6402216 ]\n  [ 8.119405  ]\n  [ 1.6229666 ]\n  [ 2.0849829 ]\n  [12.320056  ]\n  [ 0.5921509 ]\n  [ 1.2913284 ]\n  [14.506769  ]\n  [ 4.2254086 ]\n  [ 4.6560836 ]\n  [ 7.6279535 ]\n  [ 8.270944  ]\n  [ 7.6463084 ]\n  [ 6.9837    ]\n  [ 1.2423939 ]\n  [ 3.609727  ]\n  [ 3.5601869 ]\n  [ 4.723056  ]\n  [ 1.8712523 ]\n  [ 1.821756  ]\n  [ 4.6297565 ]\n  [ 1.54423   ]\n  [ 5.489454  ]\n  [ 1.6808639 ]\n  [13.492532  ]\n  [ 5.7636766 ]\n  [ 8.847241  ]\n  [ 9.582127  ]\n  [ 2.2837858 ]\n  [ 6.552526  ]\n  [ 2.9414468 ]\n  [ 8.027801  ]\n  [ 4.2040772 ]\n  [ 7.153446  ]\n  [ 1.5268171 ]\n  [ 3.0617275 ]\n  [ 1.5109606 ]\n  [ 5.4318447 ]\n  [ 8.641298  ]\n  [ 0.9339529 ]\n  [ 0.97386134]\n  [ 9.062344  ]\n  [ 5.5468907 ]\n  [ 7.7657223 ]\n  [ 1.0388811 ]\n  [10.671922  ]\n  [ 2.5603142 ]\n  [ 4.7568398 ]\n  [ 1.3079336 ]\n  [ 3.5414088 ]\n  [10.284529  ]\n  [ 1.7538105 ]\n  [10.883389  ]\n  [ 3.412512  ]\n  [ 3.0526018 ]\n  [ 9.079025  ]\n  [ 7.574154  ]\n  [ 1.7044915 ]\n  [ 3.249719  ]\n  [ 7.3516455 ]\n  [ 5.5187507 ]\n  [ 4.5880523 ]\n  [ 1.1452668 ]\n  [ 2.9593375 ]\n  [ 3.834355  ]\n  [ 7.121914  ]\n  [ 5.3780055 ]\n  [ 1.13882   ]\n  [ 7.4056215 ]\n  [ 2.132695  ]\n  [ 1.5080826 ]\n  [ 2.0681946 ]\n  [ 9.1638975 ]\n  [ 4.3398576 ]\n  [ 5.6711607 ]\n  [ 7.851899  ]\n  [ 4.7951913 ]\n  [ 4.0734854 ]\n  [ 9.838149  ]\n  [10.762412  ]\n  [ 8.4389715 ]\n  [ 4.660477  ]\n  [11.785652  ]\n  [ 1.4949021 ]\n  [ 6.2037535 ]\n  [ 1.4827157 ]\n  [13.140408  ]\n  [ 4.463882  ]\n  [ 1.0136827 ]\n  [11.713249  ]\n  [ 1.1807269 ]\n  [ 7.802408  ]\n  [ 4.8138084 ]\n  [ 5.193235  ]\n  [ 5.6144757 ]\n  [ 4.8591123 ]\n  [13.608176  ]\n  [ 9.702033  ]\n  [ 6.1805744 ]\n  [ 8.369305  ]\n  [ 9.078432  ]\n  [13.862313  ]\n  [ 4.128619  ]\n  [ 2.0217705 ]\n  [ 9.158785  ]\n  [ 4.1484423 ]\n  [ 2.821014  ]\n  [ 0.86856836]\n  [ 3.8550444 ]\n  [ 6.005074  ]]]\n\u001b[32mtf_layers_dict\u001b[0m: KerasTensor(type_spec=TensorSpec(shape=(1, 256, 52), dtype=tf.float32, name=None), name='tf.math.multiply_1/Mul:0', description=\"created by layer 'tf.math.multiply_1'\")\n====================================================================================\n\u001b[32mlayer_type\u001b[0m: Const\n\u001b[32mlayer_id\u001b[0m: 17\n\u001b[32mtf_layers_dict_shape\u001b[0m: (1, 256, 1)\n\u001b[32mtf_layers_dict_value\u001b[0m: [[[-1.18584931e+00]\n  [-3.42822850e-01]\n  [-1.66491479e-01]\n  [-4.07292098e-01]\n  [-6.97446525e-01]\n  [-9.08542350e-02]\n  [-1.10052742e-01]\n  [ 4.18945551e-02]\n  [-3.77203107e-01]\n  [-1.40948200e+00]\n  [ 1.78791374e-01]\n  [-4.94807243e-01]\n  [-1.16943312e+00]\n  [ 9.27961692e-02]\n  [-4.65579301e-01]\n  [-4.85304236e-01]\n  [-6.94728568e-02]\n  [ 4.87223268e-03]\n  [-4.74047482e-01]\n  [-8.66031229e-01]\n  [-1.47985208e+00]\n  [ 1.41163304e-01]\n  [-7.91195273e-01]\n  [-1.54521883e-01]\n  [-7.33787477e-01]\n  [-8.89850259e-01]\n  [-1.02075666e-01]\n  [-4.85800326e-01]\n  [-5.63811064e-01]\n  [ 2.21134976e-01]\n  [-2.65836358e-01]\n  [ 2.05895990e-01]\n  [-2.13272259e-01]\n  [-1.06829429e+00]\n  [-2.33030185e-01]\n  [-1.16404235e+00]\n  [-5.30293941e-01]\n  [-3.24410051e-01]\n  [-1.08353198e+00]\n  [-1.31027967e-01]\n  [-1.88233662e+00]\n  [-3.25147778e-01]\n  [-6.28490984e-01]\n  [-2.91847020e-01]\n  [-1.04073358e+00]\n  [-5.22527456e-01]\n  [ 1.60738863e-02]\n  [-7.92471528e-01]\n  [-5.60993552e-01]\n  [-4.55173075e-01]\n  [-5.62901855e-01]\n  [-1.81775928e-01]\n  [ 2.04743877e-01]\n  [-7.08945036e-01]\n  [-4.04510409e-01]\n  [-2.24361286e-01]\n  [-3.01147580e-01]\n  [-1.17425941e-01]\n  [-4.78941053e-01]\n  [-1.83940709e-01]\n  [ 3.25774491e-01]\n  [-9.85467851e-01]\n  [ 7.32874125e-02]\n  [ 1.99002668e-01]\n  [-4.15991187e-01]\n  [ 7.46790618e-02]\n  [ 1.50822178e-02]\n  [-1.97450161e+00]\n  [ 2.14329764e-01]\n  [ 1.73755869e-01]\n  [-3.95377815e-01]\n  [-4.30851579e-01]\n  [-9.40297961e-01]\n  [-7.07582951e-01]\n  [-1.69367582e-01]\n  [-4.26941097e-01]\n  [-3.06929201e-01]\n  [-3.11432123e-01]\n  [-2.76470423e-01]\n  [-6.30528748e-01]\n  [-4.35933709e-01]\n  [ 4.21678901e-01]\n  [-1.08499527e+00]\n  [ 2.53841169e-02]\n  [-3.10694426e-01]\n  [-2.24836320e-01]\n  [ 2.22685412e-01]\n  [-2.02489495e-01]\n  [ 2.51479030e-01]\n  [-3.04232657e-01]\n  [-8.59097958e-01]\n  [-1.87150821e-01]\n  [-5.67519426e-01]\n  [-6.39738664e-02]\n  [-3.74841511e-01]\n  [-4.42803025e-01]\n  [-2.74173886e-01]\n  [-3.88060033e-01]\n  [-3.37614506e-01]\n  [-4.03864324e-01]\n  [-1.62992880e-01]\n  [-5.36249995e-01]\n  [-4.80737567e-01]\n  [-3.85500610e-01]\n  [-3.23369205e-01]\n  [-4.29570735e-01]\n  [-7.66336918e-01]\n  [-6.80848479e-01]\n  [-1.86637402e-01]\n  [-9.15399253e-01]\n  [-1.78174973e-01]\n  [-7.78773427e-02]\n  [-1.94221452e-01]\n  [-1.74971849e-01]\n  [-2.50578910e-01]\n  [-3.68636310e-01]\n  [ 1.52156770e-01]\n  [-3.38823646e-01]\n  [-2.69477844e-01]\n  [-9.22975540e-02]\n  [-4.83155370e-01]\n  [-2.44236439e-01]\n  [-1.45161808e-01]\n  [-5.01716852e-01]\n  [ 1.10045481e+00]\n  [-6.16221204e-02]\n  [-1.02082908e+00]\n  [-2.42255896e-01]\n  [-4.73854363e-01]\n  [-2.15337828e-01]\n  [-3.91518235e-01]\n  [-1.18583310e+00]\n  [ 4.21610296e-01]\n  [ 2.85620511e-01]\n  [-4.11847949e-01]\n  [-5.26067674e-01]\n  [-2.23244712e-01]\n  [-2.54454285e-01]\n  [-5.13410807e-01]\n  [-2.43472867e-03]\n  [-5.43649793e-01]\n  [-5.76030374e-01]\n  [-5.99915266e-01]\n  [-8.38902414e-01]\n  [-7.32984841e-01]\n  [-8.88353109e-01]\n  [-6.58637881e-02]\n  [-1.06131232e+00]\n  [-3.97217214e-01]\n  [ 6.67252094e-02]\n  [-1.02446496e+00]\n  [ 2.37837031e-01]\n  [-5.16962931e-02]\n  [-3.53991151e-01]\n  [-3.70737433e-01]\n  [ 2.63191238e-02]\n  [-5.49058497e-01]\n  [ 1.51301011e-01]\n  [-6.27680004e-01]\n  [-4.14912224e-01]\n  [-8.00569415e-01]\n  [-5.52258611e-01]\n  [-1.67246222e-01]\n  [-5.18685818e-01]\n  [-5.84971547e-01]\n  [-5.61562479e-01]\n  [-7.33379126e-01]\n  [-1.56902939e-01]\n  [-8.62789154e-01]\n  [-2.84758478e-01]\n  [ 1.19094253e-02]\n  [-5.04349470e-01]\n  [-5.18704057e-01]\n  [ 6.54321253e-01]\n  [-5.74866176e-01]\n  [ 2.56904215e-01]\n  [ 9.28339064e-02]\n  [ 3.74129951e-01]\n  [-1.64706647e-01]\n  [ 2.20240131e-01]\n  [-1.13105610e-01]\n  [-4.78118241e-01]\n  [ 3.12251057e-02]\n  [-3.54376972e-01]\n  [ 3.23951185e-01]\n  [-5.14860749e-01]\n  [-8.43525678e-03]\n  [-4.04884517e-01]\n  [-3.40720862e-01]\n  [-7.37334430e-01]\n  [-1.21237174e-01]\n  [ 2.18403816e-01]\n  [-4.67805862e-01]\n  [-3.67003828e-01]\n  [-2.69473046e-01]\n  [-3.63513768e-01]\n  [-1.01856256e+00]\n  [-1.34625584e-01]\n  [-1.75269032e+00]\n  [-2.17054442e-01]\n  [-4.12167430e-01]\n  [-8.69876027e-01]\n  [-8.43738317e-01]\n  [-3.74201000e-01]\n  [ 1.81994271e-02]\n  [-8.67486358e-01]\n  [-1.16522476e-01]\n  [ 1.46335363e-03]\n  [ 1.91358611e-01]\n  [-5.80145791e-02]\n  [-2.49890715e-01]\n  [-6.69357359e-01]\n  [-7.25370526e-01]\n  [-3.22588086e-01]\n  [-6.13744020e-01]\n  [-4.61089492e-01]\n  [-3.92134011e-01]\n  [-5.48507094e-01]\n  [-5.73261797e-01]\n  [-3.63762736e-01]\n  [-3.74279082e-01]\n  [-8.30524445e-01]\n  [-2.72078186e-01]\n  [-3.24523658e-01]\n  [-6.72598124e-01]\n  [-2.66571403e-01]\n  [-1.29612470e+00]\n  [-6.80104494e-01]\n  [-2.30719304e+00]\n  [ 7.40597919e-02]\n  [ 1.27452672e-01]\n  [ 2.71414388e-02]\n  [-1.05254698e+00]\n  [-1.57408535e-01]\n  [-6.96512699e-01]\n  [-1.71946955e+00]\n  [ 1.78758726e-01]\n  [ 5.70035517e-01]\n  [-2.87071019e-01]\n  [-3.59770417e-01]\n  [-3.67096782e-01]\n  [-1.04930431e-01]\n  [-2.66624713e+00]\n  [-4.45217550e-01]\n  [-8.67920041e-01]\n  [-3.60046566e-01]\n  [-1.93327576e-01]\n  [-1.22512341e+00]\n  [-4.51172024e-01]\n  [-6.07123561e-02]\n  [-2.71847397e-02]\n  [-2.60640264e-01]\n  [-3.48623395e-01]\n  [ 2.65382975e-01]\n  [-6.44869506e-01]\n  [-1.09184839e-01]]]\n====================================================================================\n\u001b[32mlayer_type\u001b[0m: Add\n\u001b[32mlayer_id\u001b[0m: 18\n\u001b[32minput_layer0\u001b[0m: layer_id=16: KerasTensor(type_spec=TensorSpec(shape=(1, 256, 52), dtype=tf.float32, name=None), name='tf.math.multiply_1/Mul:0', description=\"created by layer 'tf.math.multiply_1'\")\n\u001b[32minput_layer1_value\u001b[0m: layer_id=17: [[[-1.18584931e+00]\n  [-3.42822850e-01]\n  [-1.66491479e-01]\n  [-4.07292098e-01]\n  [-6.97446525e-01]\n  [-9.08542350e-02]\n  [-1.10052742e-01]\n  [ 4.18945551e-02]\n  [-3.77203107e-01]\n  [-1.40948200e+00]\n  [ 1.78791374e-01]\n  [-4.94807243e-01]\n  [-1.16943312e+00]\n  [ 9.27961692e-02]\n  [-4.65579301e-01]\n  [-4.85304236e-01]\n  [-6.94728568e-02]\n  [ 4.87223268e-03]\n  [-4.74047482e-01]\n  [-8.66031229e-01]\n  [-1.47985208e+00]\n  [ 1.41163304e-01]\n  [-7.91195273e-01]\n  [-1.54521883e-01]\n  [-7.33787477e-01]\n  [-8.89850259e-01]\n  [-1.02075666e-01]\n  [-4.85800326e-01]\n  [-5.63811064e-01]\n  [ 2.21134976e-01]\n  [-2.65836358e-01]\n  [ 2.05895990e-01]\n  [-2.13272259e-01]\n  [-1.06829429e+00]\n  [-2.33030185e-01]\n  [-1.16404235e+00]\n  [-5.30293941e-01]\n  [-3.24410051e-01]\n  [-1.08353198e+00]\n  [-1.31027967e-01]\n  [-1.88233662e+00]\n  [-3.25147778e-01]\n  [-6.28490984e-01]\n  [-2.91847020e-01]\n  [-1.04073358e+00]\n  [-5.22527456e-01]\n  [ 1.60738863e-02]\n  [-7.92471528e-01]\n  [-5.60993552e-01]\n  [-4.55173075e-01]\n  [-5.62901855e-01]\n  [-1.81775928e-01]\n  [ 2.04743877e-01]\n  [-7.08945036e-01]\n  [-4.04510409e-01]\n  [-2.24361286e-01]\n  [-3.01147580e-01]\n  [-1.17425941e-01]\n  [-4.78941053e-01]\n  [-1.83940709e-01]\n  [ 3.25774491e-01]\n  [-9.85467851e-01]\n  [ 7.32874125e-02]\n  [ 1.99002668e-01]\n  [-4.15991187e-01]\n  [ 7.46790618e-02]\n  [ 1.50822178e-02]\n  [-1.97450161e+00]\n  [ 2.14329764e-01]\n  [ 1.73755869e-01]\n  [-3.95377815e-01]\n  [-4.30851579e-01]\n  [-9.40297961e-01]\n  [-7.07582951e-01]\n  [-1.69367582e-01]\n  [-4.26941097e-01]\n  [-3.06929201e-01]\n  [-3.11432123e-01]\n  [-2.76470423e-01]\n  [-6.30528748e-01]\n  [-4.35933709e-01]\n  [ 4.21678901e-01]\n  [-1.08499527e+00]\n  [ 2.53841169e-02]\n  [-3.10694426e-01]\n  [-2.24836320e-01]\n  [ 2.22685412e-01]\n  [-2.02489495e-01]\n  [ 2.51479030e-01]\n  [-3.04232657e-01]\n  [-8.59097958e-01]\n  [-1.87150821e-01]\n  [-5.67519426e-01]\n  [-6.39738664e-02]\n  [-3.74841511e-01]\n  [-4.42803025e-01]\n  [-2.74173886e-01]\n  [-3.88060033e-01]\n  [-3.37614506e-01]\n  [-4.03864324e-01]\n  [-1.62992880e-01]\n  [-5.36249995e-01]\n  [-4.80737567e-01]\n  [-3.85500610e-01]\n  [-3.23369205e-01]\n  [-4.29570735e-01]\n  [-7.66336918e-01]\n  [-6.80848479e-01]\n  [-1.86637402e-01]\n  [-9.15399253e-01]\n  [-1.78174973e-01]\n  [-7.78773427e-02]\n  [-1.94221452e-01]\n  [-1.74971849e-01]\n  [-2.50578910e-01]\n  [-3.68636310e-01]\n  [ 1.52156770e-01]\n  [-3.38823646e-01]\n  [-2.69477844e-01]\n  [-9.22975540e-02]\n  [-4.83155370e-01]\n  [-2.44236439e-01]\n  [-1.45161808e-01]\n  [-5.01716852e-01]\n  [ 1.10045481e+00]\n  [-6.16221204e-02]\n  [-1.02082908e+00]\n  [-2.42255896e-01]\n  [-4.73854363e-01]\n  [-2.15337828e-01]\n  [-3.91518235e-01]\n  [-1.18583310e+00]\n  [ 4.21610296e-01]\n  [ 2.85620511e-01]\n  [-4.11847949e-01]\n  [-5.26067674e-01]\n  [-2.23244712e-01]\n  [-2.54454285e-01]\n  [-5.13410807e-01]\n  [-2.43472867e-03]\n  [-5.43649793e-01]\n  [-5.76030374e-01]\n  [-5.99915266e-01]\n  [-8.38902414e-01]\n  [-7.32984841e-01]\n  [-8.88353109e-01]\n  [-6.58637881e-02]\n  [-1.06131232e+00]\n  [-3.97217214e-01]\n  [ 6.67252094e-02]\n  [-1.02446496e+00]\n  [ 2.37837031e-01]\n  [-5.16962931e-02]\n  [-3.53991151e-01]\n  [-3.70737433e-01]\n  [ 2.63191238e-02]\n  [-5.49058497e-01]\n  [ 1.51301011e-01]\n  [-6.27680004e-01]\n  [-4.14912224e-01]\n  [-8.00569415e-01]\n  [-5.52258611e-01]\n  [-1.67246222e-01]\n  [-5.18685818e-01]\n  [-5.84971547e-01]\n  [-5.61562479e-01]\n  [-7.33379126e-01]\n  [-1.56902939e-01]\n  [-8.62789154e-01]\n  [-2.84758478e-01]\n  [ 1.19094253e-02]\n  [-5.04349470e-01]\n  [-5.18704057e-01]\n  [ 6.54321253e-01]\n  [-5.74866176e-01]\n  [ 2.56904215e-01]\n  [ 9.28339064e-02]\n  [ 3.74129951e-01]\n  [-1.64706647e-01]\n  [ 2.20240131e-01]\n  [-1.13105610e-01]\n  [-4.78118241e-01]\n  [ 3.12251057e-02]\n  [-3.54376972e-01]\n  [ 3.23951185e-01]\n  [-5.14860749e-01]\n  [-8.43525678e-03]\n  [-4.04884517e-01]\n  [-3.40720862e-01]\n  [-7.37334430e-01]\n  [-1.21237174e-01]\n  [ 2.18403816e-01]\n  [-4.67805862e-01]\n  [-3.67003828e-01]\n  [-2.69473046e-01]\n  [-3.63513768e-01]\n  [-1.01856256e+00]\n  [-1.34625584e-01]\n  [-1.75269032e+00]\n  [-2.17054442e-01]\n  [-4.12167430e-01]\n  [-8.69876027e-01]\n  [-8.43738317e-01]\n  [-3.74201000e-01]\n  [ 1.81994271e-02]\n  [-8.67486358e-01]\n  [-1.16522476e-01]\n  [ 1.46335363e-03]\n  [ 1.91358611e-01]\n  [-5.80145791e-02]\n  [-2.49890715e-01]\n  [-6.69357359e-01]\n  [-7.25370526e-01]\n  [-3.22588086e-01]\n  [-6.13744020e-01]\n  [-4.61089492e-01]\n  [-3.92134011e-01]\n  [-5.48507094e-01]\n  [-5.73261797e-01]\n  [-3.63762736e-01]\n  [-3.74279082e-01]\n  [-8.30524445e-01]\n  [-2.72078186e-01]\n  [-3.24523658e-01]\n  [-6.72598124e-01]\n  [-2.66571403e-01]\n  [-1.29612470e+00]\n  [-6.80104494e-01]\n  [-2.30719304e+00]\n  [ 7.40597919e-02]\n  [ 1.27452672e-01]\n  [ 2.71414388e-02]\n  [-1.05254698e+00]\n  [-1.57408535e-01]\n  [-6.96512699e-01]\n  [-1.71946955e+00]\n  [ 1.78758726e-01]\n  [ 5.70035517e-01]\n  [-2.87071019e-01]\n  [-3.59770417e-01]\n  [-3.67096782e-01]\n  [-1.04930431e-01]\n  [-2.66624713e+00]\n  [-4.45217550e-01]\n  [-8.67920041e-01]\n  [-3.60046566e-01]\n  [-1.93327576e-01]\n  [-1.22512341e+00]\n  [-4.51172024e-01]\n  [-6.07123561e-02]\n  [-2.71847397e-02]\n  [-2.60640264e-01]\n  [-3.48623395e-01]\n  [ 2.65382975e-01]\n  [-6.44869506e-01]\n  [-1.09184839e-01]]]\n\u001b[32mtf_layers_dict\u001b[0m: KerasTensor(type_spec=TensorSpec(shape=(1, 256, 52), dtype=tf.float32, name=None), name='tf.math.add_2/Add:0', description=\"created by layer 'tf.math.add_2'\")\n====================================================================================\n\u001b[32mlayer_type\u001b[0m: Const\n\u001b[32mlayer_id\u001b[0m: 19\n\u001b[32mtf_layers_dict_shape\u001b[0m: (3,)\n\u001b[32mtf_layers_dict_value\u001b[0m: [0 2 1]\n====================================================================================\n\u001b[32mlayer_type\u001b[0m: Transpose\n\u001b[32mlayer_id\u001b[0m: 20\n\u001b[32minput_layer0\u001b[0m: layer_id=18: KerasTensor(type_spec=TensorSpec(shape=(1, 256, 52), dtype=tf.float32, name=None), name='tf.math.add_2/Add:0', description=\"created by layer 'tf.math.add_2'\")\n\u001b[32minput_layer1_value\u001b[0m: layer_id=19: [0 2 1]\n\u001b[32mtf_layers_dict\u001b[0m: KerasTensor(type_spec=TensorSpec(shape=(1, 52, 256), dtype=tf.float32, name=None), name='tf.compat.v1.transpose_1/transpose:0', description=\"created by layer 'tf.compat.v1.transpose_1'\")\n====================================================================================\n\u001b[32mlayer_type\u001b[0m: ReLU\n\u001b[32mlayer_id\u001b[0m: 21\n\u001b[32minput_layer0\u001b[0m: layer_id=20: KerasTensor(type_spec=TensorSpec(shape=(1, 52, 256), dtype=tf.float32, name=None), name='tf.compat.v1.transpose_1/transpose:0', description=\"created by layer 'tf.compat.v1.transpose_1'\")\n\u001b[32mtf_layers_dict\u001b[0m: KerasTensor(type_spec=TensorSpec(shape=(1, 52, 256), dtype=tf.float32, name=None), name='tf.nn.relu/Relu:0', description=\"created by layer 'tf.nn.relu'\")\n====================================================================================\n\u001b[32mlayer_type\u001b[0m: ReLU\n\u001b[32mlayer_id\u001b[0m: 22\n\u001b[32minput_layer0\u001b[0m: layer_id=21: KerasTensor(type_spec=TensorSpec(shape=(1, 52, 256), dtype=tf.float32, name=None), name='tf.nn.relu/Relu:0', description=\"created by layer 'tf.nn.relu'\")\n\u001b[32mtf_layers_dict\u001b[0m: KerasTensor(type_spec=TensorSpec(shape=(1, 52, 256), dtype=tf.float32, name=None), name='tf.nn.relu_1/Relu:0', description=\"created by layer 'tf.nn.relu_1'\")\n====================================================================================\n\u001b[32mlayer_type\u001b[0m: Const\n\u001b[32mlayer_id\u001b[0m: 23\n\u001b[32mtf_layers_dict_shape\u001b[0m: (52,)\n\u001b[32mtf_layers_dict_value\u001b[0m: [ 0  7  8  9  1  4  2 31  5 10 11 12 13 14 15 16 17 18 19 20 21 22 23 24\n 25 26 27 28 29 30 32 33 34 35 36 37 38 39 40 41 42 43 44 45 46 47 48 49\n 50 51 15 27]\n====================================================================================\n\u001b[32mlayer_type\u001b[0m: Const\n\u001b[32mlayer_id\u001b[0m: 24\n\u001b[32mtf_layers_dict_shape\u001b[0m: (1,)\n\u001b[32mtf_layers_dict_value\u001b[0m: [1]\n====================================================================================\n\u001b[32mlayer_type\u001b[0m: Gather\n\u001b[32mlayer_id\u001b[0m: 25\n\u001b[32minput_layer0\u001b[0m: layer_id=22: KerasTensor(type_spec=TensorSpec(shape=(1, 52, 256), dtype=tf.float32, name=None), name='tf.nn.relu_1/Relu:0', description=\"created by layer 'tf.nn.relu_1'\")\n\u001b[32minput_layer1_value\u001b[0m: layer_id=23: [ 0  7  8  9  1  4  2 31  5 10 11 12 13 14 15 16 17 18 19 20 21 22 23 24\n 25 26 27 28 29 30 32 33 34 35 36 37 38 39 40 41 42 43 44 45 46 47 48 49\n 50 51 15 27]\n\u001b[32minput_layer2_value\u001b[0m: layer_id=24: [1]\n\u001b[32mtf_layers_dict\u001b[0m: KerasTensor(type_spec=TensorSpec(shape=(1, 52, 256), dtype=tf.float32, name=None), name='tf.compat.v1.gather/GatherV2:0', description=\"created by layer 'tf.compat.v1.gather'\")\n====================================================================================\n\u001b[32mlayer_type\u001b[0m: Const\n\u001b[32mlayer_id\u001b[0m: 26\n\u001b[32mtf_layers_dict_shape\u001b[0m: (3,)\n\u001b[32mtf_layers_dict_value\u001b[0m: [0 2 1]\n====================================================================================\n\u001b[32mlayer_type\u001b[0m: Transpose\n\u001b[32mlayer_id\u001b[0m: 27\n\u001b[32minput_layer0\u001b[0m: layer_id=25: KerasTensor(type_spec=TensorSpec(shape=(1, 52, 256), dtype=tf.float32, name=None), name='tf.compat.v1.gather/GatherV2:0', description=\"created by layer 'tf.compat.v1.gather'\")\n\u001b[32minput_layer1_value\u001b[0m: layer_id=26: [0 2 1]\n\u001b[32mtf_layers_dict\u001b[0m: KerasTensor(type_spec=TensorSpec(shape=(1, 256, 52), dtype=tf.float32, name=None), name='tf.compat.v1.transpose_2/transpose:0', description=\"created by layer 'tf.compat.v1.transpose_2'\")\n====================================================================================\n\u001b[32mlayer_type\u001b[0m: Const\n\u001b[32mlayer_id\u001b[0m: 28\n\u001b[32mtf_layers_dict_shape\u001b[0m: (128, 256, 1)\n\u001b[32mtf_layers_dict_value\u001b[0m: [[[ 0.17572843]\n  [-0.86228985]\n  [-0.22473174]\n  ...\n  [-0.02037231]\n  [-0.16050774]\n  [-0.33623102]]\n\n [[ 0.06399412]\n  [-0.8418231 ]\n  [-0.32174847]\n  ...\n  [ 0.10817543]\n  [-0.2890759 ]\n  [-0.3640595 ]]\n\n [[-0.17567948]\n  [ 0.7325648 ]\n  [ 0.00167586]\n  ...\n  [-0.1700706 ]\n  [-0.02278158]\n  [ 0.5338833 ]]\n\n ...\n\n [[-0.01036513]\n  [ 0.6468424 ]\n  [ 0.02541656]\n  ...\n  [-0.03920887]\n  [ 0.03510026]\n  [ 0.40955478]]\n\n [[ 0.05695576]\n  [-0.7397595 ]\n  [-0.07230431]\n  ...\n  [ 0.04744004]\n  [-0.05970418]\n  [-0.21017787]]\n\n [[ 0.12885447]\n  [-0.6874689 ]\n  [-0.10298474]\n  ...\n  [-0.10392177]\n  [-0.04586038]\n  [-0.43686104]]]\n====================================================================================\n\u001b[31mERROR:\u001b[0m Exception encountered when calling layer \"tf.nn.conv1d\" (type TFOpLambda).\n\nDepth of input (52) is not a multiple of input depth of filter (256) for '{{node tf.nn.conv1d/conv1d}} = Conv2D[T=DT_FLOAT, data_format=\"NHWC\", dilations=[1, 1, 1, 1], explicit_paddings=[], padding=\"VALID\", strides=[1, 1, 1, 1], use_cudnn_on_gpu=true](tf.nn.conv1d/conv1d/ExpandDims, tf.nn.conv1d/conv1d/ExpandDims_1)' with input shapes: [1,1,256,52], [1,1,256,128].\n\nCall arguments received by layer \"tf.nn.conv1d\" (type TFOpLambda):\n  • input=tf.Tensor(shape=(1, 256, 52), dtype=float32)\n  • filters=array([[[ 0.17572843,  0.06399412, -0.17567948, ..., -0.01036513,\n          0.05695576,  0.12885447],\n        [-0.86228985, -0.8418231 ,  0.7325648 , ...,  0.6468424 ,\n         -0.7397595 , -0.6874689 ],\n        [-0.22473174, -0.32174847,  0.00167586, ...,  0.02541656,\n         -0.07230431, -0.10298474],\n        ...,\n        [-0.02037231,  0.10817543, -0.1700706 , ..., -0.03920887,\n          0.04744004, -0.10392177],\n        [-0.16050774, -0.2890759 , -0.02278158, ...,  0.03510026,\n         -0.05970418, -0.04586038],\n        [-0.33623102, -0.3640595 ,  0.5338833 , ...,  0.40955478,\n         -0.21017787, -0.43686104]]], dtype=float32)\n  • stride=['1']\n  • padding='VALID'\n  • data_format=NWC\n  • dilations=['1']\n  • name=None\n\u001b[31mERROR:\u001b[0m model_path  : openvino/model_pos.simplified.xml\n\u001b[31mERROR:\u001b[0m weights_path: openvino/model_pos.simplified.bin\n\u001b[31mERROR:\u001b[0m layer_id    : 29\n\u001b[31mERROR:\u001b[0m input_layer0 layer_id=27: KerasTensor(type_spec=TensorSpec(shape=(1, 256, 52), dtype=tf.float32, name=None), name='tf.compat.v1.transpose_2/transpose:0', description=\"created by layer 'tf.compat.v1.transpose_2'\")\n\u001b[31mERROR:\u001b[0m input_layer1 layer_id=28: Const(ndarray).shape  (128, 256, 1)\narray([[[ 0.17572843],\n        [-0.86228985],\n        [-0.22473174],\n        ...,\n        [-0.02037231],\n        [-0.16050774],\n        [-0.33623102]],\n\n       [[ 0.06399412],\n        [-0.8418231 ],\n        [-0.32174847],\n        ...,\n        [ 0.10817543],\n        [-0.2890759 ],\n        [-0.3640595 ]],\n\n       [[-0.17567948],\n        [ 0.7325648 ],\n        [ 0.00167586],\n        ...,\n        [-0.1700706 ],\n        [-0.02278158],\n        [ 0.5338833 ]],\n\n       ...,\n\n       [[-0.01036513],\n        [ 0.6468424 ],\n        [ 0.02541656],\n        ...,\n        [-0.03920887],\n        [ 0.03510026],\n        [ 0.40955478]],\n\n       [[ 0.05695576],\n        [-0.7397595 ],\n        [-0.07230431],\n        ...,\n        [ 0.04744004],\n        [-0.05970418],\n        [-0.21017787]],\n\n       [[ 0.12885447],\n        [-0.6874689 ],\n        [-0.10298474],\n        ...,\n        [-0.10392177],\n        [-0.04586038],\n        [-0.43686104]]], dtype=float32)\n\u001b[31mERROR:\u001b[0m The trace log is below.\n\u001b[31mERROR:\u001b[0m Please refer to 6-7 in the README first. https://github.com/PINTO0309/openvino2tensorflow\nTraceback (most recent call last):\n  File \"/usr/local/bin/openvino2tensorflow\", line 1020, in convert\n    tf_layers_dict[layer_id] = tf.nn.conv1d(\n  File \"/usr/local/lib/python3.8/dist-packages/tensorflow/python/util/traceback_utils.py\", line 153, in error_handler\n    raise e.with_traceback(filtered_tb) from None\n  File \"/usr/local/lib/python3.8/dist-packages/keras/layers/core/tf_op_layer.py\", line 107, in handle\n    return TFOpLambda(op)(*args, **kwargs)\n  File \"/usr/local/lib/python3.8/dist-packages/keras/utils/traceback_utils.py\", line 67, in error_handler\n    raise e.with_traceback(filtered_tb) from None\nValueError: Exception encountered when calling layer \"tf.nn.conv1d\" (type TFOpLambda).\n\nDepth of input (52) is not a multiple of input depth of filter (256) for '{{node tf.nn.conv1d/conv1d}} = Conv2D[T=DT_FLOAT, data_format=\"NHWC\", dilations=[1, 1, 1, 1], explicit_paddings=[], padding=\"VALID\", strides=[1, 1, 1, 1], use_cudnn_on_gpu=true](tf.nn.conv1d/conv1d/ExpandDims, tf.nn.conv1d/conv1d/ExpandDims_1)' with input shapes: [1,1,256,52], [1,1,256,128].\n\nCall arguments received by layer \"tf.nn.conv1d\" (type TFOpLambda):\n  • input=tf.Tensor(shape=(1, 256, 52), dtype=float32)\n  • filters=array([[[ 0.17572843,  0.06399412, -0.17567948, ..., -0.01036513,\n          0.05695576,  0.12885447],\n        [-0.86228985, -0.8418231 ,  0.7325648 , ...,  0.6468424 ,\n         -0.7397595 , -0.6874689 ],\n        [-0.22473174, -0.32174847,  0.00167586, ...,  0.02541656,\n         -0.07230431, -0.10298474],\n        ...,\n        [-0.02037231,  0.10817543, -0.1700706 , ..., -0.03920887,\n          0.04744004, -0.10392177],\n        [-0.16050774, -0.2890759 , -0.02278158, ...,  0.03510026,\n         -0.05970418, -0.04586038],\n        [-0.33623102, -0.3640595 ,  0.5338833 , ...,  0.40955478,\n         -0.21017787, -0.43686104]]], dtype=float32)\n  • stride=['1']\n  • padding='VALID'\n  • data_format=NWC\n  • dilations=['1']\n  • name=None\n"
          ]
        }
      ],
      "source": [
        "import os \n",
        "from mltk.utils.shell_cmd import run_shell_cmd\n",
        "\n",
        "openvino2tensorflow_out_dir = f'openvino2tensorflow'\n",
        "openvino_xml_name = os.path.basename(simplified_onnx_model_path)[:-len('.onnx')] + '.xml'\n",
        "\n",
        "\n",
        "if os.name == 'nt':\n",
        "  openvino2tensorflow_exe_cmd = [sys.executable, os.path.join(os.path.dirname(sys.executable), 'openvino2tensorflow')]\n",
        "else:\n",
        "  openvino2tensorflow_exe_cmd = ['openvino2tensorflow']\n",
        "\n",
        "print(f'Generating openvino2tensorflow model at: {openvino2tensorflow_out_dir} ...')\n",
        "cmd = openvino2tensorflow_exe_cmd + [ \n",
        "    '--model_path', f'{openvino_out_dir}/{openvino_xml_name}',\n",
        "    '--model_output_path', openvino2tensorflow_out_dir,\n",
        "    '--output_saved_model',\n",
        "    '--output_no_quant_float32_tflite'\n",
        "]\n",
        "\n",
        "retcode, retmsg = run_shell_cmd(cmd)\n",
        "assert retcode == 0, retmsg\n",
        "print('done')"
      ],
      "id": "MmA78R8euJC9"
    },
    {
      "cell_type": "code",
      "execution_count": null,
      "metadata": {
        "id": "cizDUPZBuJC_",
        "outputId": "4bc10b82-a8cd-48bd-c5e1-3296460d14de",
        "colab": {
          "base_uri": "https://localhost:8080/",
          "height": 507
        }
      },
      "outputs": [
        {
          "output_type": "error",
          "ename": "OSError",
          "evalue": "ignored",
          "traceback": [
            "\u001b[0;31m---------------------------------------------------------------------------\u001b[0m",
            "\u001b[0;31mOSError\u001b[0m                                   Traceback (most recent call last)",
            "\u001b[0;32m<ipython-input-146-3dfb82ba16be>\u001b[0m in \u001b[0;36m<module>\u001b[0;34m\u001b[0m\n\u001b[1;32m      3\u001b[0m \u001b[0mtflite_int8_model_path\u001b[0m \u001b[0;34m=\u001b[0m \u001b[0;34mf'model_pos.int8.tflite'\u001b[0m\u001b[0;34m\u001b[0m\u001b[0;34m\u001b[0m\u001b[0m\n\u001b[1;32m      4\u001b[0m \u001b[0;34m\u001b[0m\u001b[0m\n\u001b[0;32m----> 5\u001b[0;31m \u001b[0mconverter\u001b[0m \u001b[0;34m=\u001b[0m \u001b[0mtf\u001b[0m\u001b[0;34m.\u001b[0m\u001b[0mlite\u001b[0m\u001b[0;34m.\u001b[0m\u001b[0mTFLiteConverter\u001b[0m\u001b[0;34m.\u001b[0m\u001b[0mfrom_saved_model\u001b[0m\u001b[0;34m(\u001b[0m\u001b[0;34m\"/content/openvino2tensorflow/model_float32.tflite\"\u001b[0m\u001b[0;34m)\u001b[0m\u001b[0;34m\u001b[0m\u001b[0;34m\u001b[0m\u001b[0m\n\u001b[0m\u001b[1;32m      6\u001b[0m \u001b[0;34m\u001b[0m\u001b[0m\n\u001b[1;32m      7\u001b[0m \u001b[0;32mdef\u001b[0m \u001b[0mrepresentative_dataset\u001b[0m\u001b[0;34m(\u001b[0m\u001b[0;34m)\u001b[0m\u001b[0;34m:\u001b[0m\u001b[0;34m\u001b[0m\u001b[0;34m\u001b[0m\u001b[0m\n",
            "\u001b[0;32m/usr/local/lib/python3.8/dist-packages/tensorflow/lite/python/lite.py\u001b[0m in \u001b[0;36mfrom_saved_model\u001b[0;34m(cls, saved_model_dir, signature_keys, tags)\u001b[0m\n\u001b[1;32m   1784\u001b[0m \u001b[0;34m\u001b[0m\u001b[0m\n\u001b[1;32m   1785\u001b[0m     \u001b[0;32mwith\u001b[0m \u001b[0mcontext\u001b[0m\u001b[0;34m.\u001b[0m\u001b[0meager_mode\u001b[0m\u001b[0;34m(\u001b[0m\u001b[0;34m)\u001b[0m\u001b[0;34m:\u001b[0m\u001b[0;34m\u001b[0m\u001b[0;34m\u001b[0m\u001b[0m\n\u001b[0;32m-> 1786\u001b[0;31m       \u001b[0msaved_model\u001b[0m \u001b[0;34m=\u001b[0m \u001b[0m_load\u001b[0m\u001b[0;34m(\u001b[0m\u001b[0msaved_model_dir\u001b[0m\u001b[0;34m,\u001b[0m \u001b[0mtags\u001b[0m\u001b[0;34m)\u001b[0m\u001b[0;34m\u001b[0m\u001b[0;34m\u001b[0m\u001b[0m\n\u001b[0m\u001b[1;32m   1787\u001b[0m     \u001b[0;32mif\u001b[0m \u001b[0;32mnot\u001b[0m \u001b[0msignature_keys\u001b[0m\u001b[0;34m:\u001b[0m\u001b[0;34m\u001b[0m\u001b[0;34m\u001b[0m\u001b[0m\n\u001b[1;32m   1788\u001b[0m       \u001b[0msignature_keys\u001b[0m \u001b[0;34m=\u001b[0m \u001b[0msaved_model\u001b[0m\u001b[0;34m.\u001b[0m\u001b[0msignatures\u001b[0m\u001b[0;34m\u001b[0m\u001b[0;34m\u001b[0m\u001b[0m\n",
            "\u001b[0;32m/usr/local/lib/python3.8/dist-packages/tensorflow/python/saved_model/load.py\u001b[0m in \u001b[0;36mload\u001b[0;34m(export_dir, tags, options)\u001b[0m\n\u001b[1;32m    780\u001b[0m   \u001b[0;32mif\u001b[0m \u001b[0misinstance\u001b[0m\u001b[0;34m(\u001b[0m\u001b[0mexport_dir\u001b[0m\u001b[0;34m,\u001b[0m \u001b[0mos\u001b[0m\u001b[0;34m.\u001b[0m\u001b[0mPathLike\u001b[0m\u001b[0;34m)\u001b[0m\u001b[0;34m:\u001b[0m\u001b[0;34m\u001b[0m\u001b[0;34m\u001b[0m\u001b[0m\n\u001b[1;32m    781\u001b[0m     \u001b[0mexport_dir\u001b[0m \u001b[0;34m=\u001b[0m \u001b[0mos\u001b[0m\u001b[0;34m.\u001b[0m\u001b[0mfspath\u001b[0m\u001b[0;34m(\u001b[0m\u001b[0mexport_dir\u001b[0m\u001b[0;34m)\u001b[0m\u001b[0;34m\u001b[0m\u001b[0;34m\u001b[0m\u001b[0m\n\u001b[0;32m--> 782\u001b[0;31m   \u001b[0mresult\u001b[0m \u001b[0;34m=\u001b[0m \u001b[0mload_partial\u001b[0m\u001b[0;34m(\u001b[0m\u001b[0mexport_dir\u001b[0m\u001b[0;34m,\u001b[0m \u001b[0;32mNone\u001b[0m\u001b[0;34m,\u001b[0m \u001b[0mtags\u001b[0m\u001b[0;34m,\u001b[0m \u001b[0moptions\u001b[0m\u001b[0;34m)\u001b[0m\u001b[0;34m[\u001b[0m\u001b[0;34m\"root\"\u001b[0m\u001b[0;34m]\u001b[0m\u001b[0;34m\u001b[0m\u001b[0;34m\u001b[0m\u001b[0m\n\u001b[0m\u001b[1;32m    783\u001b[0m   \u001b[0;32mreturn\u001b[0m \u001b[0mresult\u001b[0m\u001b[0;34m\u001b[0m\u001b[0;34m\u001b[0m\u001b[0m\n\u001b[1;32m    784\u001b[0m \u001b[0;34m\u001b[0m\u001b[0m\n",
            "\u001b[0;32m/usr/local/lib/python3.8/dist-packages/tensorflow/python/saved_model/load.py\u001b[0m in \u001b[0;36mload_partial\u001b[0;34m(export_dir, filters, tags, options)\u001b[0m\n\u001b[1;32m    885\u001b[0m     \u001b[0mtags\u001b[0m \u001b[0;34m=\u001b[0m \u001b[0mnest\u001b[0m\u001b[0;34m.\u001b[0m\u001b[0mflatten\u001b[0m\u001b[0;34m(\u001b[0m\u001b[0mtags\u001b[0m\u001b[0;34m)\u001b[0m\u001b[0;34m\u001b[0m\u001b[0;34m\u001b[0m\u001b[0m\n\u001b[1;32m    886\u001b[0m   saved_model_proto, debug_info = (\n\u001b[0;32m--> 887\u001b[0;31m       loader_impl.parse_saved_model_with_debug_info(export_dir))\n\u001b[0m\u001b[1;32m    888\u001b[0m \u001b[0;34m\u001b[0m\u001b[0m\n\u001b[1;32m    889\u001b[0m   if (len(saved_model_proto.meta_graphs) == 1 and\n",
            "\u001b[0;32m/usr/local/lib/python3.8/dist-packages/tensorflow/python/saved_model/loader_impl.py\u001b[0m in \u001b[0;36mparse_saved_model_with_debug_info\u001b[0;34m(export_dir)\u001b[0m\n\u001b[1;32m     55\u001b[0m     \u001b[0mparsed\u001b[0m\u001b[0;34m.\u001b[0m \u001b[0mMissing\u001b[0m \u001b[0mgraph\u001b[0m \u001b[0mdebug\u001b[0m \u001b[0minfo\u001b[0m \u001b[0mfile\u001b[0m \u001b[0;32mis\u001b[0m \u001b[0mfine\u001b[0m\u001b[0;34m.\u001b[0m\u001b[0;34m\u001b[0m\u001b[0;34m\u001b[0m\u001b[0m\n\u001b[1;32m     56\u001b[0m   \"\"\"\n\u001b[0;32m---> 57\u001b[0;31m   \u001b[0msaved_model\u001b[0m \u001b[0;34m=\u001b[0m \u001b[0mparse_saved_model\u001b[0m\u001b[0;34m(\u001b[0m\u001b[0mexport_dir\u001b[0m\u001b[0;34m)\u001b[0m\u001b[0;34m\u001b[0m\u001b[0;34m\u001b[0m\u001b[0m\n\u001b[0m\u001b[1;32m     58\u001b[0m \u001b[0;34m\u001b[0m\u001b[0m\n\u001b[1;32m     59\u001b[0m   debug_info_path = file_io.join(\n",
            "\u001b[0;32m/usr/local/lib/python3.8/dist-packages/tensorflow/python/saved_model/loader_impl.py\u001b[0m in \u001b[0;36mparse_saved_model\u001b[0;34m(export_dir)\u001b[0m\n\u001b[1;32m    113\u001b[0m       \u001b[0;32mraise\u001b[0m \u001b[0mIOError\u001b[0m\u001b[0;34m(\u001b[0m\u001b[0;34mf\"Cannot parse file {path_to_pbtxt}: {str(e)}.\"\u001b[0m\u001b[0;34m)\u001b[0m\u001b[0;34m\u001b[0m\u001b[0;34m\u001b[0m\u001b[0m\n\u001b[1;32m    114\u001b[0m   \u001b[0;32melse\u001b[0m\u001b[0;34m:\u001b[0m\u001b[0;34m\u001b[0m\u001b[0;34m\u001b[0m\u001b[0m\n\u001b[0;32m--> 115\u001b[0;31m     raise IOError(\n\u001b[0m\u001b[1;32m    116\u001b[0m         \u001b[0;34mf\"SavedModel file does not exist at: {export_dir}{os.path.sep}\"\u001b[0m\u001b[0;34m\u001b[0m\u001b[0;34m\u001b[0m\u001b[0m\n\u001b[1;32m    117\u001b[0m         \u001b[0;34mf\"{{{constants.SAVED_MODEL_FILENAME_PBTXT}|\"\u001b[0m\u001b[0;34m\u001b[0m\u001b[0;34m\u001b[0m\u001b[0m\n",
            "\u001b[0;31mOSError\u001b[0m: SavedModel file does not exist at: /content/openvino2tensorflow/model_float32.tflite/{saved_model.pbtxt|saved_model.pb}"
          ]
        }
      ],
      "source": [
        "import tensorflow as tf \n",
        "\n",
        "tflite_int8_model_path = f'model_pos.int8.tflite'\n",
        "\n",
        "converter = tf.lite.TFLiteConverter.from_saved_model(\"/content/openvino2tensorflow/model_float32.tflite\")\n",
        "\n",
        "def representative_dataset():\n",
        "    for i, sample in enumerate(x_test):\n",
        "        yield [np.expand_dims(sample, axis=0)]\n",
        "        if i >= 1000: # We only need a small portion of the dataset to do the quantization \n",
        "            break\n",
        "\n",
        "converter.optimizations = [tf.lite.Optimize.DEFAULT]\n",
        "converter.target_spec.supported_ops = [tf.lite.OpsSet.TFLITE_BUILTINS_INT8] # We only want to use int8 kernels\n",
        "converter.inference_input_type = tf.float32 # Can also be tf.int8\n",
        "converter.inference_output_type = tf.float32  # Can also be tf.int8\n",
        "converter.representative_dataset = representative_dataset\n",
        "\n",
        "print(f'Generating {tflite_int8_model_path} ...')\n",
        "tflite_quant_model = converter.convert()\n",
        "\n",
        "with open(tflite_int8_model_path, 'wb') as f:\n",
        "    f.write(tflite_quant_model)\n",
        "\n",
        "print('done')"
      ],
      "id": "cizDUPZBuJC_"
    },
    {
      "cell_type": "code",
      "source": [],
      "metadata": {
        "id": "3hAySKafhNhT"
      },
      "id": "3hAySKafhNhT",
      "execution_count": null,
      "outputs": []
    }
  ],
  "metadata": {
    "kernelspec": {
      "display_name": "tf",
      "language": "python",
      "name": "python3"
    },
    "language_info": {
      "codemirror_mode": {
        "name": "ipython",
        "version": 3
      },
      "file_extension": ".py",
      "mimetype": "text/x-python",
      "name": "python",
      "nbconvert_exporter": "python",
      "pygments_lexer": "ipython3",
      "version": "3.9.13"
    },
    "vscode": {
      "interpreter": {
        "hash": "e8c5aa02ad2f9b884e6ca8f6c9c223757f912f9a095b0ea45ea37d9f84f701e7"
      }
    },
    "colab": {
      "provenance": [],
      "collapsed_sections": [
        "81ibHegQVs_O",
        "7f58e7ad",
        "dTwNooLt50wt"
      ],
      "machine_shape": "hm",
      "include_colab_link": true
    },
    "accelerator": "GPU",
    "gpuClass": "premium"
  },
  "nbformat": 4,
  "nbformat_minor": 5
}